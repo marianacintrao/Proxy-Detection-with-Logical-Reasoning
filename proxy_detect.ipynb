{
 "cells": [
  {
   "cell_type": "markdown",
   "id": "aaa94a67",
   "metadata": {},
   "source": [
    "## Imports"
   ]
  },
  {
   "cell_type": "code",
   "execution_count": 1,
   "id": "61b1333d",
   "metadata": {},
   "outputs": [],
   "source": [
    "import os\n",
    "import sys\n",
    "\n",
    "import io\n",
    "from contextlib import redirect_stdout\n",
    "\n",
    "sys.path.insert(0, os.getcwd() + '/python_scripts')\n",
    "\n",
    "from transform_data import csv_to_clingo, undersample_csv_to_clingo\n",
    "from single_proxy import get_single_proxies\n",
    "from multi_proxy_choice_rules import get_proxy_clusters_choice_rules\n",
    "from multi_proxy_hardcoded import get_proxy_clusters_hardcoded\n",
    "from multi_proxy_undersampled import process_potential_implications, check_implication\n"
   ]
  },
  {
   "cell_type": "markdown",
   "id": "18d3d55b",
   "metadata": {},
   "source": [
    "## General info\n",
    "\n",
    "* Whenever default values are meantioned, they are as follows:\n",
    "\n",
    "| Attribute | Default Value |\n",
    "|---|---|\n",
    "| Minimum implication probability | 80 |\n",
    "| Maximum incidence probability | 5 |\n",
    "| Minimum proxy cluster size | 1 |\n",
    "| Maximum proxy cluster size | 3 |\n",
    "\n",
    "* All the above mentioned attribute values should be **integers**\n",
    "* There may be issues with running clingo programs on jupyter notebook. For example, a `IOPub data rate exceeded` might occur. In this case, it can be useful to run the required instructions on an external python file or in a command line \n",
    "* Calls to functions from files in the `python_scripts` directory should be done in the root of this repo"
   ]
  },
  {
   "cell_type": "markdown",
   "id": "632728e5",
   "metadata": {},
   "source": [
    "---"
   ]
  },
  {
   "cell_type": "markdown",
   "id": "20d0c756",
   "metadata": {},
   "source": [
    "## .csv data transformation"
   ]
  },
  {
   "cell_type": "markdown",
   "id": "ae1364f8",
   "metadata": {},
   "source": [
    " **⚠ Edit cell below** to use preferred dataset"
   ]
  },
  {
   "cell_type": "code",
   "execution_count": 2,
   "id": "fa5251fc",
   "metadata": {},
   "outputs": [],
   "source": [
    "sourcedatafolder = \"example_datasets_no_ordinals/\"\n",
    "outdatafolder = \"clingo_data/\"\n",
    "\n",
    "dataset = \"student-performance-por\"\n",
    "protected_attributes = [\"sex\"]\n",
    "outcome_attribute = \"G3\"\n",
    "\n",
    "# dataset = \"adult\"\n",
    "# protected_attributes = [\"gender\", \"race\"]\n",
    "# outcome_attribute = \"income\"\n",
    "\n",
    "# dataset = \"bank-marketing\"\n",
    "# protected_attributes = [\"marital\"]\n",
    "# outcome_attribute = \"deposit\"\n",
    "\n",
    "# dataset = \"compas\"\n",
    "# protected_attributes = [\"race\", \"sex\"]\n",
    "# outcome_attribute = \"is_violent_recid\"\n",
    "\n",
    "# dataset = \"german-credit\"\n",
    "# protected_attributes = [\"age_cat\"]\n",
    "# outcome_attribute = \"class\""
   ]
  },
  {
   "cell_type": "markdown",
   "id": "74082177",
   "metadata": {},
   "source": [
    "---"
   ]
  },
  {
   "cell_type": "markdown",
   "id": "3ab2d53a",
   "metadata": {},
   "source": [
    "Creating output directory if it does not exist already"
   ]
  },
  {
   "cell_type": "code",
   "execution_count": 3,
   "id": "985426c4",
   "metadata": {},
   "outputs": [],
   "source": [
    "!mkdir -p $outdatafolder"
   ]
  },
  {
   "cell_type": "markdown",
   "id": "12732039",
   "metadata": {},
   "source": [
    "Creating data file readable by clingo programs"
   ]
  },
  {
   "cell_type": "code",
   "execution_count": 4,
   "id": "8da9d6c9",
   "metadata": {},
   "outputs": [],
   "source": [
    "csv_to_clingo(sourcedatafolder, dataset, outdatafolder, protected_attributes, outcome_attribute)"
   ]
  },
  {
   "cell_type": "markdown",
   "id": "432ddede",
   "metadata": {},
   "source": [
    " **⚠ Resulting file name** should be the following `datafile`:"
   ]
  },
  {
   "cell_type": "code",
   "execution_count": 5,
   "id": "5b7ecfdc",
   "metadata": {},
   "outputs": [],
   "source": [
    "datafile = outdatafolder + \"data-\" + dataset + \".lp\""
   ]
  },
  {
   "cell_type": "markdown",
   "id": "24a803e3",
   "metadata": {},
   "source": [
    "---"
   ]
  },
  {
   "cell_type": "markdown",
   "id": "63f90a2b",
   "metadata": {},
   "source": [
    "# Single proxy discovery"
   ]
  },
  {
   "cell_type": "markdown",
   "id": "0ef60c6d",
   "metadata": {},
   "source": [
    "## Alternative 1 - running clingo directly"
   ]
  },
  {
   "cell_type": "code",
   "execution_count": 6,
   "id": "884a0d8a",
   "metadata": {},
   "outputs": [
    {
     "name": "stdout",
     "output_type": "stream",
     "text": [
      "clingo version 5.6.2\n",
      "Reading from ...o_data/data-student-performance-por.lp ...\n",
      "Solving...\n",
      "Answer: 1\n",
      "count_facts(11682) count_items(649) outcome(\"G3\") protected(\"sex\")\n",
      "SATISFIABLE\n",
      "\n",
      "Models       : 1\n",
      "Calls        : 1\n",
      "Time         : 0.194s (Solving: 0.00s 1st Model: 0.00s Unsat: 0.00s)\n",
      "CPU Time     : 0.155s\n"
     ]
    }
   ],
   "source": [
    "!clingo $datafile clingo_scripts/single_proxy_default.lp"
   ]
  },
  {
   "cell_type": "markdown",
   "id": "835cabae",
   "metadata": {},
   "source": [
    "## Alternative 2 - running clingo through python "
   ]
  },
  {
   "cell_type": "markdown",
   "id": "59fb940b",
   "metadata": {},
   "source": [
    "```\n",
    "get_single_proxies(\n",
    "    datafile: str, \n",
    "    min_implication_probability: optional int, \n",
    "    min_incidence_probability: optional int,\n",
    ")\n",
    "```"
   ]
  },
  {
   "cell_type": "markdown",
   "id": "64f5dac3",
   "metadata": {},
   "source": [
    "### Alternative 2.1 - using default values"
   ]
  },
  {
   "cell_type": "code",
   "execution_count": 7,
   "id": "096c1080",
   "metadata": {},
   "outputs": [
    {
     "name": "stdout",
     "output_type": "stream",
     "text": [
      "protected(\"sex\") outcome(\"G3\") count_items(649) count_facts(11682)\n"
     ]
    }
   ],
   "source": [
    "get_single_proxies(datafile)"
   ]
  },
  {
   "cell_type": "markdown",
   "id": "09297e69",
   "metadata": {},
   "source": [
    "### Alternative 2.2 - customizing minimum implication and incidence proabilities"
   ]
  },
  {
   "cell_type": "code",
   "execution_count": 8,
   "id": "3b4949fc",
   "metadata": {},
   "outputs": [
    {
     "name": "stdout",
     "output_type": "stream",
     "text": [
      "protected(\"sex\") outcome(\"G3\") count_items(649) implication(\"absences\",\"1\",\"sex\",\"F\",91,1) count_facts(11682)\n"
     ]
    }
   ],
   "source": [
    "get_single_proxies(datafile, 85, 1)"
   ]
  },
  {
   "cell_type": "markdown",
   "id": "6ca1e1a0",
   "metadata": {},
   "source": [
    "---"
   ]
  },
  {
   "cell_type": "markdown",
   "id": "1805e090",
   "metadata": {},
   "source": [
    "# Mutliple proxy discovery"
   ]
  },
  {
   "cell_type": "markdown",
   "id": "b5254526",
   "metadata": {},
   "source": [
    "## Choice Rules method"
   ]
  },
  {
   "cell_type": "markdown",
   "id": "5f28df0f",
   "metadata": {},
   "source": [
    "### Alternative 1 - running clingo directly\n",
    "⚠ This method is **unadvised** since it potentially takes a longer runtime.\n",
    "It will use the mentioned default values."
   ]
  },
  {
   "cell_type": "code",
   "execution_count": 9,
   "id": "fda89b18",
   "metadata": {},
   "outputs": [],
   "source": [
    "#!clingo -W none $datafile clingo_scripts/multi_proxy_choice_rules_default.lp 0"
   ]
  },
  {
   "cell_type": "markdown",
   "id": "43a8da5a",
   "metadata": {},
   "source": [
    "### Alternative 2 - running clingo though python"
   ]
  },
  {
   "cell_type": "markdown",
   "id": "f20362a2",
   "metadata": {},
   "source": [
    "```\n",
    "get_proxy_clusters_choice_rules(\n",
    "    datafile: str, \n",
    "    min_implication_probability: optional int, \n",
    "    min_incidence_probability: optional int,\n",
    "    min_cluster_size: optional int,\n",
    "    max_cluster_size: optional int\n",
    ")\n",
    "```"
   ]
  },
  {
   "cell_type": "markdown",
   "id": "a3fd59b3",
   "metadata": {},
   "source": [
    "#### Alternative 2.1 - using default values"
   ]
  },
  {
   "cell_type": "code",
   "execution_count": 10,
   "id": "12bd4865",
   "metadata": {
    "scrolled": true
   },
   "outputs": [
    {
     "name": "stdout",
     "output_type": "stream",
     "text": [
      "UNSAT\n",
      "proxy(\"Pstatus\",\"A\") proxy(\"romantic\",\"yes\") implication(\"sex\",\"F\",80,5) count_attributes_in_cluster(2)\n",
      "proxy(\"famsize\",\"GT3\") proxy(\"Pstatus\",\"A\") implication(\"sex\",\"F\",81,5) count_attributes_in_cluster(2)\n",
      "proxy(\"Mjob\",\"at_home\") proxy(\"activities\",\"no\") implication(\"sex\",\"F\",80,11) count_attributes_in_cluster(2)\n",
      "SAT\n",
      "proxy(\"Mjob\",\"at_home\") proxy(\"higher\",\"yes\") proxy(\"internet\",\"yes\") implication(\"sex\",\"F\",80,9) count_attributes_in_cluster(3)\n",
      "proxy(\"Mjob\",\"at_home\") proxy(\"guardian\",\"mother\") proxy(\"Fjob\",\"other\") implication(\"sex\",\"F\",80,8) count_attributes_in_cluster(3)\n",
      "proxy(\"Mjob\",\"at_home\") proxy(\"paid\",\"no\") proxy(\"absences\",\"0\") implication(\"sex\",\"F\",82,7) count_attributes_in_cluster(3)\n",
      "proxy(\"Mjob\",\"at_home\") proxy(\"schoolsup\",\"no\") proxy(\"absences\",\"0\") implication(\"sex\",\"F\",81,7) count_attributes_in_cluster(3)\n",
      "proxy(\"Mjob\",\"at_home\") proxy(\"Fjob\",\"other\") proxy(\"famsup\",\"yes\") implication(\"sex\",\"F\",87,7) count_attributes_in_cluster(3)\n",
      "proxy(\"Mjob\",\"at_home\") proxy(\"Fjob\",\"other\") proxy(\"school\",\"MS\") implication(\"sex\",\"F\",84,6) count_attributes_in_cluster(3)\n",
      "proxy(\"Mjob\",\"at_home\") proxy(\"absences\",\"0\") proxy(\"school\",\"MS\") implication(\"sex\",\"F\",80,5) count_attributes_in_cluster(3)\n",
      "proxy(\"Pstatus\",\"T\") proxy(\"romantic\",\"yes\") proxy(\"reason\",\"reputation\") implication(\"sex\",\"F\",83,5) count_attributes_in_cluster(3)\n",
      "proxy(\"activities\",\"no\") proxy(\"Fjob\",\"other\") proxy(\"romantic\",\"yes\") implication(\"sex\",\"F\",81,9) count_attributes_in_cluster(3)\n",
      "proxy(\"activities\",\"no\") proxy(\"romantic\",\"yes\") proxy(\"school\",\"MS\") implication(\"sex\",\"F\",82,7) count_attributes_in_cluster(3)\n",
      "proxy(\"Mjob\",\"at_home\") proxy(\"activities\",\"no\") proxy(\"absences\",\"0\") implication(\"sex\",\"F\",85,5) count_attributes_in_cluster(3)\n",
      "proxy(\"Mjob\",\"at_home\") proxy(\"activities\",\"no\") proxy(\"higher\",\"yes\") implication(\"sex\",\"F\",80,9) count_attributes_in_cluster(3)\n",
      "proxy(\"Mjob\",\"at_home\") proxy(\"paid\",\"no\") proxy(\"activities\",\"no\") implication(\"sex\",\"F\",80,11) count_attributes_in_cluster(3)\n",
      "proxy(\"Mjob\",\"at_home\") proxy(\"activities\",\"no\") proxy(\"nursery\",\"yes\") implication(\"sex\",\"F\",83,9) count_attributes_in_cluster(3)\n",
      "proxy(\"Mjob\",\"at_home\") proxy(\"activities\",\"no\") proxy(\"schoolsup\",\"no\") implication(\"sex\",\"F\",80,10) count_attributes_in_cluster(3)\n",
      "proxy(\"Mjob\",\"at_home\") proxy(\"activities\",\"no\") proxy(\"famsup\",\"yes\") implication(\"sex\",\"F\",84,7) count_attributes_in_cluster(3)\n",
      "proxy(\"Mjob\",\"at_home\") proxy(\"activities\",\"no\") proxy(\"internet\",\"yes\") implication(\"sex\",\"F\",86,5) count_attributes_in_cluster(3)\n",
      "proxy(\"Mjob\",\"at_home\") proxy(\"activities\",\"no\") proxy(\"school\",\"MS\") implication(\"sex\",\"F\",85,6) count_attributes_in_cluster(3)\n",
      "proxy(\"address\",\"U\") proxy(\"Mjob\",\"at_home\") proxy(\"activities\",\"no\") implication(\"sex\",\"F\",84,7) count_attributes_in_cluster(3)\n",
      "proxy(\"school\",\"GP\") proxy(\"address\",\"U\") proxy(\"Mjob\",\"at_home\") implication(\"sex\",\"F\",80,6) count_attributes_in_cluster(3)\n",
      "proxy(\"Mjob\",\"at_home\") proxy(\"reason\",\"course\") proxy(\"activities\",\"no\") implication(\"sex\",\"F\",82,6) count_attributes_in_cluster(3)\n",
      "proxy(\"Mjob\",\"at_home\") proxy(\"activities\",\"no\") proxy(\"Fjob\",\"other\") implication(\"sex\",\"F\",82,7) count_attributes_in_cluster(3)\n",
      "proxy(\"address\",\"U\") proxy(\"Mjob\",\"at_home\") proxy(\"Fjob\",\"other\") implication(\"sex\",\"F\",80,5) count_attributes_in_cluster(3)\n",
      "proxy(\"school\",\"GP\") proxy(\"Mjob\",\"at_home\") proxy(\"famsup\",\"yes\") implication(\"sex\",\"F\",83,5) count_attributes_in_cluster(3)\n",
      "proxy(\"Mjob\",\"at_home\") proxy(\"reason\",\"course\") proxy(\"famsup\",\"yes\") implication(\"sex\",\"F\",80,6) count_attributes_in_cluster(3)\n",
      "proxy(\"guardian\",\"mother\") proxy(\"schoolsup\",\"yes\") proxy(\"higher\",\"yes\") implication(\"sex\",\"F\",80,6) count_attributes_in_cluster(3)\n",
      "proxy(\"internet\",\"no\") proxy(\"famsup\",\"yes\") proxy(\"Mjob\",\"other\") implication(\"sex\",\"F\",82,5) count_attributes_in_cluster(3)\n",
      "proxy(\"guardian\",\"mother\") proxy(\"schoolsup\",\"yes\") proxy(\"paid\",\"no\") implication(\"sex\",\"F\",82,6) count_attributes_in_cluster(3)\n",
      "proxy(\"activities\",\"no\") proxy(\"internet\",\"no\") proxy(\"famsup\",\"yes\") implication(\"sex\",\"F\",80,7) count_attributes_in_cluster(3)\n",
      "proxy(\"guardian\",\"mother\") proxy(\"schoolsup\",\"yes\") proxy(\"romantic\",\"no\") implication(\"sex\",\"F\",80,5) count_attributes_in_cluster(3)\n",
      "proxy(\"schoolsup\",\"yes\") proxy(\"higher\",\"yes\") proxy(\"Fjob\",\"other\") implication(\"sex\",\"F\",80,5) count_attributes_in_cluster(3)\n",
      "proxy(\"internet\",\"no\") proxy(\"Fjob\",\"other\") proxy(\"famsup\",\"yes\") implication(\"sex\",\"F\",88,6) count_attributes_in_cluster(3)\n",
      "proxy(\"famsize\",\"GT3\") proxy(\"activities\",\"no\") proxy(\"romantic\",\"yes\") implication(\"sex\",\"F\",80,12) count_attributes_in_cluster(3)\n",
      "proxy(\"famsize\",\"GT3\") proxy(\"Pstatus\",\"A\") proxy(\"paid\",\"no\") implication(\"sex\",\"F\",81,5) count_attributes_in_cluster(3)\n",
      "proxy(\"famsize\",\"GT3\") proxy(\"Mjob\",\"at_home\") proxy(\"internet\",\"yes\") implication(\"sex\",\"F\",82,7) count_attributes_in_cluster(3)\n",
      "proxy(\"famsize\",\"GT3\") proxy(\"Mjob\",\"at_home\") proxy(\"famsup\",\"yes\") implication(\"sex\",\"F\",84,8) count_attributes_in_cluster(3)\n",
      "proxy(\"famsize\",\"GT3\") proxy(\"Mjob\",\"at_home\") proxy(\"Fjob\",\"other\") implication(\"sex\",\"F\",81,8) count_attributes_in_cluster(3)\n",
      "proxy(\"famsize\",\"GT3\") proxy(\"Mjob\",\"at_home\") proxy(\"school\",\"MS\") implication(\"sex\",\"F\",80,7) count_attributes_in_cluster(3)\n",
      "proxy(\"famsize\",\"GT3\") proxy(\"Mjob\",\"at_home\") proxy(\"absences\",\"0\") implication(\"sex\",\"F\",80,5) count_attributes_in_cluster(3)\n",
      "SAT\n"
     ]
    }
   ],
   "source": [
    "get_proxy_clusters_choice_rules(datafile)\n",
    "# Same as\n",
    "# get_proxy_clusters_choice_rules(datafile, 80, 5, 1, 3)"
   ]
  },
  {
   "cell_type": "markdown",
   "id": "2ba26ebb",
   "metadata": {},
   "source": [
    "#### Alternative 2.2 - customizing values"
   ]
  },
  {
   "cell_type": "code",
   "execution_count": 11,
   "id": "bac278fa",
   "metadata": {},
   "outputs": [
    {
     "name": "stdout",
     "output_type": "stream",
     "text": [
      "proxy(\"absences\",\"1\") implication(\"sex\",\"F\",91,1) count_attributes_in_cluster(1)\n",
      "proxy(\"absences\",\"5\") implication(\"sex\",\"F\",83,1) count_attributes_in_cluster(1)\n",
      "SAT\n"
     ]
    }
   ],
   "source": [
    "get_proxy_clusters_choice_rules(datafile, 80, 1, 1, 1)"
   ]
  },
  {
   "cell_type": "markdown",
   "id": "2ab8d11a",
   "metadata": {},
   "source": [
    "## Hardcoded method"
   ]
  },
  {
   "cell_type": "markdown",
   "id": "ff38fb06",
   "metadata": {},
   "source": [
    "This method uses default values.\n",
    "\n",
    "⚠ The `get_proxy_clusters_hardcoded` function should only be called in the root of this repo. \n",
    "\n",
    "The minimum implication and incidence probability values **can** be changed but they require some hardcoding. The clingo rules for this method are in the three following files:\n",
    "* `clingo_scripts/multi_proxy_hardcoded_1.lp`\n",
    "* `clingo_scripts/multi_proxy_hardcoded_2.lp`\n",
    "* `clingo_scripts/multi_proxy_hardcoded_3.lp`\n",
    "\n",
    "To change the minimum **implication** probability, the above mentioned files must update the following code line\n",
    "> `    P >= 80,` >> `    P >= <new-minimum-implication>, `\n",
    "\n",
    "\n",
    "To change the minimum **incidence** probability, the above mentioned files must update the following code line\n",
    "> `    I >= 5,` >> `    I >= <new-minimum-incidence>, `"
   ]
  },
  {
   "cell_type": "markdown",
   "id": "f8ba74cd",
   "metadata": {},
   "source": [
    "```\n",
    "get_proxy_clusters_hardcoded(\n",
    "    datafile: str\n",
    ")\n",
    "```"
   ]
  },
  {
   "cell_type": "code",
   "execution_count": 12,
   "id": "32178f4a",
   "metadata": {},
   "outputs": [
    {
     "name": "stdout",
     "output_type": "stream",
     "text": [
      "protected(\"sex\") count_items(649) count_facts(11682)\n",
      "\n",
      "\n",
      "protected(\"sex\") count_items(649) implication(\"famsize\",\"GT3\",\"Pstatus\",\"A\",\"sex\",\"F\",81,5) implication(\"Pstatus\",\"A\",\"famsize\",\"GT3\",\"sex\",\"F\",81,5) implication(\"Pstatus\",\"A\",\"romantic\",\"yes\",\"sex\",\"F\",80,5) implication(\"Mjob\",\"at_home\",\"activities\",\"no\",\"sex\",\"F\",80,11) implication(\"activities\",\"no\",\"Mjob\",\"at_home\",\"sex\",\"F\",80,11) implication(\"romantic\",\"yes\",\"Pstatus\",\"A\",\"sex\",\"F\",80,5) count_facts(11682)\n",
      "\n",
      "\n",
      "protected(\"sex\") count_items(649) implication(\"Mjob\",\"at_home\",\"address\",\"U\",\"school\",\"GP\",\"sex\",\"F\",80,6) implication(\"address\",\"U\",\"Mjob\",\"at_home\",\"school\",\"GP\",\"sex\",\"F\",80,6) implication(\"famsup\",\"yes\",\"Mjob\",\"at_home\",\"school\",\"GP\",\"sex\",\"F\",83,5) implication(\"Mjob\",\"at_home\",\"famsup\",\"yes\",\"school\",\"GP\",\"sex\",\"F\",83,5) implication(\"Mjob\",\"at_home\",\"school\",\"GP\",\"address\",\"U\",\"sex\",\"F\",80,6) implication(\"school\",\"GP\",\"Mjob\",\"at_home\",\"address\",\"U\",\"sex\",\"F\",80,6) implication(\"activities\",\"no\",\"Mjob\",\"at_home\",\"address\",\"U\",\"sex\",\"F\",84,7) implication(\"Fjob\",\"other\",\"Mjob\",\"at_home\",\"address\",\"U\",\"sex\",\"F\",80,5) implication(\"Mjob\",\"at_home\",\"activities\",\"no\",\"address\",\"U\",\"sex\",\"F\",84,7) implication(\"Mjob\",\"at_home\",\"Fjob\",\"other\",\"address\",\"U\",\"sex\",\"F\",80,5) implication(\"paid\",\"no\",\"Pstatus\",\"A\",\"famsize\",\"GT3\",\"sex\",\"F\",81,5) implication(\"Fjob\",\"other\",\"Mjob\",\"at_home\",\"famsize\",\"GT3\",\"sex\",\"F\",81,8) implication(\"famsup\",\"yes\",\"Mjob\",\"at_home\",\"famsize\",\"GT3\",\"sex\",\"F\",84,8) implication(\"internet\",\"yes\",\"Mjob\",\"at_home\",\"famsize\",\"GT3\",\"sex\",\"F\",82,7) implication(\"absences\",\"0\",\"Mjob\",\"at_home\",\"famsize\",\"GT3\",\"sex\",\"F\",80,5) implication(\"school\",\"MS\",\"Mjob\",\"at_home\",\"famsize\",\"GT3\",\"sex\",\"F\",80,7) implication(\"Pstatus\",\"A\",\"paid\",\"no\",\"famsize\",\"GT3\",\"sex\",\"F\",81,5) implication(\"romantic\",\"yes\",\"activities\",\"no\",\"famsize\",\"GT3\",\"sex\",\"F\",80,12) implication(\"Mjob\",\"at_home\",\"Fjob\",\"other\",\"famsize\",\"GT3\",\"sex\",\"F\",81,8) implication(\"Mjob\",\"at_home\",\"famsup\",\"yes\",\"famsize\",\"GT3\",\"sex\",\"F\",84,8) implication(\"Mjob\",\"at_home\",\"internet\",\"yes\",\"famsize\",\"GT3\",\"sex\",\"F\",82,7) implication(\"activities\",\"no\",\"romantic\",\"yes\",\"famsize\",\"GT3\",\"sex\",\"F\",80,12) implication(\"Mjob\",\"at_home\",\"absences\",\"0\",\"famsize\",\"GT3\",\"sex\",\"F\",80,5) implication(\"Mjob\",\"at_home\",\"school\",\"MS\",\"famsize\",\"GT3\",\"sex\",\"F\",80,7) implication(\"paid\",\"no\",\"famsize\",\"GT3\",\"Pstatus\",\"A\",\"sex\",\"F\",81,5) implication(\"famsize\",\"GT3\",\"paid\",\"no\",\"Pstatus\",\"A\",\"sex\",\"F\",81,5) implication(\"address\",\"U\",\"school\",\"GP\",\"Mjob\",\"at_home\",\"sex\",\"F\",80,6) implication(\"famsup\",\"yes\",\"school\",\"GP\",\"Mjob\",\"at_home\",\"sex\",\"F\",83,5) implication(\"school\",\"GP\",\"address\",\"U\",\"Mjob\",\"at_home\",\"sex\",\"F\",80,6) implication(\"activities\",\"no\",\"address\",\"U\",\"Mjob\",\"at_home\",\"sex\",\"F\",84,7) implication(\"Fjob\",\"other\",\"address\",\"U\",\"Mjob\",\"at_home\",\"sex\",\"F\",80,5) implication(\"Fjob\",\"other\",\"famsize\",\"GT3\",\"Mjob\",\"at_home\",\"sex\",\"F\",81,8) implication(\"famsup\",\"yes\",\"famsize\",\"GT3\",\"Mjob\",\"at_home\",\"sex\",\"F\",84,8) implication(\"internet\",\"yes\",\"famsize\",\"GT3\",\"Mjob\",\"at_home\",\"sex\",\"F\",82,7) implication(\"absences\",\"0\",\"famsize\",\"GT3\",\"Mjob\",\"at_home\",\"sex\",\"F\",80,5) implication(\"school\",\"MS\",\"famsize\",\"GT3\",\"Mjob\",\"at_home\",\"sex\",\"F\",80,7) implication(\"activities\",\"no\",\"reason\",\"course\",\"Mjob\",\"at_home\",\"sex\",\"F\",82,6) implication(\"famsup\",\"yes\",\"reason\",\"course\",\"Mjob\",\"at_home\",\"sex\",\"F\",80,6) implication(\"Fjob\",\"other\",\"guardian\",\"mother\",\"Mjob\",\"at_home\",\"sex\",\"F\",80,8) implication(\"activities\",\"no\",\"paid\",\"no\",\"Mjob\",\"at_home\",\"sex\",\"F\",80,11) implication(\"absences\",\"0\",\"paid\",\"no\",\"Mjob\",\"at_home\",\"sex\",\"F\",82,7) implication(\"address\",\"U\",\"activities\",\"no\",\"Mjob\",\"at_home\",\"sex\",\"F\",84,7) implication(\"reason\",\"course\",\"activities\",\"no\",\"Mjob\",\"at_home\",\"sex\",\"F\",82,6) implication(\"paid\",\"no\",\"activities\",\"no\",\"Mjob\",\"at_home\",\"sex\",\"F\",80,11) implication(\"nursery\",\"yes\",\"activities\",\"no\",\"Mjob\",\"at_home\",\"sex\",\"F\",83,9) implication(\"higher\",\"yes\",\"activities\",\"no\",\"Mjob\",\"at_home\",\"sex\",\"F\",80,9) implication(\"Fjob\",\"other\",\"activities\",\"no\",\"Mjob\",\"at_home\",\"sex\",\"F\",82,7) implication(\"schoolsup\",\"no\",\"activities\",\"no\",\"Mjob\",\"at_home\",\"sex\",\"F\",80,10) implication(\"famsup\",\"yes\",\"activities\",\"no\",\"Mjob\",\"at_home\",\"sex\",\"F\",84,7) implication(\"internet\",\"yes\",\"activities\",\"no\",\"Mjob\",\"at_home\",\"sex\",\"F\",86,5) implication(\"absences\",\"0\",\"activities\",\"no\",\"Mjob\",\"at_home\",\"sex\",\"F\",85,5) implication(\"school\",\"MS\",\"activities\",\"no\",\"Mjob\",\"at_home\",\"sex\",\"F\",85,6) implication(\"activities\",\"no\",\"nursery\",\"yes\",\"Mjob\",\"at_home\",\"sex\",\"F\",83,9) implication(\"activities\",\"no\",\"higher\",\"yes\",\"Mjob\",\"at_home\",\"sex\",\"F\",80,9) implication(\"internet\",\"yes\",\"higher\",\"yes\",\"Mjob\",\"at_home\",\"sex\",\"F\",80,9) implication(\"address\",\"U\",\"Fjob\",\"other\",\"Mjob\",\"at_home\",\"sex\",\"F\",80,5) implication(\"famsize\",\"GT3\",\"Fjob\",\"other\",\"Mjob\",\"at_home\",\"sex\",\"F\",81,8) implication(\"guardian\",\"mother\",\"Fjob\",\"other\",\"Mjob\",\"at_home\",\"sex\",\"F\",80,8) implication(\"activities\",\"no\",\"Fjob\",\"other\",\"Mjob\",\"at_home\",\"sex\",\"F\",82,7) implication(\"famsup\",\"yes\",\"Fjob\",\"other\",\"Mjob\",\"at_home\",\"sex\",\"F\",87,7) implication(\"school\",\"MS\",\"Fjob\",\"other\",\"Mjob\",\"at_home\",\"sex\",\"F\",84,6) implication(\"activities\",\"no\",\"schoolsup\",\"no\",\"Mjob\",\"at_home\",\"sex\",\"F\",80,10) implication(\"absences\",\"0\",\"schoolsup\",\"no\",\"Mjob\",\"at_home\",\"sex\",\"F\",81,7) implication(\"school\",\"GP\",\"famsup\",\"yes\",\"Mjob\",\"at_home\",\"sex\",\"F\",83,5) implication(\"famsize\",\"GT3\",\"famsup\",\"yes\",\"Mjob\",\"at_home\",\"sex\",\"F\",84,8) implication(\"reason\",\"course\",\"famsup\",\"yes\",\"Mjob\",\"at_home\",\"sex\",\"F\",80,6) implication(\"activities\",\"no\",\"famsup\",\"yes\",\"Mjob\",\"at_home\",\"sex\",\"F\",84,7) implication(\"Fjob\",\"other\",\"famsup\",\"yes\",\"Mjob\",\"at_home\",\"sex\",\"F\",87,7) implication(\"famsize\",\"GT3\",\"internet\",\"yes\",\"Mjob\",\"at_home\",\"sex\",\"F\",82,7) implication(\"activities\",\"no\",\"internet\",\"yes\",\"Mjob\",\"at_home\",\"sex\",\"F\",86,5) implication(\"higher\",\"yes\",\"internet\",\"yes\",\"Mjob\",\"at_home\",\"sex\",\"F\",80,9) implication(\"famsize\",\"GT3\",\"absences\",\"0\",\"Mjob\",\"at_home\",\"sex\",\"F\",80,5) implication(\"paid\",\"no\",\"absences\",\"0\",\"Mjob\",\"at_home\",\"sex\",\"F\",82,7) implication(\"activities\",\"no\",\"absences\",\"0\",\"Mjob\",\"at_home\",\"sex\",\"F\",85,5) implication(\"schoolsup\",\"no\",\"absences\",\"0\",\"Mjob\",\"at_home\",\"sex\",\"F\",81,7) implication(\"school\",\"MS\",\"absences\",\"0\",\"Mjob\",\"at_home\",\"sex\",\"F\",80,5) implication(\"famsize\",\"GT3\",\"school\",\"MS\",\"Mjob\",\"at_home\",\"sex\",\"F\",80,7) implication(\"activities\",\"no\",\"school\",\"MS\",\"Mjob\",\"at_home\",\"sex\",\"F\",85,6) implication(\"Fjob\",\"other\",\"school\",\"MS\",\"Mjob\",\"at_home\",\"sex\",\"F\",84,6) implication(\"absences\",\"0\",\"school\",\"MS\",\"Mjob\",\"at_home\",\"sex\",\"F\",80,5) implication(\"activities\",\"no\",\"Mjob\",\"at_home\",\"reason\",\"course\",\"sex\",\"F\",82,6) implication(\"famsup\",\"yes\",\"Mjob\",\"at_home\",\"reason\",\"course\",\"sex\",\"F\",80,6) implication(\"Mjob\",\"at_home\",\"activities\",\"no\",\"reason\",\"course\",\"sex\",\"F\",82,6) implication(\"Mjob\",\"at_home\",\"famsup\",\"yes\",\"reason\",\"course\",\"sex\",\"F\",80,6) implication(\"Fjob\",\"other\",\"Mjob\",\"at_home\",\"guardian\",\"mother\",\"sex\",\"F\",80,8) implication(\"paid\",\"no\",\"schoolsup\",\"yes\",\"guardian\",\"mother\",\"sex\",\"F\",82,6) implication(\"higher\",\"yes\",\"schoolsup\",\"yes\",\"guardian\",\"mother\",\"sex\",\"F\",80,6) implication(\"romantic\",\"no\",\"schoolsup\",\"yes\",\"guardian\",\"mother\",\"sex\",\"F\",80,5) implication(\"schoolsup\",\"yes\",\"paid\",\"no\",\"guardian\",\"mother\",\"sex\",\"F\",82,6) implication(\"schoolsup\",\"yes\",\"higher\",\"yes\",\"guardian\",\"mother\",\"sex\",\"F\",80,6) implication(\"schoolsup\",\"yes\",\"romantic\",\"no\",\"guardian\",\"mother\",\"sex\",\"F\",80,5) implication(\"Mjob\",\"at_home\",\"Fjob\",\"other\",\"guardian\",\"mother\",\"sex\",\"F\",80,8) implication(\"paid\",\"no\",\"guardian\",\"mother\",\"schoolsup\",\"yes\",\"sex\",\"F\",82,6) implication(\"higher\",\"yes\",\"guardian\",\"mother\",\"schoolsup\",\"yes\",\"sex\",\"F\",80,6) implication(\"romantic\",\"no\",\"guardian\",\"mother\",\"schoolsup\",\"yes\",\"sex\",\"F\",80,5) implication(\"guardian\",\"mother\",\"paid\",\"no\",\"schoolsup\",\"yes\",\"sex\",\"F\",82,6) implication(\"guardian\",\"mother\",\"higher\",\"yes\",\"schoolsup\",\"yes\",\"sex\",\"F\",80,6) implication(\"Fjob\",\"other\",\"higher\",\"yes\",\"schoolsup\",\"yes\",\"sex\",\"F\",80,5) implication(\"guardian\",\"mother\",\"romantic\",\"no\",\"schoolsup\",\"yes\",\"sex\",\"F\",80,5) implication(\"higher\",\"yes\",\"Fjob\",\"other\",\"schoolsup\",\"yes\",\"sex\",\"F\",80,5) implication(\"Pstatus\",\"A\",\"famsize\",\"GT3\",\"paid\",\"no\",\"sex\",\"F\",81,5) implication(\"famsize\",\"GT3\",\"Pstatus\",\"A\",\"paid\",\"no\",\"sex\",\"F\",81,5) implication(\"activities\",\"no\",\"Mjob\",\"at_home\",\"paid\",\"no\",\"sex\",\"F\",80,11) implication(\"absences\",\"0\",\"Mjob\",\"at_home\",\"paid\",\"no\",\"sex\",\"F\",82,7) implication(\"schoolsup\",\"yes\",\"guardian\",\"mother\",\"paid\",\"no\",\"sex\",\"F\",82,6) implication(\"guardian\",\"mother\",\"schoolsup\",\"yes\",\"paid\",\"no\",\"sex\",\"F\",82,6) implication(\"Mjob\",\"at_home\",\"activities\",\"no\",\"paid\",\"no\",\"sex\",\"F\",80,11) implication(\"Mjob\",\"at_home\",\"absences\",\"0\",\"paid\",\"no\",\"sex\",\"F\",82,7) implication(\"Mjob\",\"at_home\",\"address\",\"U\",\"activities\",\"no\",\"sex\",\"F\",84,7) implication(\"romantic\",\"yes\",\"famsize\",\"GT3\",\"activities\",\"no\",\"sex\",\"F\",80,12) implication(\"address\",\"U\",\"Mjob\",\"at_home\",\"activities\",\"no\",\"sex\",\"F\",84,7) implication(\"reason\",\"course\",\"Mjob\",\"at_home\",\"activities\",\"no\",\"sex\",\"F\",82,6) implication(\"paid\",\"no\",\"Mjob\",\"at_home\",\"activities\",\"no\",\"sex\",\"F\",80,11) implication(\"nursery\",\"yes\",\"Mjob\",\"at_home\",\"activities\",\"no\",\"sex\",\"F\",83,9) implication(\"higher\",\"yes\",\"Mjob\",\"at_home\",\"activities\",\"no\",\"sex\",\"F\",80,9) implication(\"Fjob\",\"other\",\"Mjob\",\"at_home\",\"activities\",\"no\",\"sex\",\"F\",82,7) implication(\"schoolsup\",\"no\",\"Mjob\",\"at_home\",\"activities\",\"no\",\"sex\",\"F\",80,10) implication(\"famsup\",\"yes\",\"Mjob\",\"at_home\",\"activities\",\"no\",\"sex\",\"F\",84,7) implication(\"internet\",\"yes\",\"Mjob\",\"at_home\",\"activities\",\"no\",\"sex\",\"F\",86,5) implication(\"absences\",\"0\",\"Mjob\",\"at_home\",\"activities\",\"no\",\"sex\",\"F\",85,5) implication(\"school\",\"MS\",\"Mjob\",\"at_home\",\"activities\",\"no\",\"sex\",\"F\",85,6) implication(\"Mjob\",\"at_home\",\"reason\",\"course\",\"activities\",\"no\",\"sex\",\"F\",82,6) implication(\"Mjob\",\"at_home\",\"paid\",\"no\",\"activities\",\"no\",\"sex\",\"F\",80,11) implication(\"Mjob\",\"at_home\",\"nursery\",\"yes\",\"activities\",\"no\",\"sex\",\"F\",83,9) implication(\"Mjob\",\"at_home\",\"higher\",\"yes\",\"activities\",\"no\",\"sex\",\"F\",80,9) implication(\"famsup\",\"yes\",\"internet\",\"no\",\"activities\",\"no\",\"sex\",\"F\",80,7) implication(\"Mjob\",\"at_home\",\"Fjob\",\"other\",\"activities\",\"no\",\"sex\",\"F\",82,7) implication(\"romantic\",\"yes\",\"Fjob\",\"other\",\"activities\",\"no\",\"sex\",\"F\",81,9) implication(\"Mjob\",\"at_home\",\"schoolsup\",\"no\",\"activities\",\"no\",\"sex\",\"F\",80,10) implication(\"Mjob\",\"at_home\",\"famsup\",\"yes\",\"activities\",\"no\",\"sex\",\"F\",84,7) implication(\"internet\",\"no\",\"famsup\",\"yes\",\"activities\",\"no\",\"sex\",\"F\",80,7) implication(\"Mjob\",\"at_home\",\"internet\",\"yes\",\"activities\",\"no\",\"sex\",\"F\",86,5) implication(\"famsize\",\"GT3\",\"romantic\",\"yes\",\"activities\",\"no\",\"sex\",\"F\",80,12) implication(\"Fjob\",\"other\",\"romantic\",\"yes\",\"activities\",\"no\",\"sex\",\"F\",81,9) implication(\"school\",\"MS\",\"romantic\",\"yes\",\"activities\",\"no\",\"sex\",\"F\",82,7) implication(\"Mjob\",\"at_home\",\"absences\",\"0\",\"activities\",\"no\",\"sex\",\"F\",85,5) implication(\"Mjob\",\"at_home\",\"school\",\"MS\",\"activities\",\"no\",\"sex\",\"F\",85,6) implication(\"romantic\",\"yes\",\"school\",\"MS\",\"activities\",\"no\",\"sex\",\"F\",82,7) implication(\"activities\",\"no\",\"Mjob\",\"at_home\",\"nursery\",\"yes\",\"sex\",\"F\",83,9) implication(\"Mjob\",\"at_home\",\"activities\",\"no\",\"nursery\",\"yes\",\"sex\",\"F\",83,9) implication(\"activities\",\"no\",\"Mjob\",\"at_home\",\"higher\",\"yes\",\"sex\",\"F\",80,9) implication(\"internet\",\"yes\",\"Mjob\",\"at_home\",\"higher\",\"yes\",\"sex\",\"F\",80,9) implication(\"schoolsup\",\"yes\",\"guardian\",\"mother\",\"higher\",\"yes\",\"sex\",\"F\",80,6) implication(\"guardian\",\"mother\",\"schoolsup\",\"yes\",\"higher\",\"yes\",\"sex\",\"F\",80,6) implication(\"Fjob\",\"other\",\"schoolsup\",\"yes\",\"higher\",\"yes\",\"sex\",\"F\",80,5) implication(\"Mjob\",\"at_home\",\"activities\",\"no\",\"higher\",\"yes\",\"sex\",\"F\",80,9) implication(\"schoolsup\",\"yes\",\"Fjob\",\"other\",\"higher\",\"yes\",\"sex\",\"F\",80,5) implication(\"Mjob\",\"at_home\",\"internet\",\"yes\",\"higher\",\"yes\",\"sex\",\"F\",80,9) implication(\"famsup\",\"yes\",\"activities\",\"no\",\"internet\",\"no\",\"sex\",\"F\",80,7) implication(\"famsup\",\"yes\",\"Fjob\",\"other\",\"internet\",\"no\",\"sex\",\"F\",88,6) implication(\"activities\",\"no\",\"famsup\",\"yes\",\"internet\",\"no\",\"sex\",\"F\",80,7) implication(\"Fjob\",\"other\",\"famsup\",\"yes\",\"internet\",\"no\",\"sex\",\"F\",88,6) implication(\"Mjob\",\"other\",\"famsup\",\"yes\",\"internet\",\"no\",\"sex\",\"F\",82,5) implication(\"famsup\",\"yes\",\"Mjob\",\"other\",\"internet\",\"no\",\"sex\",\"F\",82,5) implication(\"schoolsup\",\"yes\",\"guardian\",\"mother\",\"romantic\",\"no\",\"sex\",\"F\",80,5) implication(\"guardian\",\"mother\",\"schoolsup\",\"yes\",\"romantic\",\"no\",\"sex\",\"F\",80,5) implication(\"reason\",\"reputation\",\"romantic\",\"yes\",\"Pstatus\",\"T\",\"sex\",\"F\",83,5) implication(\"romantic\",\"yes\",\"reason\",\"reputation\",\"Pstatus\",\"T\",\"sex\",\"F\",83,5) implication(\"Mjob\",\"at_home\",\"address\",\"U\",\"Fjob\",\"other\",\"sex\",\"F\",80,5) implication(\"Mjob\",\"at_home\",\"famsize\",\"GT3\",\"Fjob\",\"other\",\"sex\",\"F\",81,8) implication(\"address\",\"U\",\"Mjob\",\"at_home\",\"Fjob\",\"other\",\"sex\",\"F\",80,5) implication(\"famsize\",\"GT3\",\"Mjob\",\"at_home\",\"Fjob\",\"other\",\"sex\",\"F\",81,8) implication(\"guardian\",\"mother\",\"Mjob\",\"at_home\",\"Fjob\",\"other\",\"sex\",\"F\",80,8) implication(\"activities\",\"no\",\"Mjob\",\"at_home\",\"Fjob\",\"other\",\"sex\",\"F\",82,7) implication(\"famsup\",\"yes\",\"Mjob\",\"at_home\",\"Fjob\",\"other\",\"sex\",\"F\",87,7) implication(\"school\",\"MS\",\"Mjob\",\"at_home\",\"Fjob\",\"other\",\"sex\",\"F\",84,6) implication(\"Mjob\",\"at_home\",\"guardian\",\"mother\",\"Fjob\",\"other\",\"sex\",\"F\",80,8) implication(\"higher\",\"yes\",\"schoolsup\",\"yes\",\"Fjob\",\"other\",\"sex\",\"F\",80,5) implication(\"Mjob\",\"at_home\",\"activities\",\"no\",\"Fjob\",\"other\",\"sex\",\"F\",82,7) implication(\"romantic\",\"yes\",\"activities\",\"no\",\"Fjob\",\"other\",\"sex\",\"F\",81,9) implication(\"schoolsup\",\"yes\",\"higher\",\"yes\",\"Fjob\",\"other\",\"sex\",\"F\",80,5) implication(\"famsup\",\"yes\",\"internet\",\"no\",\"Fjob\",\"other\",\"sex\",\"F\",88,6) implication(\"Mjob\",\"at_home\",\"famsup\",\"yes\",\"Fjob\",\"other\",\"sex\",\"F\",87,7) implication(\"internet\",\"no\",\"famsup\",\"yes\",\"Fjob\",\"other\",\"sex\",\"F\",88,6) implication(\"activities\",\"no\",\"romantic\",\"yes\",\"Fjob\",\"other\",\"sex\",\"F\",81,9) implication(\"Mjob\",\"at_home\",\"school\",\"MS\",\"Fjob\",\"other\",\"sex\",\"F\",84,6) implication(\"activities\",\"no\",\"Mjob\",\"at_home\",\"schoolsup\",\"no\",\"sex\",\"F\",80,10) implication(\"absences\",\"0\",\"Mjob\",\"at_home\",\"schoolsup\",\"no\",\"sex\",\"F\",81,7) implication(\"Mjob\",\"at_home\",\"activities\",\"no\",\"schoolsup\",\"no\",\"sex\",\"F\",80,10) implication(\"Mjob\",\"at_home\",\"absences\",\"0\",\"schoolsup\",\"no\",\"sex\",\"F\",81,7) implication(\"Mjob\",\"at_home\",\"school\",\"GP\",\"famsup\",\"yes\",\"sex\",\"F\",83,5) implication(\"Mjob\",\"at_home\",\"famsize\",\"GT3\",\"famsup\",\"yes\",\"sex\",\"F\",84,8) implication(\"school\",\"GP\",\"Mjob\",\"at_home\",\"famsup\",\"yes\",\"sex\",\"F\",83,5) implication(\"famsize\",\"GT3\",\"Mjob\",\"at_home\",\"famsup\",\"yes\",\"sex\",\"F\",84,8) implication(\"reason\",\"course\",\"Mjob\",\"at_home\",\"famsup\",\"yes\",\"sex\",\"F\",80,6) implication(\"activities\",\"no\",\"Mjob\",\"at_home\",\"famsup\",\"yes\",\"sex\",\"F\",84,7) implication(\"Fjob\",\"other\",\"Mjob\",\"at_home\",\"famsup\",\"yes\",\"sex\",\"F\",87,7) implication(\"Mjob\",\"at_home\",\"reason\",\"course\",\"famsup\",\"yes\",\"sex\",\"F\",80,6) implication(\"Mjob\",\"at_home\",\"activities\",\"no\",\"famsup\",\"yes\",\"sex\",\"F\",84,7) implication(\"internet\",\"no\",\"activities\",\"no\",\"famsup\",\"yes\",\"sex\",\"F\",80,7) implication(\"activities\",\"no\",\"internet\",\"no\",\"famsup\",\"yes\",\"sex\",\"F\",80,7) implication(\"Fjob\",\"other\",\"internet\",\"no\",\"famsup\",\"yes\",\"sex\",\"F\",88,6) implication(\"Mjob\",\"other\",\"internet\",\"no\",\"famsup\",\"yes\",\"sex\",\"F\",82,5) implication(\"Mjob\",\"at_home\",\"Fjob\",\"other\",\"famsup\",\"yes\",\"sex\",\"F\",87,7) implication(\"internet\",\"no\",\"Fjob\",\"other\",\"famsup\",\"yes\",\"sex\",\"F\",88,6) implication(\"internet\",\"no\",\"Mjob\",\"other\",\"famsup\",\"yes\",\"sex\",\"F\",82,5) implication(\"Mjob\",\"at_home\",\"famsize\",\"GT3\",\"internet\",\"yes\",\"sex\",\"F\",82,7) implication(\"famsize\",\"GT3\",\"Mjob\",\"at_home\",\"internet\",\"yes\",\"sex\",\"F\",82,7) implication(\"activities\",\"no\",\"Mjob\",\"at_home\",\"internet\",\"yes\",\"sex\",\"F\",86,5) implication(\"higher\",\"yes\",\"Mjob\",\"at_home\",\"internet\",\"yes\",\"sex\",\"F\",80,9) implication(\"Mjob\",\"at_home\",\"activities\",\"no\",\"internet\",\"yes\",\"sex\",\"F\",86,5) implication(\"Mjob\",\"at_home\",\"higher\",\"yes\",\"internet\",\"yes\",\"sex\",\"F\",80,9) implication(\"activities\",\"no\",\"famsize\",\"GT3\",\"romantic\",\"yes\",\"sex\",\"F\",80,12) implication(\"famsize\",\"GT3\",\"activities\",\"no\",\"romantic\",\"yes\",\"sex\",\"F\",80,12) implication(\"Fjob\",\"other\",\"activities\",\"no\",\"romantic\",\"yes\",\"sex\",\"F\",81,9) implication(\"school\",\"MS\",\"activities\",\"no\",\"romantic\",\"yes\",\"sex\",\"F\",82,7) implication(\"reason\",\"reputation\",\"Pstatus\",\"T\",\"romantic\",\"yes\",\"sex\",\"F\",83,5) implication(\"activities\",\"no\",\"Fjob\",\"other\",\"romantic\",\"yes\",\"sex\",\"F\",81,9) implication(\"Pstatus\",\"T\",\"reason\",\"reputation\",\"romantic\",\"yes\",\"sex\",\"F\",83,5) implication(\"activities\",\"no\",\"school\",\"MS\",\"romantic\",\"yes\",\"sex\",\"F\",82,7) implication(\"Mjob\",\"at_home\",\"famsize\",\"GT3\",\"absences\",\"0\",\"sex\",\"F\",80,5) implication(\"famsize\",\"GT3\",\"Mjob\",\"at_home\",\"absences\",\"0\",\"sex\",\"F\",80,5) implication(\"paid\",\"no\",\"Mjob\",\"at_home\",\"absences\",\"0\",\"sex\",\"F\",82,7) implication(\"activities\",\"no\",\"Mjob\",\"at_home\",\"absences\",\"0\",\"sex\",\"F\",85,5) implication(\"schoolsup\",\"no\",\"Mjob\",\"at_home\",\"absences\",\"0\",\"sex\",\"F\",81,7) implication(\"school\",\"MS\",\"Mjob\",\"at_home\",\"absences\",\"0\",\"sex\",\"F\",80,5) implication(\"Mjob\",\"at_home\",\"paid\",\"no\",\"absences\",\"0\",\"sex\",\"F\",82,7) implication(\"Mjob\",\"at_home\",\"activities\",\"no\",\"absences\",\"0\",\"sex\",\"F\",85,5) implication(\"Mjob\",\"at_home\",\"schoolsup\",\"no\",\"absences\",\"0\",\"sex\",\"F\",81,7) implication(\"Mjob\",\"at_home\",\"school\",\"MS\",\"absences\",\"0\",\"sex\",\"F\",80,5) implication(\"famsup\",\"yes\",\"internet\",\"no\",\"Mjob\",\"other\",\"sex\",\"F\",82,5) implication(\"internet\",\"no\",\"famsup\",\"yes\",\"Mjob\",\"other\",\"sex\",\"F\",82,5) implication(\"romantic\",\"yes\",\"Pstatus\",\"T\",\"reason\",\"reputation\",\"sex\",\"F\",83,5) implication(\"Pstatus\",\"T\",\"romantic\",\"yes\",\"reason\",\"reputation\",\"sex\",\"F\",83,5) implication(\"Mjob\",\"at_home\",\"famsize\",\"GT3\",\"school\",\"MS\",\"sex\",\"F\",80,7) implication(\"famsize\",\"GT3\",\"Mjob\",\"at_home\",\"school\",\"MS\",\"sex\",\"F\",80,7) implication(\"activities\",\"no\",\"Mjob\",\"at_home\",\"school\",\"MS\",\"sex\",\"F\",85,6) implication(\"Fjob\",\"other\",\"Mjob\",\"at_home\",\"school\",\"MS\",\"sex\",\"F\",84,6) implication(\"absences\",\"0\",\"Mjob\",\"at_home\",\"school\",\"MS\",\"sex\",\"F\",80,5) implication(\"Mjob\",\"at_home\",\"activities\",\"no\",\"school\",\"MS\",\"sex\",\"F\",85,6) implication(\"romantic\",\"yes\",\"activities\",\"no\",\"school\",\"MS\",\"sex\",\"F\",82,7) implication(\"Mjob\",\"at_home\",\"Fjob\",\"other\",\"school\",\"MS\",\"sex\",\"F\",84,6) implication(\"activities\",\"no\",\"romantic\",\"yes\",\"school\",\"MS\",\"sex\",\"F\",82,7) implication(\"Mjob\",\"at_home\",\"absences\",\"0\",\"school\",\"MS\",\"sex\",\"F\",80,5) count_facts(11682)\n",
      "\n",
      "\n"
     ]
    }
   ],
   "source": [
    "get_proxy_clusters_hardcoded(datafile)"
   ]
  },
  {
   "cell_type": "markdown",
   "id": "375cce22",
   "metadata": {},
   "source": [
    "## Undersampled Hardcoded method\n",
    "\n",
    "⚠ This method requires previous data transformation (undersampling) and subsequent verifications."
   ]
  },
  {
   "cell_type": "markdown",
   "id": "e3333b14",
   "metadata": {},
   "source": [
    "### .csv data transformation\n",
    " **⚠ Edit cell bellow** if needed\n"
   ]
  },
  {
   "cell_type": "code",
   "execution_count": 13,
   "id": "559e02fe",
   "metadata": {},
   "outputs": [],
   "source": [
    "sourcedatafolder = \"example_datasets_no_ordinals/\"\n",
    "undersampleddatafolder = \"undersampled_clingo_data/\"\n",
    "n_records = 500"
   ]
  },
  {
   "cell_type": "code",
   "execution_count": 14,
   "id": "56d6d4be",
   "metadata": {},
   "outputs": [],
   "source": [
    "!mkdir -p $undersampleddatafolder"
   ]
  },
  {
   "cell_type": "code",
   "execution_count": 15,
   "id": "f843c874",
   "metadata": {},
   "outputs": [],
   "source": [
    "undersample_csv_to_clingo(sourcedatafolder, dataset, undersampleddatafolder, protected_attributes, outcome_attribute, n_records)"
   ]
  },
  {
   "cell_type": "markdown",
   "id": "0486e3d9",
   "metadata": {},
   "source": [
    " **⚠ Resulting file name** should be the following `undersampleddatafile`:"
   ]
  },
  {
   "cell_type": "code",
   "execution_count": 16,
   "id": "ea551096",
   "metadata": {},
   "outputs": [],
   "source": [
    "undersampleddatafile = undersampleddatafolder + \"recs-\" + str(n_records) + \"-data-\" + dataset + \".lp\""
   ]
  },
  {
   "cell_type": "markdown",
   "id": "5a830281",
   "metadata": {},
   "source": [
    "### Hardcoded regular usage\n",
    "But we redirect the clingo output into a string variable "
   ]
  },
  {
   "cell_type": "code",
   "execution_count": 17,
   "id": "6f2ca98d",
   "metadata": {
    "scrolled": true
   },
   "outputs": [
    {
     "name": "stdout",
     "output_type": "stream",
     "text": [
      "protected(\"sex\") count_items(500) count_facts(9000)\n",
      "\n",
      "\n",
      "protected(\"sex\") count_items(500) implication(\"activities\",\"no\",\"Mjob\",\"at_home\",\"sex\",\"F\",83,11) implication(\"activities\",\"no\",\"schoolsup\",\"yes\",\"sex\",\"F\",82,5) implication(\"guardian\",\"father\",\"Mjob\",\"at_home\",\"sex\",\"F\",80,5) implication(\"absences\",\"0\",\"Mjob\",\"at_home\",\"sex\",\"F\",82,7) implication(\"romantic\",\"yes\",\"reason\",\"reputation\",\"sex\",\"F\",81,6) implication(\"reason\",\"reputation\",\"romantic\",\"yes\",\"sex\",\"F\",81,6) implication(\"Mjob\",\"other\",\"schoolsup\",\"yes\",\"sex\",\"F\",80,5) implication(\"Mjob\",\"at_home\",\"activities\",\"no\",\"sex\",\"F\",83,11) implication(\"Mjob\",\"at_home\",\"guardian\",\"father\",\"sex\",\"F\",80,5) implication(\"Mjob\",\"at_home\",\"absences\",\"0\",\"sex\",\"F\",82,7) implication(\"schoolsup\",\"yes\",\"activities\",\"no\",\"sex\",\"F\",82,5) implication(\"schoolsup\",\"yes\",\"Mjob\",\"other\",\"sex\",\"F\",80,5) count_facts(9000)\n",
      "\n",
      "\n",
      "protected(\"sex\") count_items(500) implication(\"Mjob\",\"at_home\",\"address\",\"R\",\"school\",\"MS\",\"sex\",\"F\",81,6) implication(\"Mjob\",\"at_home\",\"famsize\",\"GT3\",\"school\",\"MS\",\"sex\",\"F\",81,7) implication(\"Mjob\",\"at_home\",\"reason\",\"course\",\"school\",\"MS\",\"sex\",\"F\",80,6) implication(\"activities\",\"no\",\"famsup\",\"yes\",\"school\",\"MS\",\"sex\",\"F\",83,10) implication(\"famsup\",\"yes\",\"activities\",\"no\",\"school\",\"MS\",\"sex\",\"F\",83,10) implication(\"romantic\",\"yes\",\"activities\",\"no\",\"school\",\"MS\",\"sex\",\"F\",82,8) implication(\"Mjob\",\"at_home\",\"activities\",\"no\",\"school\",\"MS\",\"sex\",\"F\",90,6) implication(\"Mjob\",\"at_home\",\"absences\",\"0\",\"school\",\"MS\",\"sex\",\"F\",85,5) implication(\"activities\",\"no\",\"romantic\",\"yes\",\"school\",\"MS\",\"sex\",\"F\",82,8) implication(\"Mjob\",\"at_home\",\"Fjob\",\"other\",\"school\",\"MS\",\"sex\",\"F\",87,6) implication(\"address\",\"R\",\"Mjob\",\"at_home\",\"school\",\"MS\",\"sex\",\"F\",81,6) implication(\"famsize\",\"GT3\",\"Mjob\",\"at_home\",\"school\",\"MS\",\"sex\",\"F\",81,7) implication(\"reason\",\"course\",\"Mjob\",\"at_home\",\"school\",\"MS\",\"sex\",\"F\",80,6) implication(\"activities\",\"no\",\"Mjob\",\"at_home\",\"school\",\"MS\",\"sex\",\"F\",90,6) implication(\"absences\",\"0\",\"Mjob\",\"at_home\",\"school\",\"MS\",\"sex\",\"F\",85,5) implication(\"Fjob\",\"other\",\"Mjob\",\"at_home\",\"school\",\"MS\",\"sex\",\"F\",87,6) implication(\"internet\",\"no\",\"Mjob\",\"at_home\",\"school\",\"MS\",\"sex\",\"F\",81,5) implication(\"Mjob\",\"at_home\",\"internet\",\"no\",\"school\",\"MS\",\"sex\",\"F\",81,5) implication(\"Mjob\",\"at_home\",\"school\",\"MS\",\"address\",\"R\",\"sex\",\"F\",81,6) implication(\"school\",\"MS\",\"Mjob\",\"at_home\",\"address\",\"R\",\"sex\",\"F\",81,6) implication(\"Mjob\",\"at_home\",\"school\",\"MS\",\"famsize\",\"GT3\",\"sex\",\"F\",81,7) implication(\"Mjob\",\"at_home\",\"famsup\",\"yes\",\"famsize\",\"GT3\",\"sex\",\"F\",88,8) implication(\"romantic\",\"yes\",\"activities\",\"no\",\"famsize\",\"GT3\",\"sex\",\"F\",81,12) implication(\"Mjob\",\"at_home\",\"activities\",\"no\",\"famsize\",\"GT3\",\"sex\",\"F\",82,8) implication(\"Mjob\",\"at_home\",\"internet\",\"yes\",\"famsize\",\"GT3\",\"sex\",\"F\",82,8) implication(\"Mjob\",\"at_home\",\"absences\",\"0\",\"famsize\",\"GT3\",\"sex\",\"F\",85,5) implication(\"activities\",\"no\",\"romantic\",\"yes\",\"famsize\",\"GT3\",\"sex\",\"F\",81,12) implication(\"Mjob\",\"at_home\",\"Fjob\",\"other\",\"famsize\",\"GT3\",\"sex\",\"F\",82,8) implication(\"absences\",\"4\",\"Mjob\",\"other\",\"famsize\",\"GT3\",\"sex\",\"F\",80,5) implication(\"school\",\"MS\",\"Mjob\",\"at_home\",\"famsize\",\"GT3\",\"sex\",\"F\",81,7) implication(\"famsup\",\"yes\",\"Mjob\",\"at_home\",\"famsize\",\"GT3\",\"sex\",\"F\",88,8) implication(\"activities\",\"no\",\"Mjob\",\"at_home\",\"famsize\",\"GT3\",\"sex\",\"F\",82,8) implication(\"internet\",\"yes\",\"Mjob\",\"at_home\",\"famsize\",\"GT3\",\"sex\",\"F\",82,8) implication(\"absences\",\"0\",\"Mjob\",\"at_home\",\"famsize\",\"GT3\",\"sex\",\"F\",85,5) implication(\"Fjob\",\"other\",\"Mjob\",\"at_home\",\"famsize\",\"GT3\",\"sex\",\"F\",82,8) implication(\"Mjob\",\"other\",\"absences\",\"4\",\"famsize\",\"GT3\",\"sex\",\"F\",80,5) implication(\"Mjob\",\"at_home\",\"school\",\"MS\",\"reason\",\"course\",\"sex\",\"F\",80,6) implication(\"Mjob\",\"at_home\",\"famsup\",\"yes\",\"reason\",\"course\",\"sex\",\"F\",81,6) implication(\"Mjob\",\"at_home\",\"activities\",\"no\",\"reason\",\"course\",\"sex\",\"F\",81,6) implication(\"school\",\"MS\",\"Mjob\",\"at_home\",\"reason\",\"course\",\"sex\",\"F\",80,6) implication(\"famsup\",\"yes\",\"Mjob\",\"at_home\",\"reason\",\"course\",\"sex\",\"F\",81,6) implication(\"activities\",\"no\",\"Mjob\",\"at_home\",\"reason\",\"course\",\"sex\",\"F\",81,6) implication(\"Mjob\",\"at_home\",\"activities\",\"no\",\"schoolsup\",\"no\",\"sex\",\"F\",82,10) implication(\"Mjob\",\"at_home\",\"absences\",\"0\",\"schoolsup\",\"no\",\"sex\",\"F\",83,7) implication(\"reason\",\"reputation\",\"romantic\",\"yes\",\"schoolsup\",\"no\",\"sex\",\"F\",81,5) implication(\"romantic\",\"yes\",\"reason\",\"reputation\",\"schoolsup\",\"no\",\"sex\",\"F\",81,5) implication(\"activities\",\"no\",\"Mjob\",\"at_home\",\"schoolsup\",\"no\",\"sex\",\"F\",82,10) implication(\"absences\",\"0\",\"Mjob\",\"at_home\",\"schoolsup\",\"no\",\"sex\",\"F\",83,7) implication(\"activities\",\"no\",\"school\",\"MS\",\"famsup\",\"yes\",\"sex\",\"F\",83,10) implication(\"Mjob\",\"at_home\",\"famsize\",\"GT3\",\"famsup\",\"yes\",\"sex\",\"F\",88,8) implication(\"Mjob\",\"at_home\",\"reason\",\"course\",\"famsup\",\"yes\",\"sex\",\"F\",81,6) implication(\"school\",\"MS\",\"activities\",\"no\",\"famsup\",\"yes\",\"sex\",\"F\",83,10) implication(\"Mjob\",\"at_home\",\"activities\",\"no\",\"famsup\",\"yes\",\"sex\",\"F\",93,6) implication(\"internet\",\"no\",\"activities\",\"no\",\"famsup\",\"yes\",\"sex\",\"F\",85,6) implication(\"Mjob\",\"at_home\",\"romantic\",\"no\",\"famsup\",\"yes\",\"sex\",\"F\",81,7) implication(\"schoolsup\",\"yes\",\"romantic\",\"no\",\"famsup\",\"yes\",\"sex\",\"F\",80,5) implication(\"Mjob\",\"at_home\",\"school\",\"GP\",\"famsup\",\"yes\",\"sex\",\"F\",84,5) implication(\"Mjob\",\"at_home\",\"Fjob\",\"other\",\"famsup\",\"yes\",\"sex\",\"F\",88,7) implication(\"internet\",\"no\",\"Fjob\",\"other\",\"famsup\",\"yes\",\"sex\",\"F\",90,6) implication(\"famsize\",\"GT3\",\"Mjob\",\"at_home\",\"famsup\",\"yes\",\"sex\",\"F\",88,8) implication(\"reason\",\"course\",\"Mjob\",\"at_home\",\"famsup\",\"yes\",\"sex\",\"F\",81,6) implication(\"activities\",\"no\",\"Mjob\",\"at_home\",\"famsup\",\"yes\",\"sex\",\"F\",93,6) implication(\"romantic\",\"no\",\"Mjob\",\"at_home\",\"famsup\",\"yes\",\"sex\",\"F\",81,7) implication(\"school\",\"GP\",\"Mjob\",\"at_home\",\"famsup\",\"yes\",\"sex\",\"F\",84,5) implication(\"Fjob\",\"other\",\"Mjob\",\"at_home\",\"famsup\",\"yes\",\"sex\",\"F\",88,7) implication(\"activities\",\"no\",\"internet\",\"no\",\"famsup\",\"yes\",\"sex\",\"F\",85,6) implication(\"Fjob\",\"other\",\"internet\",\"no\",\"famsup\",\"yes\",\"sex\",\"F\",90,6) implication(\"romantic\",\"no\",\"schoolsup\",\"yes\",\"famsup\",\"yes\",\"sex\",\"F\",80,5) implication(\"Mjob\",\"at_home\",\"activities\",\"no\",\"paid\",\"no\",\"sex\",\"F\",83,10) implication(\"schoolsup\",\"yes\",\"activities\",\"no\",\"paid\",\"no\",\"sex\",\"F\",82,5) implication(\"schoolsup\",\"yes\",\"nursery\",\"yes\",\"paid\",\"no\",\"sex\",\"F\",80,8) implication(\"schoolsup\",\"yes\",\"higher\",\"yes\",\"paid\",\"no\",\"sex\",\"F\",80,9) implication(\"schoolsup\",\"yes\",\"romantic\",\"no\",\"paid\",\"no\",\"sex\",\"F\",82,7) implication(\"Mjob\",\"at_home\",\"guardian\",\"father\",\"paid\",\"no\",\"sex\",\"F\",80,5) implication(\"Mjob\",\"at_home\",\"absences\",\"0\",\"paid\",\"no\",\"sex\",\"F\",84,7) implication(\"reason\",\"reputation\",\"romantic\",\"yes\",\"paid\",\"no\",\"sex\",\"F\",80,6) implication(\"romantic\",\"yes\",\"reason\",\"reputation\",\"paid\",\"no\",\"sex\",\"F\",80,6) implication(\"schoolsup\",\"yes\",\"Fjob\",\"other\",\"paid\",\"no\",\"sex\",\"F\",80,5) implication(\"activities\",\"no\",\"Mjob\",\"at_home\",\"paid\",\"no\",\"sex\",\"F\",83,10) implication(\"guardian\",\"father\",\"Mjob\",\"at_home\",\"paid\",\"no\",\"sex\",\"F\",80,5) implication(\"absences\",\"0\",\"Mjob\",\"at_home\",\"paid\",\"no\",\"sex\",\"F\",84,7) implication(\"activities\",\"no\",\"schoolsup\",\"yes\",\"paid\",\"no\",\"sex\",\"F\",82,5) implication(\"nursery\",\"yes\",\"schoolsup\",\"yes\",\"paid\",\"no\",\"sex\",\"F\",80,8) implication(\"higher\",\"yes\",\"schoolsup\",\"yes\",\"paid\",\"no\",\"sex\",\"F\",80,9) implication(\"romantic\",\"no\",\"schoolsup\",\"yes\",\"paid\",\"no\",\"sex\",\"F\",82,7) implication(\"Fjob\",\"other\",\"schoolsup\",\"yes\",\"paid\",\"no\",\"sex\",\"F\",80,5) implication(\"famsup\",\"yes\",\"school\",\"MS\",\"activities\",\"no\",\"sex\",\"F\",83,10) implication(\"romantic\",\"yes\",\"school\",\"MS\",\"activities\",\"no\",\"sex\",\"F\",82,8) implication(\"Mjob\",\"at_home\",\"school\",\"MS\",\"activities\",\"no\",\"sex\",\"F\",90,6) implication(\"romantic\",\"yes\",\"famsize\",\"GT3\",\"activities\",\"no\",\"sex\",\"F\",81,12) implication(\"Mjob\",\"at_home\",\"famsize\",\"GT3\",\"activities\",\"no\",\"sex\",\"F\",82,8) implication(\"Mjob\",\"at_home\",\"reason\",\"course\",\"activities\",\"no\",\"sex\",\"F\",81,6) implication(\"Mjob\",\"at_home\",\"schoolsup\",\"no\",\"activities\",\"no\",\"sex\",\"F\",82,10) implication(\"school\",\"MS\",\"famsup\",\"yes\",\"activities\",\"no\",\"sex\",\"F\",83,10) implication(\"Mjob\",\"at_home\",\"famsup\",\"yes\",\"activities\",\"no\",\"sex\",\"F\",93,6) implication(\"internet\",\"no\",\"famsup\",\"yes\",\"activities\",\"no\",\"sex\",\"F\",85,6) implication(\"Mjob\",\"at_home\",\"paid\",\"no\",\"activities\",\"no\",\"sex\",\"F\",83,10) implication(\"schoolsup\",\"yes\",\"paid\",\"no\",\"activities\",\"no\",\"sex\",\"F\",82,5) implication(\"Mjob\",\"at_home\",\"nursery\",\"yes\",\"activities\",\"no\",\"sex\",\"F\",82,9) implication(\"schoolsup\",\"yes\",\"nursery\",\"yes\",\"activities\",\"no\",\"sex\",\"F\",84,5) implication(\"Mjob\",\"at_home\",\"higher\",\"yes\",\"activities\",\"no\",\"sex\",\"F\",84,9) implication(\"schoolsup\",\"yes\",\"higher\",\"yes\",\"activities\",\"no\",\"sex\",\"F\",82,5) implication(\"Mjob\",\"at_home\",\"internet\",\"yes\",\"activities\",\"no\",\"sex\",\"F\",89,5) implication(\"Mjob\",\"at_home\",\"romantic\",\"no\",\"activities\",\"no\",\"sex\",\"F\",83,7) implication(\"Mjob\",\"at_home\",\"address\",\"U\",\"activities\",\"no\",\"sex\",\"F\",87,6) implication(\"internet\",\"no\",\"address\",\"U\",\"activities\",\"no\",\"sex\",\"F\",80,6) implication(\"Mjob\",\"at_home\",\"Pstatus\",\"T\",\"activities\",\"no\",\"sex\",\"F\",82,9) implication(\"schoolsup\",\"yes\",\"Pstatus\",\"T\",\"activities\",\"no\",\"sex\",\"F\",84,5) implication(\"internet\",\"no\",\"absences\",\"0\",\"activities\",\"no\",\"sex\",\"F\",80,5) implication(\"school\",\"MS\",\"romantic\",\"yes\",\"activities\",\"no\",\"sex\",\"F\",82,8) implication(\"famsize\",\"GT3\",\"romantic\",\"yes\",\"activities\",\"no\",\"sex\",\"F\",81,12) implication(\"Fjob\",\"other\",\"romantic\",\"yes\",\"activities\",\"no\",\"sex\",\"F\",82,9) implication(\"Mjob\",\"other\",\"romantic\",\"yes\",\"activities\",\"no\",\"sex\",\"F\",80,7) implication(\"romantic\",\"yes\",\"Fjob\",\"other\",\"activities\",\"no\",\"sex\",\"F\",82,9) implication(\"Mjob\",\"at_home\",\"Fjob\",\"other\",\"activities\",\"no\",\"sex\",\"F\",85,6) implication(\"romantic\",\"yes\",\"Mjob\",\"other\",\"activities\",\"no\",\"sex\",\"F\",80,7) implication(\"school\",\"MS\",\"Mjob\",\"at_home\",\"activities\",\"no\",\"sex\",\"F\",90,6) implication(\"famsize\",\"GT3\",\"Mjob\",\"at_home\",\"activities\",\"no\",\"sex\",\"F\",82,8) implication(\"reason\",\"course\",\"Mjob\",\"at_home\",\"activities\",\"no\",\"sex\",\"F\",81,6) implication(\"schoolsup\",\"no\",\"Mjob\",\"at_home\",\"activities\",\"no\",\"sex\",\"F\",82,10) implication(\"famsup\",\"yes\",\"Mjob\",\"at_home\",\"activities\",\"no\",\"sex\",\"F\",93,6) implication(\"paid\",\"no\",\"Mjob\",\"at_home\",\"activities\",\"no\",\"sex\",\"F\",83,10) implication(\"nursery\",\"yes\",\"Mjob\",\"at_home\",\"activities\",\"no\",\"sex\",\"F\",82,9) implication(\"higher\",\"yes\",\"Mjob\",\"at_home\",\"activities\",\"no\",\"sex\",\"F\",84,9) implication(\"internet\",\"yes\",\"Mjob\",\"at_home\",\"activities\",\"no\",\"sex\",\"F\",89,5) implication(\"romantic\",\"no\",\"Mjob\",\"at_home\",\"activities\",\"no\",\"sex\",\"F\",83,7) implication(\"address\",\"U\",\"Mjob\",\"at_home\",\"activities\",\"no\",\"sex\",\"F\",87,6) implication(\"Pstatus\",\"T\",\"Mjob\",\"at_home\",\"activities\",\"no\",\"sex\",\"F\",82,9) implication(\"Fjob\",\"other\",\"Mjob\",\"at_home\",\"activities\",\"no\",\"sex\",\"F\",85,6) implication(\"famsup\",\"yes\",\"internet\",\"no\",\"activities\",\"no\",\"sex\",\"F\",85,6) implication(\"address\",\"U\",\"internet\",\"no\",\"activities\",\"no\",\"sex\",\"F\",80,6) implication(\"absences\",\"0\",\"internet\",\"no\",\"activities\",\"no\",\"sex\",\"F\",80,5) implication(\"paid\",\"no\",\"schoolsup\",\"yes\",\"activities\",\"no\",\"sex\",\"F\",82,5) implication(\"nursery\",\"yes\",\"schoolsup\",\"yes\",\"activities\",\"no\",\"sex\",\"F\",84,5) implication(\"higher\",\"yes\",\"schoolsup\",\"yes\",\"activities\",\"no\",\"sex\",\"F\",82,5) implication(\"Pstatus\",\"T\",\"schoolsup\",\"yes\",\"activities\",\"no\",\"sex\",\"F\",84,5) implication(\"schoolsup\",\"yes\",\"paid\",\"no\",\"nursery\",\"yes\",\"sex\",\"F\",80,8) implication(\"Mjob\",\"at_home\",\"activities\",\"no\",\"nursery\",\"yes\",\"sex\",\"F\",82,9) implication(\"schoolsup\",\"yes\",\"activities\",\"no\",\"nursery\",\"yes\",\"sex\",\"F\",84,5) implication(\"schoolsup\",\"yes\",\"romantic\",\"no\",\"nursery\",\"yes\",\"sex\",\"F\",80,7) implication(\"Mjob\",\"at_home\",\"absences\",\"0\",\"nursery\",\"yes\",\"sex\",\"F\",80,7) implication(\"reason\",\"reputation\",\"romantic\",\"yes\",\"nursery\",\"yes\",\"sex\",\"F\",81,5) implication(\"romantic\",\"yes\",\"reason\",\"reputation\",\"nursery\",\"yes\",\"sex\",\"F\",81,5) implication(\"schoolsup\",\"yes\",\"Fjob\",\"other\",\"nursery\",\"yes\",\"sex\",\"F\",80,5) implication(\"activities\",\"no\",\"Mjob\",\"at_home\",\"nursery\",\"yes\",\"sex\",\"F\",82,9) implication(\"absences\",\"0\",\"Mjob\",\"at_home\",\"nursery\",\"yes\",\"sex\",\"F\",80,7) implication(\"paid\",\"no\",\"schoolsup\",\"yes\",\"nursery\",\"yes\",\"sex\",\"F\",80,8) implication(\"activities\",\"no\",\"schoolsup\",\"yes\",\"nursery\",\"yes\",\"sex\",\"F\",84,5) implication(\"romantic\",\"no\",\"schoolsup\",\"yes\",\"nursery\",\"yes\",\"sex\",\"F\",80,7) implication(\"Fjob\",\"other\",\"schoolsup\",\"yes\",\"nursery\",\"yes\",\"sex\",\"F\",80,5) implication(\"schoolsup\",\"yes\",\"paid\",\"no\",\"higher\",\"yes\",\"sex\",\"F\",80,9) implication(\"Mjob\",\"at_home\",\"activities\",\"no\",\"higher\",\"yes\",\"sex\",\"F\",84,9) implication(\"schoolsup\",\"yes\",\"activities\",\"no\",\"higher\",\"yes\",\"sex\",\"F\",82,5) implication(\"schoolsup\",\"yes\",\"romantic\",\"no\",\"higher\",\"yes\",\"sex\",\"F\",81,7) implication(\"Mjob\",\"at_home\",\"absences\",\"0\",\"higher\",\"yes\",\"sex\",\"F\",80,6) implication(\"reason\",\"reputation\",\"romantic\",\"yes\",\"higher\",\"yes\",\"sex\",\"F\",80,6) implication(\"romantic\",\"yes\",\"reason\",\"reputation\",\"higher\",\"yes\",\"sex\",\"F\",80,6) implication(\"Mjob\",\"at_home\",\"Fjob\",\"other\",\"higher\",\"yes\",\"sex\",\"F\",80,10) implication(\"schoolsup\",\"yes\",\"Fjob\",\"other\",\"higher\",\"yes\",\"sex\",\"F\",82,5) implication(\"absences\",\"4\",\"Mjob\",\"other\",\"higher\",\"yes\",\"sex\",\"F\",80,5) implication(\"schoolsup\",\"yes\",\"Mjob\",\"other\",\"higher\",\"yes\",\"sex\",\"F\",84,5) implication(\"activities\",\"no\",\"Mjob\",\"at_home\",\"higher\",\"yes\",\"sex\",\"F\",84,9) implication(\"absences\",\"0\",\"Mjob\",\"at_home\",\"higher\",\"yes\",\"sex\",\"F\",80,6) implication(\"Fjob\",\"other\",\"Mjob\",\"at_home\",\"higher\",\"yes\",\"sex\",\"F\",80,10) implication(\"Mjob\",\"other\",\"absences\",\"4\",\"higher\",\"yes\",\"sex\",\"F\",80,5) implication(\"paid\",\"no\",\"schoolsup\",\"yes\",\"higher\",\"yes\",\"sex\",\"F\",80,9) implication(\"activities\",\"no\",\"schoolsup\",\"yes\",\"higher\",\"yes\",\"sex\",\"F\",82,5) implication(\"romantic\",\"no\",\"schoolsup\",\"yes\",\"higher\",\"yes\",\"sex\",\"F\",81,7) implication(\"Fjob\",\"other\",\"schoolsup\",\"yes\",\"higher\",\"yes\",\"sex\",\"F\",82,5) implication(\"Mjob\",\"other\",\"schoolsup\",\"yes\",\"higher\",\"yes\",\"sex\",\"F\",84,5) implication(\"Mjob\",\"at_home\",\"famsize\",\"GT3\",\"internet\",\"yes\",\"sex\",\"F\",82,8) implication(\"Mjob\",\"at_home\",\"activities\",\"no\",\"internet\",\"yes\",\"sex\",\"F\",89,5) implication(\"reason\",\"reputation\",\"romantic\",\"yes\",\"internet\",\"yes\",\"sex\",\"F\",82,5) implication(\"romantic\",\"yes\",\"reason\",\"reputation\",\"internet\",\"yes\",\"sex\",\"F\",82,5) implication(\"Mjob\",\"at_home\",\"Fjob\",\"other\",\"internet\",\"yes\",\"sex\",\"F\",80,6) implication(\"famsize\",\"GT3\",\"Mjob\",\"at_home\",\"internet\",\"yes\",\"sex\",\"F\",82,8) implication(\"activities\",\"no\",\"Mjob\",\"at_home\",\"internet\",\"yes\",\"sex\",\"F\",89,5) implication(\"Fjob\",\"other\",\"Mjob\",\"at_home\",\"internet\",\"yes\",\"sex\",\"F\",80,6) implication(\"Mjob\",\"at_home\",\"famsup\",\"yes\",\"romantic\",\"no\",\"sex\",\"F\",81,7) implication(\"schoolsup\",\"yes\",\"famsup\",\"yes\",\"romantic\",\"no\",\"sex\",\"F\",80,5) implication(\"schoolsup\",\"yes\",\"paid\",\"no\",\"romantic\",\"no\",\"sex\",\"F\",82,7) implication(\"Mjob\",\"at_home\",\"activities\",\"no\",\"romantic\",\"no\",\"sex\",\"F\",83,7) implication(\"schoolsup\",\"yes\",\"nursery\",\"yes\",\"romantic\",\"no\",\"sex\",\"F\",80,7) implication(\"schoolsup\",\"yes\",\"higher\",\"yes\",\"romantic\",\"no\",\"sex\",\"F\",81,7) implication(\"schoolsup\",\"yes\",\"Pstatus\",\"T\",\"romantic\",\"no\",\"sex\",\"F\",82,6) implication(\"Mjob\",\"at_home\",\"Fjob\",\"other\",\"romantic\",\"no\",\"sex\",\"F\",82,7) implication(\"famsup\",\"yes\",\"Mjob\",\"at_home\",\"romantic\",\"no\",\"sex\",\"F\",81,7) implication(\"activities\",\"no\",\"Mjob\",\"at_home\",\"romantic\",\"no\",\"sex\",\"F\",83,7) implication(\"Fjob\",\"other\",\"Mjob\",\"at_home\",\"romantic\",\"no\",\"sex\",\"F\",82,7) implication(\"famsup\",\"yes\",\"schoolsup\",\"yes\",\"romantic\",\"no\",\"sex\",\"F\",80,5) implication(\"paid\",\"no\",\"schoolsup\",\"yes\",\"romantic\",\"no\",\"sex\",\"F\",82,7) implication(\"nursery\",\"yes\",\"schoolsup\",\"yes\",\"romantic\",\"no\",\"sex\",\"F\",80,7) implication(\"higher\",\"yes\",\"schoolsup\",\"yes\",\"romantic\",\"no\",\"sex\",\"F\",81,7) implication(\"Pstatus\",\"T\",\"schoolsup\",\"yes\",\"romantic\",\"no\",\"sex\",\"F\",82,6) implication(\"Mjob\",\"at_home\",\"famsup\",\"yes\",\"school\",\"GP\",\"sex\",\"F\",84,5) implication(\"Mjob\",\"at_home\",\"address\",\"U\",\"school\",\"GP\",\"sex\",\"F\",81,6) implication(\"famsup\",\"yes\",\"Mjob\",\"at_home\",\"school\",\"GP\",\"sex\",\"F\",84,5) implication(\"address\",\"U\",\"Mjob\",\"at_home\",\"school\",\"GP\",\"sex\",\"F\",81,6) implication(\"Mjob\",\"at_home\",\"activities\",\"no\",\"address\",\"U\",\"sex\",\"F\",87,6) implication(\"internet\",\"no\",\"activities\",\"no\",\"address\",\"U\",\"sex\",\"F\",80,6) implication(\"Mjob\",\"at_home\",\"school\",\"GP\",\"address\",\"U\",\"sex\",\"F\",81,6) implication(\"Mjob\",\"at_home\",\"Fjob\",\"other\",\"address\",\"U\",\"sex\",\"F\",82,5) implication(\"internet\",\"no\",\"Mjob\",\"other\",\"address\",\"U\",\"sex\",\"F\",84,5) implication(\"activities\",\"no\",\"Mjob\",\"at_home\",\"address\",\"U\",\"sex\",\"F\",87,6) implication(\"school\",\"GP\",\"Mjob\",\"at_home\",\"address\",\"U\",\"sex\",\"F\",81,6) implication(\"Fjob\",\"other\",\"Mjob\",\"at_home\",\"address\",\"U\",\"sex\",\"F\",82,5) implication(\"activities\",\"no\",\"internet\",\"no\",\"address\",\"U\",\"sex\",\"F\",80,6) implication(\"Mjob\",\"other\",\"internet\",\"no\",\"address\",\"U\",\"sex\",\"F\",84,5) implication(\"Mjob\",\"at_home\",\"activities\",\"no\",\"Pstatus\",\"T\",\"sex\",\"F\",82,9) implication(\"schoolsup\",\"yes\",\"activities\",\"no\",\"Pstatus\",\"T\",\"sex\",\"F\",84,5) implication(\"schoolsup\",\"yes\",\"romantic\",\"no\",\"Pstatus\",\"T\",\"sex\",\"F\",82,6) implication(\"Mjob\",\"at_home\",\"absences\",\"0\",\"Pstatus\",\"T\",\"sex\",\"F\",80,7) implication(\"reason\",\"reputation\",\"romantic\",\"yes\",\"Pstatus\",\"T\",\"sex\",\"F\",82,5) implication(\"romantic\",\"yes\",\"reason\",\"reputation\",\"Pstatus\",\"T\",\"sex\",\"F\",82,5) implication(\"activities\",\"no\",\"Mjob\",\"at_home\",\"Pstatus\",\"T\",\"sex\",\"F\",82,9) implication(\"absences\",\"0\",\"Mjob\",\"at_home\",\"Pstatus\",\"T\",\"sex\",\"F\",80,7) implication(\"activities\",\"no\",\"schoolsup\",\"yes\",\"Pstatus\",\"T\",\"sex\",\"F\",84,5) implication(\"romantic\",\"no\",\"schoolsup\",\"yes\",\"Pstatus\",\"T\",\"sex\",\"F\",82,6) implication(\"Mjob\",\"at_home\",\"paid\",\"no\",\"guardian\",\"father\",\"sex\",\"F\",80,5) implication(\"paid\",\"no\",\"Mjob\",\"at_home\",\"guardian\",\"father\",\"sex\",\"F\",80,5) implication(\"Mjob\",\"at_home\",\"school\",\"MS\",\"absences\",\"0\",\"sex\",\"F\",85,5) implication(\"Mjob\",\"at_home\",\"famsize\",\"GT3\",\"absences\",\"0\",\"sex\",\"F\",85,5) implication(\"Mjob\",\"at_home\",\"schoolsup\",\"no\",\"absences\",\"0\",\"sex\",\"F\",83,7) implication(\"Mjob\",\"at_home\",\"paid\",\"no\",\"absences\",\"0\",\"sex\",\"F\",84,7) implication(\"internet\",\"no\",\"activities\",\"no\",\"absences\",\"0\",\"sex\",\"F\",80,5) implication(\"Mjob\",\"at_home\",\"nursery\",\"yes\",\"absences\",\"0\",\"sex\",\"F\",80,7) implication(\"Mjob\",\"at_home\",\"higher\",\"yes\",\"absences\",\"0\",\"sex\",\"F\",80,6) implication(\"Mjob\",\"at_home\",\"Pstatus\",\"T\",\"absences\",\"0\",\"sex\",\"F\",80,7) implication(\"school\",\"MS\",\"Mjob\",\"at_home\",\"absences\",\"0\",\"sex\",\"F\",85,5) implication(\"famsize\",\"GT3\",\"Mjob\",\"at_home\",\"absences\",\"0\",\"sex\",\"F\",85,5) implication(\"schoolsup\",\"no\",\"Mjob\",\"at_home\",\"absences\",\"0\",\"sex\",\"F\",83,7) implication(\"paid\",\"no\",\"Mjob\",\"at_home\",\"absences\",\"0\",\"sex\",\"F\",84,7) implication(\"nursery\",\"yes\",\"Mjob\",\"at_home\",\"absences\",\"0\",\"sex\",\"F\",80,7) implication(\"higher\",\"yes\",\"Mjob\",\"at_home\",\"absences\",\"0\",\"sex\",\"F\",80,6) implication(\"Pstatus\",\"T\",\"Mjob\",\"at_home\",\"absences\",\"0\",\"sex\",\"F\",80,7) implication(\"activities\",\"no\",\"internet\",\"no\",\"absences\",\"0\",\"sex\",\"F\",80,5) implication(\"activities\",\"no\",\"school\",\"MS\",\"romantic\",\"yes\",\"sex\",\"F\",82,8) implication(\"activities\",\"no\",\"famsize\",\"GT3\",\"romantic\",\"yes\",\"sex\",\"F\",81,12) implication(\"reason\",\"reputation\",\"schoolsup\",\"no\",\"romantic\",\"yes\",\"sex\",\"F\",81,5) implication(\"reason\",\"reputation\",\"paid\",\"no\",\"romantic\",\"yes\",\"sex\",\"F\",80,6) implication(\"school\",\"MS\",\"activities\",\"no\",\"romantic\",\"yes\",\"sex\",\"F\",82,8) implication(\"famsize\",\"GT3\",\"activities\",\"no\",\"romantic\",\"yes\",\"sex\",\"F\",81,12) implication(\"Fjob\",\"other\",\"activities\",\"no\",\"romantic\",\"yes\",\"sex\",\"F\",82,9) implication(\"Mjob\",\"other\",\"activities\",\"no\",\"romantic\",\"yes\",\"sex\",\"F\",80,7) implication(\"reason\",\"reputation\",\"nursery\",\"yes\",\"romantic\",\"yes\",\"sex\",\"F\",81,5) implication(\"reason\",\"reputation\",\"higher\",\"yes\",\"romantic\",\"yes\",\"sex\",\"F\",80,6) implication(\"reason\",\"reputation\",\"internet\",\"yes\",\"romantic\",\"yes\",\"sex\",\"F\",82,5) implication(\"reason\",\"reputation\",\"Pstatus\",\"T\",\"romantic\",\"yes\",\"sex\",\"F\",82,5) implication(\"schoolsup\",\"no\",\"reason\",\"reputation\",\"romantic\",\"yes\",\"sex\",\"F\",81,5) implication(\"paid\",\"no\",\"reason\",\"reputation\",\"romantic\",\"yes\",\"sex\",\"F\",80,6) implication(\"nursery\",\"yes\",\"reason\",\"reputation\",\"romantic\",\"yes\",\"sex\",\"F\",81,5) implication(\"higher\",\"yes\",\"reason\",\"reputation\",\"romantic\",\"yes\",\"sex\",\"F\",80,6) implication(\"internet\",\"yes\",\"reason\",\"reputation\",\"romantic\",\"yes\",\"sex\",\"F\",82,5) implication(\"Pstatus\",\"T\",\"reason\",\"reputation\",\"romantic\",\"yes\",\"sex\",\"F\",82,5) implication(\"activities\",\"no\",\"Fjob\",\"other\",\"romantic\",\"yes\",\"sex\",\"F\",82,9) implication(\"activities\",\"no\",\"Mjob\",\"other\",\"romantic\",\"yes\",\"sex\",\"F\",80,7) implication(\"romantic\",\"yes\",\"schoolsup\",\"no\",\"reason\",\"reputation\",\"sex\",\"F\",81,5) implication(\"romantic\",\"yes\",\"paid\",\"no\",\"reason\",\"reputation\",\"sex\",\"F\",80,6) implication(\"romantic\",\"yes\",\"nursery\",\"yes\",\"reason\",\"reputation\",\"sex\",\"F\",81,5) implication(\"romantic\",\"yes\",\"higher\",\"yes\",\"reason\",\"reputation\",\"sex\",\"F\",80,6) implication(\"romantic\",\"yes\",\"internet\",\"yes\",\"reason\",\"reputation\",\"sex\",\"F\",82,5) implication(\"romantic\",\"yes\",\"Pstatus\",\"T\",\"reason\",\"reputation\",\"sex\",\"F\",82,5) implication(\"schoolsup\",\"no\",\"romantic\",\"yes\",\"reason\",\"reputation\",\"sex\",\"F\",81,5) implication(\"paid\",\"no\",\"romantic\",\"yes\",\"reason\",\"reputation\",\"sex\",\"F\",80,6) implication(\"nursery\",\"yes\",\"romantic\",\"yes\",\"reason\",\"reputation\",\"sex\",\"F\",81,5) implication(\"higher\",\"yes\",\"romantic\",\"yes\",\"reason\",\"reputation\",\"sex\",\"F\",80,6) implication(\"internet\",\"yes\",\"romantic\",\"yes\",\"reason\",\"reputation\",\"sex\",\"F\",82,5) implication(\"Pstatus\",\"T\",\"romantic\",\"yes\",\"reason\",\"reputation\",\"sex\",\"F\",82,5) implication(\"Mjob\",\"at_home\",\"school\",\"MS\",\"Fjob\",\"other\",\"sex\",\"F\",87,6) implication(\"Mjob\",\"at_home\",\"famsize\",\"GT3\",\"Fjob\",\"other\",\"sex\",\"F\",82,8) implication(\"Mjob\",\"at_home\",\"famsup\",\"yes\",\"Fjob\",\"other\",\"sex\",\"F\",88,7) implication(\"internet\",\"no\",\"famsup\",\"yes\",\"Fjob\",\"other\",\"sex\",\"F\",90,6) implication(\"schoolsup\",\"yes\",\"paid\",\"no\",\"Fjob\",\"other\",\"sex\",\"F\",80,5) implication(\"romantic\",\"yes\",\"activities\",\"no\",\"Fjob\",\"other\",\"sex\",\"F\",82,9) implication(\"Mjob\",\"at_home\",\"activities\",\"no\",\"Fjob\",\"other\",\"sex\",\"F\",85,6) implication(\"schoolsup\",\"yes\",\"nursery\",\"yes\",\"Fjob\",\"other\",\"sex\",\"F\",80,5) implication(\"Mjob\",\"at_home\",\"higher\",\"yes\",\"Fjob\",\"other\",\"sex\",\"F\",80,10) implication(\"schoolsup\",\"yes\",\"higher\",\"yes\",\"Fjob\",\"other\",\"sex\",\"F\",82,5) implication(\"Mjob\",\"at_home\",\"internet\",\"yes\",\"Fjob\",\"other\",\"sex\",\"F\",80,6) implication(\"Mjob\",\"at_home\",\"romantic\",\"no\",\"Fjob\",\"other\",\"sex\",\"F\",82,7) implication(\"Mjob\",\"at_home\",\"address\",\"U\",\"Fjob\",\"other\",\"sex\",\"F\",82,5) implication(\"activities\",\"no\",\"romantic\",\"yes\",\"Fjob\",\"other\",\"sex\",\"F\",82,9) implication(\"school\",\"MS\",\"Mjob\",\"at_home\",\"Fjob\",\"other\",\"sex\",\"F\",87,6) implication(\"famsize\",\"GT3\",\"Mjob\",\"at_home\",\"Fjob\",\"other\",\"sex\",\"F\",82,8) implication(\"famsup\",\"yes\",\"Mjob\",\"at_home\",\"Fjob\",\"other\",\"sex\",\"F\",88,7) implication(\"activities\",\"no\",\"Mjob\",\"at_home\",\"Fjob\",\"other\",\"sex\",\"F\",85,6) implication(\"higher\",\"yes\",\"Mjob\",\"at_home\",\"Fjob\",\"other\",\"sex\",\"F\",80,10) implication(\"internet\",\"yes\",\"Mjob\",\"at_home\",\"Fjob\",\"other\",\"sex\",\"F\",80,6) implication(\"romantic\",\"no\",\"Mjob\",\"at_home\",\"Fjob\",\"other\",\"sex\",\"F\",82,7) implication(\"address\",\"U\",\"Mjob\",\"at_home\",\"Fjob\",\"other\",\"sex\",\"F\",82,5) implication(\"famsup\",\"yes\",\"internet\",\"no\",\"Fjob\",\"other\",\"sex\",\"F\",90,6) implication(\"paid\",\"no\",\"schoolsup\",\"yes\",\"Fjob\",\"other\",\"sex\",\"F\",80,5) implication(\"nursery\",\"yes\",\"schoolsup\",\"yes\",\"Fjob\",\"other\",\"sex\",\"F\",80,5) implication(\"higher\",\"yes\",\"schoolsup\",\"yes\",\"Fjob\",\"other\",\"sex\",\"F\",82,5) implication(\"absences\",\"4\",\"famsize\",\"GT3\",\"Mjob\",\"other\",\"sex\",\"F\",80,5) implication(\"romantic\",\"yes\",\"activities\",\"no\",\"Mjob\",\"other\",\"sex\",\"F\",80,7) implication(\"absences\",\"4\",\"higher\",\"yes\",\"Mjob\",\"other\",\"sex\",\"F\",80,5) implication(\"schoolsup\",\"yes\",\"higher\",\"yes\",\"Mjob\",\"other\",\"sex\",\"F\",84,5) implication(\"internet\",\"no\",\"address\",\"U\",\"Mjob\",\"other\",\"sex\",\"F\",84,5) implication(\"activities\",\"no\",\"romantic\",\"yes\",\"Mjob\",\"other\",\"sex\",\"F\",80,7) implication(\"famsize\",\"GT3\",\"absences\",\"4\",\"Mjob\",\"other\",\"sex\",\"F\",80,5) implication(\"higher\",\"yes\",\"absences\",\"4\",\"Mjob\",\"other\",\"sex\",\"F\",80,5) implication(\"address\",\"U\",\"internet\",\"no\",\"Mjob\",\"other\",\"sex\",\"F\",84,5) implication(\"higher\",\"yes\",\"schoolsup\",\"yes\",\"Mjob\",\"other\",\"sex\",\"F\",84,5) implication(\"address\",\"R\",\"school\",\"MS\",\"Mjob\",\"at_home\",\"sex\",\"F\",81,6) implication(\"famsize\",\"GT3\",\"school\",\"MS\",\"Mjob\",\"at_home\",\"sex\",\"F\",81,7) implication(\"reason\",\"course\",\"school\",\"MS\",\"Mjob\",\"at_home\",\"sex\",\"F\",80,6) implication(\"activities\",\"no\",\"school\",\"MS\",\"Mjob\",\"at_home\",\"sex\",\"F\",90,6) implication(\"absences\",\"0\",\"school\",\"MS\",\"Mjob\",\"at_home\",\"sex\",\"F\",85,5) implication(\"Fjob\",\"other\",\"school\",\"MS\",\"Mjob\",\"at_home\",\"sex\",\"F\",87,6) implication(\"internet\",\"no\",\"school\",\"MS\",\"Mjob\",\"at_home\",\"sex\",\"F\",81,5) implication(\"school\",\"MS\",\"address\",\"R\",\"Mjob\",\"at_home\",\"sex\",\"F\",81,6) implication(\"school\",\"MS\",\"famsize\",\"GT3\",\"Mjob\",\"at_home\",\"sex\",\"F\",81,7) implication(\"famsup\",\"yes\",\"famsize\",\"GT3\",\"Mjob\",\"at_home\",\"sex\",\"F\",88,8) implication(\"activities\",\"no\",\"famsize\",\"GT3\",\"Mjob\",\"at_home\",\"sex\",\"F\",82,8) implication(\"internet\",\"yes\",\"famsize\",\"GT3\",\"Mjob\",\"at_home\",\"sex\",\"F\",82,8) implication(\"absences\",\"0\",\"famsize\",\"GT3\",\"Mjob\",\"at_home\",\"sex\",\"F\",85,5) implication(\"Fjob\",\"other\",\"famsize\",\"GT3\",\"Mjob\",\"at_home\",\"sex\",\"F\",82,8) implication(\"school\",\"MS\",\"reason\",\"course\",\"Mjob\",\"at_home\",\"sex\",\"F\",80,6) implication(\"famsup\",\"yes\",\"reason\",\"course\",\"Mjob\",\"at_home\",\"sex\",\"F\",81,6) implication(\"activities\",\"no\",\"reason\",\"course\",\"Mjob\",\"at_home\",\"sex\",\"F\",81,6) implication(\"activities\",\"no\",\"schoolsup\",\"no\",\"Mjob\",\"at_home\",\"sex\",\"F\",82,10) implication(\"absences\",\"0\",\"schoolsup\",\"no\",\"Mjob\",\"at_home\",\"sex\",\"F\",83,7) implication(\"famsize\",\"GT3\",\"famsup\",\"yes\",\"Mjob\",\"at_home\",\"sex\",\"F\",88,8) implication(\"reason\",\"course\",\"famsup\",\"yes\",\"Mjob\",\"at_home\",\"sex\",\"F\",81,6) implication(\"activities\",\"no\",\"famsup\",\"yes\",\"Mjob\",\"at_home\",\"sex\",\"F\",93,6) implication(\"romantic\",\"no\",\"famsup\",\"yes\",\"Mjob\",\"at_home\",\"sex\",\"F\",81,7) implication(\"school\",\"GP\",\"famsup\",\"yes\",\"Mjob\",\"at_home\",\"sex\",\"F\",84,5) implication(\"Fjob\",\"other\",\"famsup\",\"yes\",\"Mjob\",\"at_home\",\"sex\",\"F\",88,7) implication(\"activities\",\"no\",\"paid\",\"no\",\"Mjob\",\"at_home\",\"sex\",\"F\",83,10) implication(\"guardian\",\"father\",\"paid\",\"no\",\"Mjob\",\"at_home\",\"sex\",\"F\",80,5) implication(\"absences\",\"0\",\"paid\",\"no\",\"Mjob\",\"at_home\",\"sex\",\"F\",84,7) implication(\"school\",\"MS\",\"activities\",\"no\",\"Mjob\",\"at_home\",\"sex\",\"F\",90,6) implication(\"famsize\",\"GT3\",\"activities\",\"no\",\"Mjob\",\"at_home\",\"sex\",\"F\",82,8) implication(\"reason\",\"course\",\"activities\",\"no\",\"Mjob\",\"at_home\",\"sex\",\"F\",81,6) implication(\"schoolsup\",\"no\",\"activities\",\"no\",\"Mjob\",\"at_home\",\"sex\",\"F\",82,10) implication(\"famsup\",\"yes\",\"activities\",\"no\",\"Mjob\",\"at_home\",\"sex\",\"F\",93,6) implication(\"paid\",\"no\",\"activities\",\"no\",\"Mjob\",\"at_home\",\"sex\",\"F\",83,10) implication(\"nursery\",\"yes\",\"activities\",\"no\",\"Mjob\",\"at_home\",\"sex\",\"F\",82,9) implication(\"higher\",\"yes\",\"activities\",\"no\",\"Mjob\",\"at_home\",\"sex\",\"F\",84,9) implication(\"internet\",\"yes\",\"activities\",\"no\",\"Mjob\",\"at_home\",\"sex\",\"F\",89,5) implication(\"romantic\",\"no\",\"activities\",\"no\",\"Mjob\",\"at_home\",\"sex\",\"F\",83,7) implication(\"address\",\"U\",\"activities\",\"no\",\"Mjob\",\"at_home\",\"sex\",\"F\",87,6) implication(\"Pstatus\",\"T\",\"activities\",\"no\",\"Mjob\",\"at_home\",\"sex\",\"F\",82,9) implication(\"Fjob\",\"other\",\"activities\",\"no\",\"Mjob\",\"at_home\",\"sex\",\"F\",85,6) implication(\"activities\",\"no\",\"nursery\",\"yes\",\"Mjob\",\"at_home\",\"sex\",\"F\",82,9) implication(\"absences\",\"0\",\"nursery\",\"yes\",\"Mjob\",\"at_home\",\"sex\",\"F\",80,7) implication(\"activities\",\"no\",\"higher\",\"yes\",\"Mjob\",\"at_home\",\"sex\",\"F\",84,9) implication(\"absences\",\"0\",\"higher\",\"yes\",\"Mjob\",\"at_home\",\"sex\",\"F\",80,6) implication(\"Fjob\",\"other\",\"higher\",\"yes\",\"Mjob\",\"at_home\",\"sex\",\"F\",80,10) implication(\"famsize\",\"GT3\",\"internet\",\"yes\",\"Mjob\",\"at_home\",\"sex\",\"F\",82,8) implication(\"activities\",\"no\",\"internet\",\"yes\",\"Mjob\",\"at_home\",\"sex\",\"F\",89,5) implication(\"Fjob\",\"other\",\"internet\",\"yes\",\"Mjob\",\"at_home\",\"sex\",\"F\",80,6) implication(\"famsup\",\"yes\",\"romantic\",\"no\",\"Mjob\",\"at_home\",\"sex\",\"F\",81,7) implication(\"activities\",\"no\",\"romantic\",\"no\",\"Mjob\",\"at_home\",\"sex\",\"F\",83,7) implication(\"Fjob\",\"other\",\"romantic\",\"no\",\"Mjob\",\"at_home\",\"sex\",\"F\",82,7) implication(\"famsup\",\"yes\",\"school\",\"GP\",\"Mjob\",\"at_home\",\"sex\",\"F\",84,5) implication(\"address\",\"U\",\"school\",\"GP\",\"Mjob\",\"at_home\",\"sex\",\"F\",81,6) implication(\"activities\",\"no\",\"address\",\"U\",\"Mjob\",\"at_home\",\"sex\",\"F\",87,6) implication(\"school\",\"GP\",\"address\",\"U\",\"Mjob\",\"at_home\",\"sex\",\"F\",81,6) implication(\"Fjob\",\"other\",\"address\",\"U\",\"Mjob\",\"at_home\",\"sex\",\"F\",82,5) implication(\"activities\",\"no\",\"Pstatus\",\"T\",\"Mjob\",\"at_home\",\"sex\",\"F\",82,9) implication(\"absences\",\"0\",\"Pstatus\",\"T\",\"Mjob\",\"at_home\",\"sex\",\"F\",80,7) implication(\"paid\",\"no\",\"guardian\",\"father\",\"Mjob\",\"at_home\",\"sex\",\"F\",80,5) implication(\"school\",\"MS\",\"absences\",\"0\",\"Mjob\",\"at_home\",\"sex\",\"F\",85,5) implication(\"famsize\",\"GT3\",\"absences\",\"0\",\"Mjob\",\"at_home\",\"sex\",\"F\",85,5) implication(\"schoolsup\",\"no\",\"absences\",\"0\",\"Mjob\",\"at_home\",\"sex\",\"F\",83,7) implication(\"paid\",\"no\",\"absences\",\"0\",\"Mjob\",\"at_home\",\"sex\",\"F\",84,7) implication(\"nursery\",\"yes\",\"absences\",\"0\",\"Mjob\",\"at_home\",\"sex\",\"F\",80,7) implication(\"higher\",\"yes\",\"absences\",\"0\",\"Mjob\",\"at_home\",\"sex\",\"F\",80,6) implication(\"Pstatus\",\"T\",\"absences\",\"0\",\"Mjob\",\"at_home\",\"sex\",\"F\",80,7) implication(\"school\",\"MS\",\"Fjob\",\"other\",\"Mjob\",\"at_home\",\"sex\",\"F\",87,6) implication(\"famsize\",\"GT3\",\"Fjob\",\"other\",\"Mjob\",\"at_home\",\"sex\",\"F\",82,8) implication(\"famsup\",\"yes\",\"Fjob\",\"other\",\"Mjob\",\"at_home\",\"sex\",\"F\",88,7) implication(\"activities\",\"no\",\"Fjob\",\"other\",\"Mjob\",\"at_home\",\"sex\",\"F\",85,6) implication(\"higher\",\"yes\",\"Fjob\",\"other\",\"Mjob\",\"at_home\",\"sex\",\"F\",80,10) implication(\"internet\",\"yes\",\"Fjob\",\"other\",\"Mjob\",\"at_home\",\"sex\",\"F\",80,6) implication(\"romantic\",\"no\",\"Fjob\",\"other\",\"Mjob\",\"at_home\",\"sex\",\"F\",82,7) implication(\"address\",\"U\",\"Fjob\",\"other\",\"Mjob\",\"at_home\",\"sex\",\"F\",82,5) implication(\"school\",\"MS\",\"internet\",\"no\",\"Mjob\",\"at_home\",\"sex\",\"F\",81,5) implication(\"Mjob\",\"other\",\"famsize\",\"GT3\",\"absences\",\"4\",\"sex\",\"F\",80,5) implication(\"Mjob\",\"other\",\"higher\",\"yes\",\"absences\",\"4\",\"sex\",\"F\",80,5) implication(\"famsize\",\"GT3\",\"Mjob\",\"other\",\"absences\",\"4\",\"sex\",\"F\",80,5) implication(\"higher\",\"yes\",\"Mjob\",\"other\",\"absences\",\"4\",\"sex\",\"F\",80,5) implication(\"Mjob\",\"at_home\",\"school\",\"MS\",\"internet\",\"no\",\"sex\",\"F\",81,5) implication(\"activities\",\"no\",\"famsup\",\"yes\",\"internet\",\"no\",\"sex\",\"F\",85,6) implication(\"Fjob\",\"other\",\"famsup\",\"yes\",\"internet\",\"no\",\"sex\",\"F\",90,6) implication(\"famsup\",\"yes\",\"activities\",\"no\",\"internet\",\"no\",\"sex\",\"F\",85,6) implication(\"address\",\"U\",\"activities\",\"no\",\"internet\",\"no\",\"sex\",\"F\",80,6) implication(\"absences\",\"0\",\"activities\",\"no\",\"internet\",\"no\",\"sex\",\"F\",80,5) implication(\"activities\",\"no\",\"address\",\"U\",\"internet\",\"no\",\"sex\",\"F\",80,6) implication(\"Mjob\",\"other\",\"address\",\"U\",\"internet\",\"no\",\"sex\",\"F\",84,5) implication(\"activities\",\"no\",\"absences\",\"0\",\"internet\",\"no\",\"sex\",\"F\",80,5) implication(\"famsup\",\"yes\",\"Fjob\",\"other\",\"internet\",\"no\",\"sex\",\"F\",90,6) implication(\"address\",\"U\",\"Mjob\",\"other\",\"internet\",\"no\",\"sex\",\"F\",84,5) implication(\"school\",\"MS\",\"Mjob\",\"at_home\",\"internet\",\"no\",\"sex\",\"F\",81,5) implication(\"romantic\",\"no\",\"famsup\",\"yes\",\"schoolsup\",\"yes\",\"sex\",\"F\",80,5) implication(\"activities\",\"no\",\"paid\",\"no\",\"schoolsup\",\"yes\",\"sex\",\"F\",82,5) implication(\"nursery\",\"yes\",\"paid\",\"no\",\"schoolsup\",\"yes\",\"sex\",\"F\",80,8) implication(\"higher\",\"yes\",\"paid\",\"no\",\"schoolsup\",\"yes\",\"sex\",\"F\",80,9) implication(\"romantic\",\"no\",\"paid\",\"no\",\"schoolsup\",\"yes\",\"sex\",\"F\",82,7) implication(\"Fjob\",\"other\",\"paid\",\"no\",\"schoolsup\",\"yes\",\"sex\",\"F\",80,5) implication(\"paid\",\"no\",\"activities\",\"no\",\"schoolsup\",\"yes\",\"sex\",\"F\",82,5) implication(\"nursery\",\"yes\",\"activities\",\"no\",\"schoolsup\",\"yes\",\"sex\",\"F\",84,5) implication(\"higher\",\"yes\",\"activities\",\"no\",\"schoolsup\",\"yes\",\"sex\",\"F\",82,5) implication(\"Pstatus\",\"T\",\"activities\",\"no\",\"schoolsup\",\"yes\",\"sex\",\"F\",84,5) implication(\"paid\",\"no\",\"nursery\",\"yes\",\"schoolsup\",\"yes\",\"sex\",\"F\",80,8) implication(\"activities\",\"no\",\"nursery\",\"yes\",\"schoolsup\",\"yes\",\"sex\",\"F\",84,5) implication(\"romantic\",\"no\",\"nursery\",\"yes\",\"schoolsup\",\"yes\",\"sex\",\"F\",80,7) implication(\"Fjob\",\"other\",\"nursery\",\"yes\",\"schoolsup\",\"yes\",\"sex\",\"F\",80,5) implication(\"paid\",\"no\",\"higher\",\"yes\",\"schoolsup\",\"yes\",\"sex\",\"F\",80,9) implication(\"activities\",\"no\",\"higher\",\"yes\",\"schoolsup\",\"yes\",\"sex\",\"F\",82,5) implication(\"romantic\",\"no\",\"higher\",\"yes\",\"schoolsup\",\"yes\",\"sex\",\"F\",81,7) implication(\"Fjob\",\"other\",\"higher\",\"yes\",\"schoolsup\",\"yes\",\"sex\",\"F\",82,5) implication(\"Mjob\",\"other\",\"higher\",\"yes\",\"schoolsup\",\"yes\",\"sex\",\"F\",84,5) implication(\"famsup\",\"yes\",\"romantic\",\"no\",\"schoolsup\",\"yes\",\"sex\",\"F\",80,5) implication(\"paid\",\"no\",\"romantic\",\"no\",\"schoolsup\",\"yes\",\"sex\",\"F\",82,7) implication(\"nursery\",\"yes\",\"romantic\",\"no\",\"schoolsup\",\"yes\",\"sex\",\"F\",80,7) implication(\"higher\",\"yes\",\"romantic\",\"no\",\"schoolsup\",\"yes\",\"sex\",\"F\",81,7) implication(\"Pstatus\",\"T\",\"romantic\",\"no\",\"schoolsup\",\"yes\",\"sex\",\"F\",82,6) implication(\"activities\",\"no\",\"Pstatus\",\"T\",\"schoolsup\",\"yes\",\"sex\",\"F\",84,5) implication(\"romantic\",\"no\",\"Pstatus\",\"T\",\"schoolsup\",\"yes\",\"sex\",\"F\",82,6) implication(\"paid\",\"no\",\"Fjob\",\"other\",\"schoolsup\",\"yes\",\"sex\",\"F\",80,5) implication(\"nursery\",\"yes\",\"Fjob\",\"other\",\"schoolsup\",\"yes\",\"sex\",\"F\",80,5) implication(\"higher\",\"yes\",\"Fjob\",\"other\",\"schoolsup\",\"yes\",\"sex\",\"F\",82,5) implication(\"higher\",\"yes\",\"Mjob\",\"other\",\"schoolsup\",\"yes\",\"sex\",\"F\",84,5) count_facts(9000)\n",
      "\n",
      "\n",
      "\n"
     ]
    }
   ],
   "source": [
    "clingo_output = \"\"\n",
    "\n",
    "with io.StringIO() as buf, redirect_stdout(buf):\n",
    "    get_proxy_clusters_hardcoded(undersampleddatafile)\n",
    "    clingo_output = buf.getvalue()\n",
    "    \n",
    "print(clingo_output)"
   ]
  },
  {
   "cell_type": "markdown",
   "id": "64f55965",
   "metadata": {},
   "source": [
    "### Verifying proxies against full dataset"
   ]
  },
  {
   "cell_type": "markdown",
   "id": "695ab084",
   "metadata": {},
   "source": [
    "Processing potential proxies from previous step"
   ]
  },
  {
   "cell_type": "code",
   "execution_count": 18,
   "id": "5287894a",
   "metadata": {},
   "outputs": [
    {
     "name": "stdout",
     "output_type": "stream",
     "text": [
      "potential_implication(\"activities\",\"no\",\"Mjob\",\"at_home\",\"sex\",\"F\",83,11) .\n",
      "potential_implication(\"activities\",\"no\",\"schoolsup\",\"yes\",\"sex\",\"F\",82,5) .\n",
      "potential_implication(\"guardian\",\"father\",\"Mjob\",\"at_home\",\"sex\",\"F\",80,5) .\n",
      "potential_implication(\"absences\",\"0\",\"Mjob\",\"at_home\",\"sex\",\"F\",82,7) .\n",
      "potential_implication(\"romantic\",\"yes\",\"reason\",\"reputation\",\"sex\",\"F\",81,6) .\n",
      "potential_implication(\"reason\",\"reputation\",\"romantic\",\"yes\",\"sex\",\"F\",81,6) .\n",
      "potential_implication(\"Mjob\",\"other\",\"schoolsup\",\"yes\",\"sex\",\"F\",80,5) .\n",
      "potential_implication(\"Mjob\",\"at_home\",\"activities\",\"no\",\"sex\",\"F\",83,11) .\n",
      "potential_implication(\"Mjob\",\"at_home\",\"guardian\",\"father\",\"sex\",\"F\",80,5) .\n",
      "potential_implication(\"Mjob\",\"at_home\",\"absences\",\"0\",\"sex\",\"F\",82,7) .\n",
      "potential_implication(\"schoolsup\",\"yes\",\"activities\",\"no\",\"sex\",\"F\",82,5) .\n",
      "potential_implication(\"schoolsup\",\"yes\",\"Mjob\",\"other\",\"sex\",\"F\",80,5) .\n",
      "potential_implication(\"Mjob\",\"at_home\",\"address\",\"R\",\"school\",\"MS\",\"sex\",\"F\",81,6) .\n",
      "potential_implication(\"Mjob\",\"at_home\",\"famsize\",\"GT3\",\"school\",\"MS\",\"sex\",\"F\",81,7) .\n",
      "potential_implication(\"Mjob\",\"at_home\",\"reason\",\"course\",\"school\",\"MS\",\"sex\",\"F\",80,6) .\n",
      "potential_implication(\"activities\",\"no\",\"famsup\",\"yes\",\"school\",\"MS\",\"sex\",\"F\",83,10) .\n",
      "potential_implication(\"famsup\",\"yes\",\"activities\",\"no\",\"school\",\"MS\",\"sex\",\"F\",83,10) .\n",
      "potential_implication(\"romantic\",\"yes\",\"activities\",\"no\",\"school\",\"MS\",\"sex\",\"F\",82,8) .\n",
      "potential_implication(\"Mjob\",\"at_home\",\"activities\",\"no\",\"school\",\"MS\",\"sex\",\"F\",90,6) .\n",
      "potential_implication(\"Mjob\",\"at_home\",\"absences\",\"0\",\"school\",\"MS\",\"sex\",\"F\",85,5) .\n",
      "potential_implication(\"activities\",\"no\",\"romantic\",\"yes\",\"school\",\"MS\",\"sex\",\"F\",82,8) .\n",
      "potential_implication(\"Mjob\",\"at_home\",\"Fjob\",\"other\",\"school\",\"MS\",\"sex\",\"F\",87,6) .\n",
      "potential_implication(\"address\",\"R\",\"Mjob\",\"at_home\",\"school\",\"MS\",\"sex\",\"F\",81,6) .\n",
      "potential_implication(\"famsize\",\"GT3\",\"Mjob\",\"at_home\",\"school\",\"MS\",\"sex\",\"F\",81,7) .\n",
      "potential_implication(\"reason\",\"course\",\"Mjob\",\"at_home\",\"school\",\"MS\",\"sex\",\"F\",80,6) .\n",
      "potential_implication(\"activities\",\"no\",\"Mjob\",\"at_home\",\"school\",\"MS\",\"sex\",\"F\",90,6) .\n",
      "potential_implication(\"absences\",\"0\",\"Mjob\",\"at_home\",\"school\",\"MS\",\"sex\",\"F\",85,5) .\n",
      "potential_implication(\"Fjob\",\"other\",\"Mjob\",\"at_home\",\"school\",\"MS\",\"sex\",\"F\",87,6) .\n",
      "potential_implication(\"internet\",\"no\",\"Mjob\",\"at_home\",\"school\",\"MS\",\"sex\",\"F\",81,5) .\n",
      "potential_implication(\"Mjob\",\"at_home\",\"internet\",\"no\",\"school\",\"MS\",\"sex\",\"F\",81,5) .\n",
      "potential_implication(\"Mjob\",\"at_home\",\"school\",\"MS\",\"address\",\"R\",\"sex\",\"F\",81,6) .\n",
      "potential_implication(\"school\",\"MS\",\"Mjob\",\"at_home\",\"address\",\"R\",\"sex\",\"F\",81,6) .\n",
      "potential_implication(\"Mjob\",\"at_home\",\"school\",\"MS\",\"famsize\",\"GT3\",\"sex\",\"F\",81,7) .\n",
      "potential_implication(\"Mjob\",\"at_home\",\"famsup\",\"yes\",\"famsize\",\"GT3\",\"sex\",\"F\",88,8) .\n",
      "potential_implication(\"romantic\",\"yes\",\"activities\",\"no\",\"famsize\",\"GT3\",\"sex\",\"F\",81,12) .\n",
      "potential_implication(\"Mjob\",\"at_home\",\"activities\",\"no\",\"famsize\",\"GT3\",\"sex\",\"F\",82,8) .\n",
      "potential_implication(\"Mjob\",\"at_home\",\"internet\",\"yes\",\"famsize\",\"GT3\",\"sex\",\"F\",82,8) .\n",
      "potential_implication(\"Mjob\",\"at_home\",\"absences\",\"0\",\"famsize\",\"GT3\",\"sex\",\"F\",85,5) .\n",
      "potential_implication(\"activities\",\"no\",\"romantic\",\"yes\",\"famsize\",\"GT3\",\"sex\",\"F\",81,12) .\n",
      "potential_implication(\"Mjob\",\"at_home\",\"Fjob\",\"other\",\"famsize\",\"GT3\",\"sex\",\"F\",82,8) .\n",
      "potential_implication(\"absences\",\"4\",\"Mjob\",\"other\",\"famsize\",\"GT3\",\"sex\",\"F\",80,5) .\n",
      "potential_implication(\"school\",\"MS\",\"Mjob\",\"at_home\",\"famsize\",\"GT3\",\"sex\",\"F\",81,7) .\n",
      "potential_implication(\"famsup\",\"yes\",\"Mjob\",\"at_home\",\"famsize\",\"GT3\",\"sex\",\"F\",88,8) .\n",
      "potential_implication(\"activities\",\"no\",\"Mjob\",\"at_home\",\"famsize\",\"GT3\",\"sex\",\"F\",82,8) .\n",
      "potential_implication(\"internet\",\"yes\",\"Mjob\",\"at_home\",\"famsize\",\"GT3\",\"sex\",\"F\",82,8) .\n",
      "potential_implication(\"absences\",\"0\",\"Mjob\",\"at_home\",\"famsize\",\"GT3\",\"sex\",\"F\",85,5) .\n",
      "potential_implication(\"Fjob\",\"other\",\"Mjob\",\"at_home\",\"famsize\",\"GT3\",\"sex\",\"F\",82,8) .\n",
      "potential_implication(\"Mjob\",\"other\",\"absences\",\"4\",\"famsize\",\"GT3\",\"sex\",\"F\",80,5) .\n",
      "potential_implication(\"Mjob\",\"at_home\",\"school\",\"MS\",\"reason\",\"course\",\"sex\",\"F\",80,6) .\n",
      "potential_implication(\"Mjob\",\"at_home\",\"famsup\",\"yes\",\"reason\",\"course\",\"sex\",\"F\",81,6) .\n",
      "potential_implication(\"Mjob\",\"at_home\",\"activities\",\"no\",\"reason\",\"course\",\"sex\",\"F\",81,6) .\n",
      "potential_implication(\"school\",\"MS\",\"Mjob\",\"at_home\",\"reason\",\"course\",\"sex\",\"F\",80,6) .\n",
      "potential_implication(\"famsup\",\"yes\",\"Mjob\",\"at_home\",\"reason\",\"course\",\"sex\",\"F\",81,6) .\n",
      "potential_implication(\"activities\",\"no\",\"Mjob\",\"at_home\",\"reason\",\"course\",\"sex\",\"F\",81,6) .\n",
      "potential_implication(\"Mjob\",\"at_home\",\"activities\",\"no\",\"schoolsup\",\"no\",\"sex\",\"F\",82,10) .\n",
      "potential_implication(\"Mjob\",\"at_home\",\"absences\",\"0\",\"schoolsup\",\"no\",\"sex\",\"F\",83,7) .\n",
      "potential_implication(\"reason\",\"reputation\",\"romantic\",\"yes\",\"schoolsup\",\"no\",\"sex\",\"F\",81,5) .\n",
      "potential_implication(\"romantic\",\"yes\",\"reason\",\"reputation\",\"schoolsup\",\"no\",\"sex\",\"F\",81,5) .\n",
      "potential_implication(\"activities\",\"no\",\"Mjob\",\"at_home\",\"schoolsup\",\"no\",\"sex\",\"F\",82,10) .\n",
      "potential_implication(\"absences\",\"0\",\"Mjob\",\"at_home\",\"schoolsup\",\"no\",\"sex\",\"F\",83,7) .\n",
      "potential_implication(\"activities\",\"no\",\"school\",\"MS\",\"famsup\",\"yes\",\"sex\",\"F\",83,10) .\n",
      "potential_implication(\"Mjob\",\"at_home\",\"famsize\",\"GT3\",\"famsup\",\"yes\",\"sex\",\"F\",88,8) .\n",
      "potential_implication(\"Mjob\",\"at_home\",\"reason\",\"course\",\"famsup\",\"yes\",\"sex\",\"F\",81,6) .\n",
      "potential_implication(\"school\",\"MS\",\"activities\",\"no\",\"famsup\",\"yes\",\"sex\",\"F\",83,10) .\n",
      "potential_implication(\"Mjob\",\"at_home\",\"activities\",\"no\",\"famsup\",\"yes\",\"sex\",\"F\",93,6) .\n",
      "potential_implication(\"internet\",\"no\",\"activities\",\"no\",\"famsup\",\"yes\",\"sex\",\"F\",85,6) .\n",
      "potential_implication(\"Mjob\",\"at_home\",\"romantic\",\"no\",\"famsup\",\"yes\",\"sex\",\"F\",81,7) .\n",
      "potential_implication(\"schoolsup\",\"yes\",\"romantic\",\"no\",\"famsup\",\"yes\",\"sex\",\"F\",80,5) .\n",
      "potential_implication(\"Mjob\",\"at_home\",\"school\",\"GP\",\"famsup\",\"yes\",\"sex\",\"F\",84,5) .\n",
      "potential_implication(\"Mjob\",\"at_home\",\"Fjob\",\"other\",\"famsup\",\"yes\",\"sex\",\"F\",88,7) .\n",
      "potential_implication(\"internet\",\"no\",\"Fjob\",\"other\",\"famsup\",\"yes\",\"sex\",\"F\",90,6) .\n",
      "potential_implication(\"famsize\",\"GT3\",\"Mjob\",\"at_home\",\"famsup\",\"yes\",\"sex\",\"F\",88,8) .\n",
      "potential_implication(\"reason\",\"course\",\"Mjob\",\"at_home\",\"famsup\",\"yes\",\"sex\",\"F\",81,6) .\n",
      "potential_implication(\"activities\",\"no\",\"Mjob\",\"at_home\",\"famsup\",\"yes\",\"sex\",\"F\",93,6) .\n",
      "potential_implication(\"romantic\",\"no\",\"Mjob\",\"at_home\",\"famsup\",\"yes\",\"sex\",\"F\",81,7) .\n",
      "potential_implication(\"school\",\"GP\",\"Mjob\",\"at_home\",\"famsup\",\"yes\",\"sex\",\"F\",84,5) .\n",
      "potential_implication(\"Fjob\",\"other\",\"Mjob\",\"at_home\",\"famsup\",\"yes\",\"sex\",\"F\",88,7) .\n",
      "potential_implication(\"activities\",\"no\",\"internet\",\"no\",\"famsup\",\"yes\",\"sex\",\"F\",85,6) .\n",
      "potential_implication(\"Fjob\",\"other\",\"internet\",\"no\",\"famsup\",\"yes\",\"sex\",\"F\",90,6) .\n",
      "potential_implication(\"romantic\",\"no\",\"schoolsup\",\"yes\",\"famsup\",\"yes\",\"sex\",\"F\",80,5) .\n",
      "potential_implication(\"Mjob\",\"at_home\",\"activities\",\"no\",\"paid\",\"no\",\"sex\",\"F\",83,10) .\n",
      "potential_implication(\"schoolsup\",\"yes\",\"activities\",\"no\",\"paid\",\"no\",\"sex\",\"F\",82,5) .\n",
      "potential_implication(\"schoolsup\",\"yes\",\"nursery\",\"yes\",\"paid\",\"no\",\"sex\",\"F\",80,8) .\n",
      "potential_implication(\"schoolsup\",\"yes\",\"higher\",\"yes\",\"paid\",\"no\",\"sex\",\"F\",80,9) .\n",
      "potential_implication(\"schoolsup\",\"yes\",\"romantic\",\"no\",\"paid\",\"no\",\"sex\",\"F\",82,7) .\n",
      "potential_implication(\"Mjob\",\"at_home\",\"guardian\",\"father\",\"paid\",\"no\",\"sex\",\"F\",80,5) .\n",
      "potential_implication(\"Mjob\",\"at_home\",\"absences\",\"0\",\"paid\",\"no\",\"sex\",\"F\",84,7) .\n",
      "potential_implication(\"reason\",\"reputation\",\"romantic\",\"yes\",\"paid\",\"no\",\"sex\",\"F\",80,6) .\n",
      "potential_implication(\"romantic\",\"yes\",\"reason\",\"reputation\",\"paid\",\"no\",\"sex\",\"F\",80,6) .\n",
      "potential_implication(\"schoolsup\",\"yes\",\"Fjob\",\"other\",\"paid\",\"no\",\"sex\",\"F\",80,5) .\n",
      "potential_implication(\"activities\",\"no\",\"Mjob\",\"at_home\",\"paid\",\"no\",\"sex\",\"F\",83,10) .\n",
      "potential_implication(\"guardian\",\"father\",\"Mjob\",\"at_home\",\"paid\",\"no\",\"sex\",\"F\",80,5) .\n",
      "potential_implication(\"absences\",\"0\",\"Mjob\",\"at_home\",\"paid\",\"no\",\"sex\",\"F\",84,7) .\n",
      "potential_implication(\"activities\",\"no\",\"schoolsup\",\"yes\",\"paid\",\"no\",\"sex\",\"F\",82,5) .\n",
      "potential_implication(\"nursery\",\"yes\",\"schoolsup\",\"yes\",\"paid\",\"no\",\"sex\",\"F\",80,8) .\n",
      "potential_implication(\"higher\",\"yes\",\"schoolsup\",\"yes\",\"paid\",\"no\",\"sex\",\"F\",80,9) .\n",
      "potential_implication(\"romantic\",\"no\",\"schoolsup\",\"yes\",\"paid\",\"no\",\"sex\",\"F\",82,7) .\n",
      "potential_implication(\"Fjob\",\"other\",\"schoolsup\",\"yes\",\"paid\",\"no\",\"sex\",\"F\",80,5) .\n",
      "potential_implication(\"famsup\",\"yes\",\"school\",\"MS\",\"activities\",\"no\",\"sex\",\"F\",83,10) .\n",
      "potential_implication(\"romantic\",\"yes\",\"school\",\"MS\",\"activities\",\"no\",\"sex\",\"F\",82,8) .\n",
      "potential_implication(\"Mjob\",\"at_home\",\"school\",\"MS\",\"activities\",\"no\",\"sex\",\"F\",90,6) .\n",
      "potential_implication(\"romantic\",\"yes\",\"famsize\",\"GT3\",\"activities\",\"no\",\"sex\",\"F\",81,12) .\n",
      "potential_implication(\"Mjob\",\"at_home\",\"famsize\",\"GT3\",\"activities\",\"no\",\"sex\",\"F\",82,8) .\n",
      "potential_implication(\"Mjob\",\"at_home\",\"reason\",\"course\",\"activities\",\"no\",\"sex\",\"F\",81,6) .\n",
      "potential_implication(\"Mjob\",\"at_home\",\"schoolsup\",\"no\",\"activities\",\"no\",\"sex\",\"F\",82,10) .\n",
      "potential_implication(\"school\",\"MS\",\"famsup\",\"yes\",\"activities\",\"no\",\"sex\",\"F\",83,10) .\n",
      "potential_implication(\"Mjob\",\"at_home\",\"famsup\",\"yes\",\"activities\",\"no\",\"sex\",\"F\",93,6) .\n",
      "potential_implication(\"internet\",\"no\",\"famsup\",\"yes\",\"activities\",\"no\",\"sex\",\"F\",85,6) .\n",
      "potential_implication(\"Mjob\",\"at_home\",\"paid\",\"no\",\"activities\",\"no\",\"sex\",\"F\",83,10) .\n",
      "potential_implication(\"schoolsup\",\"yes\",\"paid\",\"no\",\"activities\",\"no\",\"sex\",\"F\",82,5) .\n",
      "potential_implication(\"Mjob\",\"at_home\",\"nursery\",\"yes\",\"activities\",\"no\",\"sex\",\"F\",82,9) .\n",
      "potential_implication(\"schoolsup\",\"yes\",\"nursery\",\"yes\",\"activities\",\"no\",\"sex\",\"F\",84,5) .\n",
      "potential_implication(\"Mjob\",\"at_home\",\"higher\",\"yes\",\"activities\",\"no\",\"sex\",\"F\",84,9) .\n",
      "potential_implication(\"schoolsup\",\"yes\",\"higher\",\"yes\",\"activities\",\"no\",\"sex\",\"F\",82,5) .\n",
      "potential_implication(\"Mjob\",\"at_home\",\"internet\",\"yes\",\"activities\",\"no\",\"sex\",\"F\",89,5) .\n",
      "potential_implication(\"Mjob\",\"at_home\",\"romantic\",\"no\",\"activities\",\"no\",\"sex\",\"F\",83,7) .\n",
      "potential_implication(\"Mjob\",\"at_home\",\"address\",\"U\",\"activities\",\"no\",\"sex\",\"F\",87,6) .\n",
      "potential_implication(\"internet\",\"no\",\"address\",\"U\",\"activities\",\"no\",\"sex\",\"F\",80,6) .\n",
      "potential_implication(\"Mjob\",\"at_home\",\"Pstatus\",\"T\",\"activities\",\"no\",\"sex\",\"F\",82,9) .\n",
      "potential_implication(\"schoolsup\",\"yes\",\"Pstatus\",\"T\",\"activities\",\"no\",\"sex\",\"F\",84,5) .\n",
      "potential_implication(\"internet\",\"no\",\"absences\",\"0\",\"activities\",\"no\",\"sex\",\"F\",80,5) .\n",
      "potential_implication(\"school\",\"MS\",\"romantic\",\"yes\",\"activities\",\"no\",\"sex\",\"F\",82,8) .\n",
      "potential_implication(\"famsize\",\"GT3\",\"romantic\",\"yes\",\"activities\",\"no\",\"sex\",\"F\",81,12) .\n",
      "potential_implication(\"Fjob\",\"other\",\"romantic\",\"yes\",\"activities\",\"no\",\"sex\",\"F\",82,9) .\n",
      "potential_implication(\"Mjob\",\"other\",\"romantic\",\"yes\",\"activities\",\"no\",\"sex\",\"F\",80,7) .\n",
      "potential_implication(\"romantic\",\"yes\",\"Fjob\",\"other\",\"activities\",\"no\",\"sex\",\"F\",82,9) .\n",
      "potential_implication(\"Mjob\",\"at_home\",\"Fjob\",\"other\",\"activities\",\"no\",\"sex\",\"F\",85,6) .\n",
      "potential_implication(\"romantic\",\"yes\",\"Mjob\",\"other\",\"activities\",\"no\",\"sex\",\"F\",80,7) .\n",
      "potential_implication(\"school\",\"MS\",\"Mjob\",\"at_home\",\"activities\",\"no\",\"sex\",\"F\",90,6) .\n",
      "potential_implication(\"famsize\",\"GT3\",\"Mjob\",\"at_home\",\"activities\",\"no\",\"sex\",\"F\",82,8) .\n",
      "potential_implication(\"reason\",\"course\",\"Mjob\",\"at_home\",\"activities\",\"no\",\"sex\",\"F\",81,6) .\n",
      "potential_implication(\"schoolsup\",\"no\",\"Mjob\",\"at_home\",\"activities\",\"no\",\"sex\",\"F\",82,10) .\n",
      "potential_implication(\"famsup\",\"yes\",\"Mjob\",\"at_home\",\"activities\",\"no\",\"sex\",\"F\",93,6) .\n",
      "potential_implication(\"paid\",\"no\",\"Mjob\",\"at_home\",\"activities\",\"no\",\"sex\",\"F\",83,10) .\n",
      "potential_implication(\"nursery\",\"yes\",\"Mjob\",\"at_home\",\"activities\",\"no\",\"sex\",\"F\",82,9) .\n",
      "potential_implication(\"higher\",\"yes\",\"Mjob\",\"at_home\",\"activities\",\"no\",\"sex\",\"F\",84,9) .\n",
      "potential_implication(\"internet\",\"yes\",\"Mjob\",\"at_home\",\"activities\",\"no\",\"sex\",\"F\",89,5) .\n",
      "potential_implication(\"romantic\",\"no\",\"Mjob\",\"at_home\",\"activities\",\"no\",\"sex\",\"F\",83,7) .\n",
      "potential_implication(\"address\",\"U\",\"Mjob\",\"at_home\",\"activities\",\"no\",\"sex\",\"F\",87,6) .\n",
      "potential_implication(\"Pstatus\",\"T\",\"Mjob\",\"at_home\",\"activities\",\"no\",\"sex\",\"F\",82,9) .\n",
      "potential_implication(\"Fjob\",\"other\",\"Mjob\",\"at_home\",\"activities\",\"no\",\"sex\",\"F\",85,6) .\n",
      "potential_implication(\"famsup\",\"yes\",\"internet\",\"no\",\"activities\",\"no\",\"sex\",\"F\",85,6) .\n",
      "potential_implication(\"address\",\"U\",\"internet\",\"no\",\"activities\",\"no\",\"sex\",\"F\",80,6) .\n",
      "potential_implication(\"absences\",\"0\",\"internet\",\"no\",\"activities\",\"no\",\"sex\",\"F\",80,5) .\n",
      "potential_implication(\"paid\",\"no\",\"schoolsup\",\"yes\",\"activities\",\"no\",\"sex\",\"F\",82,5) .\n",
      "potential_implication(\"nursery\",\"yes\",\"schoolsup\",\"yes\",\"activities\",\"no\",\"sex\",\"F\",84,5) .\n",
      "potential_implication(\"higher\",\"yes\",\"schoolsup\",\"yes\",\"activities\",\"no\",\"sex\",\"F\",82,5) .\n",
      "potential_implication(\"Pstatus\",\"T\",\"schoolsup\",\"yes\",\"activities\",\"no\",\"sex\",\"F\",84,5) .\n",
      "potential_implication(\"schoolsup\",\"yes\",\"paid\",\"no\",\"nursery\",\"yes\",\"sex\",\"F\",80,8) .\n",
      "potential_implication(\"Mjob\",\"at_home\",\"activities\",\"no\",\"nursery\",\"yes\",\"sex\",\"F\",82,9) .\n",
      "potential_implication(\"schoolsup\",\"yes\",\"activities\",\"no\",\"nursery\",\"yes\",\"sex\",\"F\",84,5) .\n",
      "potential_implication(\"schoolsup\",\"yes\",\"romantic\",\"no\",\"nursery\",\"yes\",\"sex\",\"F\",80,7) .\n",
      "potential_implication(\"Mjob\",\"at_home\",\"absences\",\"0\",\"nursery\",\"yes\",\"sex\",\"F\",80,7) .\n",
      "potential_implication(\"reason\",\"reputation\",\"romantic\",\"yes\",\"nursery\",\"yes\",\"sex\",\"F\",81,5) .\n",
      "potential_implication(\"romantic\",\"yes\",\"reason\",\"reputation\",\"nursery\",\"yes\",\"sex\",\"F\",81,5) .\n",
      "potential_implication(\"schoolsup\",\"yes\",\"Fjob\",\"other\",\"nursery\",\"yes\",\"sex\",\"F\",80,5) .\n",
      "potential_implication(\"activities\",\"no\",\"Mjob\",\"at_home\",\"nursery\",\"yes\",\"sex\",\"F\",82,9) .\n",
      "potential_implication(\"absences\",\"0\",\"Mjob\",\"at_home\",\"nursery\",\"yes\",\"sex\",\"F\",80,7) .\n",
      "potential_implication(\"paid\",\"no\",\"schoolsup\",\"yes\",\"nursery\",\"yes\",\"sex\",\"F\",80,8) .\n",
      "potential_implication(\"activities\",\"no\",\"schoolsup\",\"yes\",\"nursery\",\"yes\",\"sex\",\"F\",84,5) .\n",
      "potential_implication(\"romantic\",\"no\",\"schoolsup\",\"yes\",\"nursery\",\"yes\",\"sex\",\"F\",80,7) .\n",
      "potential_implication(\"Fjob\",\"other\",\"schoolsup\",\"yes\",\"nursery\",\"yes\",\"sex\",\"F\",80,5) .\n",
      "potential_implication(\"schoolsup\",\"yes\",\"paid\",\"no\",\"higher\",\"yes\",\"sex\",\"F\",80,9) .\n",
      "potential_implication(\"Mjob\",\"at_home\",\"activities\",\"no\",\"higher\",\"yes\",\"sex\",\"F\",84,9) .\n",
      "potential_implication(\"schoolsup\",\"yes\",\"activities\",\"no\",\"higher\",\"yes\",\"sex\",\"F\",82,5) .\n",
      "potential_implication(\"schoolsup\",\"yes\",\"romantic\",\"no\",\"higher\",\"yes\",\"sex\",\"F\",81,7) .\n",
      "potential_implication(\"Mjob\",\"at_home\",\"absences\",\"0\",\"higher\",\"yes\",\"sex\",\"F\",80,6) .\n",
      "potential_implication(\"reason\",\"reputation\",\"romantic\",\"yes\",\"higher\",\"yes\",\"sex\",\"F\",80,6) .\n",
      "potential_implication(\"romantic\",\"yes\",\"reason\",\"reputation\",\"higher\",\"yes\",\"sex\",\"F\",80,6) .\n",
      "potential_implication(\"Mjob\",\"at_home\",\"Fjob\",\"other\",\"higher\",\"yes\",\"sex\",\"F\",80,10) .\n",
      "potential_implication(\"schoolsup\",\"yes\",\"Fjob\",\"other\",\"higher\",\"yes\",\"sex\",\"F\",82,5) .\n",
      "potential_implication(\"absences\",\"4\",\"Mjob\",\"other\",\"higher\",\"yes\",\"sex\",\"F\",80,5) .\n",
      "potential_implication(\"schoolsup\",\"yes\",\"Mjob\",\"other\",\"higher\",\"yes\",\"sex\",\"F\",84,5) .\n",
      "potential_implication(\"activities\",\"no\",\"Mjob\",\"at_home\",\"higher\",\"yes\",\"sex\",\"F\",84,9) .\n",
      "potential_implication(\"absences\",\"0\",\"Mjob\",\"at_home\",\"higher\",\"yes\",\"sex\",\"F\",80,6) .\n",
      "potential_implication(\"Fjob\",\"other\",\"Mjob\",\"at_home\",\"higher\",\"yes\",\"sex\",\"F\",80,10) .\n",
      "potential_implication(\"Mjob\",\"other\",\"absences\",\"4\",\"higher\",\"yes\",\"sex\",\"F\",80,5) .\n",
      "potential_implication(\"paid\",\"no\",\"schoolsup\",\"yes\",\"higher\",\"yes\",\"sex\",\"F\",80,9) .\n",
      "potential_implication(\"activities\",\"no\",\"schoolsup\",\"yes\",\"higher\",\"yes\",\"sex\",\"F\",82,5) .\n",
      "potential_implication(\"romantic\",\"no\",\"schoolsup\",\"yes\",\"higher\",\"yes\",\"sex\",\"F\",81,7) .\n",
      "potential_implication(\"Fjob\",\"other\",\"schoolsup\",\"yes\",\"higher\",\"yes\",\"sex\",\"F\",82,5) .\n",
      "potential_implication(\"Mjob\",\"other\",\"schoolsup\",\"yes\",\"higher\",\"yes\",\"sex\",\"F\",84,5) .\n",
      "potential_implication(\"Mjob\",\"at_home\",\"famsize\",\"GT3\",\"internet\",\"yes\",\"sex\",\"F\",82,8) .\n",
      "potential_implication(\"Mjob\",\"at_home\",\"activities\",\"no\",\"internet\",\"yes\",\"sex\",\"F\",89,5) .\n",
      "potential_implication(\"reason\",\"reputation\",\"romantic\",\"yes\",\"internet\",\"yes\",\"sex\",\"F\",82,5) .\n",
      "potential_implication(\"romantic\",\"yes\",\"reason\",\"reputation\",\"internet\",\"yes\",\"sex\",\"F\",82,5) .\n",
      "potential_implication(\"Mjob\",\"at_home\",\"Fjob\",\"other\",\"internet\",\"yes\",\"sex\",\"F\",80,6) .\n",
      "potential_implication(\"famsize\",\"GT3\",\"Mjob\",\"at_home\",\"internet\",\"yes\",\"sex\",\"F\",82,8) .\n",
      "potential_implication(\"activities\",\"no\",\"Mjob\",\"at_home\",\"internet\",\"yes\",\"sex\",\"F\",89,5) .\n",
      "potential_implication(\"Fjob\",\"other\",\"Mjob\",\"at_home\",\"internet\",\"yes\",\"sex\",\"F\",80,6) .\n",
      "potential_implication(\"Mjob\",\"at_home\",\"famsup\",\"yes\",\"romantic\",\"no\",\"sex\",\"F\",81,7) .\n",
      "potential_implication(\"schoolsup\",\"yes\",\"famsup\",\"yes\",\"romantic\",\"no\",\"sex\",\"F\",80,5) .\n",
      "potential_implication(\"schoolsup\",\"yes\",\"paid\",\"no\",\"romantic\",\"no\",\"sex\",\"F\",82,7) .\n",
      "potential_implication(\"Mjob\",\"at_home\",\"activities\",\"no\",\"romantic\",\"no\",\"sex\",\"F\",83,7) .\n",
      "potential_implication(\"schoolsup\",\"yes\",\"nursery\",\"yes\",\"romantic\",\"no\",\"sex\",\"F\",80,7) .\n",
      "potential_implication(\"schoolsup\",\"yes\",\"higher\",\"yes\",\"romantic\",\"no\",\"sex\",\"F\",81,7) .\n",
      "potential_implication(\"schoolsup\",\"yes\",\"Pstatus\",\"T\",\"romantic\",\"no\",\"sex\",\"F\",82,6) .\n",
      "potential_implication(\"Mjob\",\"at_home\",\"Fjob\",\"other\",\"romantic\",\"no\",\"sex\",\"F\",82,7) .\n",
      "potential_implication(\"famsup\",\"yes\",\"Mjob\",\"at_home\",\"romantic\",\"no\",\"sex\",\"F\",81,7) .\n",
      "potential_implication(\"activities\",\"no\",\"Mjob\",\"at_home\",\"romantic\",\"no\",\"sex\",\"F\",83,7) .\n",
      "potential_implication(\"Fjob\",\"other\",\"Mjob\",\"at_home\",\"romantic\",\"no\",\"sex\",\"F\",82,7) .\n",
      "potential_implication(\"famsup\",\"yes\",\"schoolsup\",\"yes\",\"romantic\",\"no\",\"sex\",\"F\",80,5) .\n",
      "potential_implication(\"paid\",\"no\",\"schoolsup\",\"yes\",\"romantic\",\"no\",\"sex\",\"F\",82,7) .\n",
      "potential_implication(\"nursery\",\"yes\",\"schoolsup\",\"yes\",\"romantic\",\"no\",\"sex\",\"F\",80,7) .\n",
      "potential_implication(\"higher\",\"yes\",\"schoolsup\",\"yes\",\"romantic\",\"no\",\"sex\",\"F\",81,7) .\n",
      "potential_implication(\"Pstatus\",\"T\",\"schoolsup\",\"yes\",\"romantic\",\"no\",\"sex\",\"F\",82,6) .\n",
      "potential_implication(\"Mjob\",\"at_home\",\"famsup\",\"yes\",\"school\",\"GP\",\"sex\",\"F\",84,5) .\n",
      "potential_implication(\"Mjob\",\"at_home\",\"address\",\"U\",\"school\",\"GP\",\"sex\",\"F\",81,6) .\n",
      "potential_implication(\"famsup\",\"yes\",\"Mjob\",\"at_home\",\"school\",\"GP\",\"sex\",\"F\",84,5) .\n",
      "potential_implication(\"address\",\"U\",\"Mjob\",\"at_home\",\"school\",\"GP\",\"sex\",\"F\",81,6) .\n",
      "potential_implication(\"Mjob\",\"at_home\",\"activities\",\"no\",\"address\",\"U\",\"sex\",\"F\",87,6) .\n",
      "potential_implication(\"internet\",\"no\",\"activities\",\"no\",\"address\",\"U\",\"sex\",\"F\",80,6) .\n",
      "potential_implication(\"Mjob\",\"at_home\",\"school\",\"GP\",\"address\",\"U\",\"sex\",\"F\",81,6) .\n",
      "potential_implication(\"Mjob\",\"at_home\",\"Fjob\",\"other\",\"address\",\"U\",\"sex\",\"F\",82,5) .\n",
      "potential_implication(\"internet\",\"no\",\"Mjob\",\"other\",\"address\",\"U\",\"sex\",\"F\",84,5) .\n",
      "potential_implication(\"activities\",\"no\",\"Mjob\",\"at_home\",\"address\",\"U\",\"sex\",\"F\",87,6) .\n",
      "potential_implication(\"school\",\"GP\",\"Mjob\",\"at_home\",\"address\",\"U\",\"sex\",\"F\",81,6) .\n",
      "potential_implication(\"Fjob\",\"other\",\"Mjob\",\"at_home\",\"address\",\"U\",\"sex\",\"F\",82,5) .\n",
      "potential_implication(\"activities\",\"no\",\"internet\",\"no\",\"address\",\"U\",\"sex\",\"F\",80,6) .\n",
      "potential_implication(\"Mjob\",\"other\",\"internet\",\"no\",\"address\",\"U\",\"sex\",\"F\",84,5) .\n",
      "potential_implication(\"Mjob\",\"at_home\",\"activities\",\"no\",\"Pstatus\",\"T\",\"sex\",\"F\",82,9) .\n",
      "potential_implication(\"schoolsup\",\"yes\",\"activities\",\"no\",\"Pstatus\",\"T\",\"sex\",\"F\",84,5) .\n",
      "potential_implication(\"schoolsup\",\"yes\",\"romantic\",\"no\",\"Pstatus\",\"T\",\"sex\",\"F\",82,6) .\n",
      "potential_implication(\"Mjob\",\"at_home\",\"absences\",\"0\",\"Pstatus\",\"T\",\"sex\",\"F\",80,7) .\n",
      "potential_implication(\"reason\",\"reputation\",\"romantic\",\"yes\",\"Pstatus\",\"T\",\"sex\",\"F\",82,5) .\n",
      "potential_implication(\"romantic\",\"yes\",\"reason\",\"reputation\",\"Pstatus\",\"T\",\"sex\",\"F\",82,5) .\n",
      "potential_implication(\"activities\",\"no\",\"Mjob\",\"at_home\",\"Pstatus\",\"T\",\"sex\",\"F\",82,9) .\n",
      "potential_implication(\"absences\",\"0\",\"Mjob\",\"at_home\",\"Pstatus\",\"T\",\"sex\",\"F\",80,7) .\n",
      "potential_implication(\"activities\",\"no\",\"schoolsup\",\"yes\",\"Pstatus\",\"T\",\"sex\",\"F\",84,5) .\n",
      "potential_implication(\"romantic\",\"no\",\"schoolsup\",\"yes\",\"Pstatus\",\"T\",\"sex\",\"F\",82,6) .\n",
      "potential_implication(\"Mjob\",\"at_home\",\"paid\",\"no\",\"guardian\",\"father\",\"sex\",\"F\",80,5) .\n",
      "potential_implication(\"paid\",\"no\",\"Mjob\",\"at_home\",\"guardian\",\"father\",\"sex\",\"F\",80,5) .\n",
      "potential_implication(\"Mjob\",\"at_home\",\"school\",\"MS\",\"absences\",\"0\",\"sex\",\"F\",85,5) .\n",
      "potential_implication(\"Mjob\",\"at_home\",\"famsize\",\"GT3\",\"absences\",\"0\",\"sex\",\"F\",85,5) .\n",
      "potential_implication(\"Mjob\",\"at_home\",\"schoolsup\",\"no\",\"absences\",\"0\",\"sex\",\"F\",83,7) .\n",
      "potential_implication(\"Mjob\",\"at_home\",\"paid\",\"no\",\"absences\",\"0\",\"sex\",\"F\",84,7) .\n",
      "potential_implication(\"internet\",\"no\",\"activities\",\"no\",\"absences\",\"0\",\"sex\",\"F\",80,5) .\n",
      "potential_implication(\"Mjob\",\"at_home\",\"nursery\",\"yes\",\"absences\",\"0\",\"sex\",\"F\",80,7) .\n",
      "potential_implication(\"Mjob\",\"at_home\",\"higher\",\"yes\",\"absences\",\"0\",\"sex\",\"F\",80,6) .\n",
      "potential_implication(\"Mjob\",\"at_home\",\"Pstatus\",\"T\",\"absences\",\"0\",\"sex\",\"F\",80,7) .\n",
      "potential_implication(\"school\",\"MS\",\"Mjob\",\"at_home\",\"absences\",\"0\",\"sex\",\"F\",85,5) .\n",
      "potential_implication(\"famsize\",\"GT3\",\"Mjob\",\"at_home\",\"absences\",\"0\",\"sex\",\"F\",85,5) .\n",
      "potential_implication(\"schoolsup\",\"no\",\"Mjob\",\"at_home\",\"absences\",\"0\",\"sex\",\"F\",83,7) .\n",
      "potential_implication(\"paid\",\"no\",\"Mjob\",\"at_home\",\"absences\",\"0\",\"sex\",\"F\",84,7) .\n",
      "potential_implication(\"nursery\",\"yes\",\"Mjob\",\"at_home\",\"absences\",\"0\",\"sex\",\"F\",80,7) .\n",
      "potential_implication(\"higher\",\"yes\",\"Mjob\",\"at_home\",\"absences\",\"0\",\"sex\",\"F\",80,6) .\n",
      "potential_implication(\"Pstatus\",\"T\",\"Mjob\",\"at_home\",\"absences\",\"0\",\"sex\",\"F\",80,7) .\n",
      "potential_implication(\"activities\",\"no\",\"internet\",\"no\",\"absences\",\"0\",\"sex\",\"F\",80,5) .\n",
      "potential_implication(\"activities\",\"no\",\"school\",\"MS\",\"romantic\",\"yes\",\"sex\",\"F\",82,8) .\n",
      "potential_implication(\"activities\",\"no\",\"famsize\",\"GT3\",\"romantic\",\"yes\",\"sex\",\"F\",81,12) .\n",
      "potential_implication(\"reason\",\"reputation\",\"schoolsup\",\"no\",\"romantic\",\"yes\",\"sex\",\"F\",81,5) .\n",
      "potential_implication(\"reason\",\"reputation\",\"paid\",\"no\",\"romantic\",\"yes\",\"sex\",\"F\",80,6) .\n",
      "potential_implication(\"school\",\"MS\",\"activities\",\"no\",\"romantic\",\"yes\",\"sex\",\"F\",82,8) .\n",
      "potential_implication(\"famsize\",\"GT3\",\"activities\",\"no\",\"romantic\",\"yes\",\"sex\",\"F\",81,12) .\n",
      "potential_implication(\"Fjob\",\"other\",\"activities\",\"no\",\"romantic\",\"yes\",\"sex\",\"F\",82,9) .\n",
      "potential_implication(\"Mjob\",\"other\",\"activities\",\"no\",\"romantic\",\"yes\",\"sex\",\"F\",80,7) .\n",
      "potential_implication(\"reason\",\"reputation\",\"nursery\",\"yes\",\"romantic\",\"yes\",\"sex\",\"F\",81,5) .\n",
      "potential_implication(\"reason\",\"reputation\",\"higher\",\"yes\",\"romantic\",\"yes\",\"sex\",\"F\",80,6) .\n",
      "potential_implication(\"reason\",\"reputation\",\"internet\",\"yes\",\"romantic\",\"yes\",\"sex\",\"F\",82,5) .\n",
      "potential_implication(\"reason\",\"reputation\",\"Pstatus\",\"T\",\"romantic\",\"yes\",\"sex\",\"F\",82,5) .\n",
      "potential_implication(\"schoolsup\",\"no\",\"reason\",\"reputation\",\"romantic\",\"yes\",\"sex\",\"F\",81,5) .\n",
      "potential_implication(\"paid\",\"no\",\"reason\",\"reputation\",\"romantic\",\"yes\",\"sex\",\"F\",80,6) .\n",
      "potential_implication(\"nursery\",\"yes\",\"reason\",\"reputation\",\"romantic\",\"yes\",\"sex\",\"F\",81,5) .\n",
      "potential_implication(\"higher\",\"yes\",\"reason\",\"reputation\",\"romantic\",\"yes\",\"sex\",\"F\",80,6) .\n",
      "potential_implication(\"internet\",\"yes\",\"reason\",\"reputation\",\"romantic\",\"yes\",\"sex\",\"F\",82,5) .\n",
      "potential_implication(\"Pstatus\",\"T\",\"reason\",\"reputation\",\"romantic\",\"yes\",\"sex\",\"F\",82,5) .\n",
      "potential_implication(\"activities\",\"no\",\"Fjob\",\"other\",\"romantic\",\"yes\",\"sex\",\"F\",82,9) .\n",
      "potential_implication(\"activities\",\"no\",\"Mjob\",\"other\",\"romantic\",\"yes\",\"sex\",\"F\",80,7) .\n",
      "potential_implication(\"romantic\",\"yes\",\"schoolsup\",\"no\",\"reason\",\"reputation\",\"sex\",\"F\",81,5) .\n",
      "potential_implication(\"romantic\",\"yes\",\"paid\",\"no\",\"reason\",\"reputation\",\"sex\",\"F\",80,6) .\n",
      "potential_implication(\"romantic\",\"yes\",\"nursery\",\"yes\",\"reason\",\"reputation\",\"sex\",\"F\",81,5) .\n",
      "potential_implication(\"romantic\",\"yes\",\"higher\",\"yes\",\"reason\",\"reputation\",\"sex\",\"F\",80,6) .\n",
      "potential_implication(\"romantic\",\"yes\",\"internet\",\"yes\",\"reason\",\"reputation\",\"sex\",\"F\",82,5) .\n",
      "potential_implication(\"romantic\",\"yes\",\"Pstatus\",\"T\",\"reason\",\"reputation\",\"sex\",\"F\",82,5) .\n",
      "potential_implication(\"schoolsup\",\"no\",\"romantic\",\"yes\",\"reason\",\"reputation\",\"sex\",\"F\",81,5) .\n",
      "potential_implication(\"paid\",\"no\",\"romantic\",\"yes\",\"reason\",\"reputation\",\"sex\",\"F\",80,6) .\n",
      "potential_implication(\"nursery\",\"yes\",\"romantic\",\"yes\",\"reason\",\"reputation\",\"sex\",\"F\",81,5) .\n",
      "potential_implication(\"higher\",\"yes\",\"romantic\",\"yes\",\"reason\",\"reputation\",\"sex\",\"F\",80,6) .\n",
      "potential_implication(\"internet\",\"yes\",\"romantic\",\"yes\",\"reason\",\"reputation\",\"sex\",\"F\",82,5) .\n",
      "potential_implication(\"Pstatus\",\"T\",\"romantic\",\"yes\",\"reason\",\"reputation\",\"sex\",\"F\",82,5) .\n",
      "potential_implication(\"Mjob\",\"at_home\",\"school\",\"MS\",\"Fjob\",\"other\",\"sex\",\"F\",87,6) .\n",
      "potential_implication(\"Mjob\",\"at_home\",\"famsize\",\"GT3\",\"Fjob\",\"other\",\"sex\",\"F\",82,8) .\n",
      "potential_implication(\"Mjob\",\"at_home\",\"famsup\",\"yes\",\"Fjob\",\"other\",\"sex\",\"F\",88,7) .\n",
      "potential_implication(\"internet\",\"no\",\"famsup\",\"yes\",\"Fjob\",\"other\",\"sex\",\"F\",90,6) .\n",
      "potential_implication(\"schoolsup\",\"yes\",\"paid\",\"no\",\"Fjob\",\"other\",\"sex\",\"F\",80,5) .\n",
      "potential_implication(\"romantic\",\"yes\",\"activities\",\"no\",\"Fjob\",\"other\",\"sex\",\"F\",82,9) .\n",
      "potential_implication(\"Mjob\",\"at_home\",\"activities\",\"no\",\"Fjob\",\"other\",\"sex\",\"F\",85,6) .\n",
      "potential_implication(\"schoolsup\",\"yes\",\"nursery\",\"yes\",\"Fjob\",\"other\",\"sex\",\"F\",80,5) .\n",
      "potential_implication(\"Mjob\",\"at_home\",\"higher\",\"yes\",\"Fjob\",\"other\",\"sex\",\"F\",80,10) .\n",
      "potential_implication(\"schoolsup\",\"yes\",\"higher\",\"yes\",\"Fjob\",\"other\",\"sex\",\"F\",82,5) .\n",
      "potential_implication(\"Mjob\",\"at_home\",\"internet\",\"yes\",\"Fjob\",\"other\",\"sex\",\"F\",80,6) .\n",
      "potential_implication(\"Mjob\",\"at_home\",\"romantic\",\"no\",\"Fjob\",\"other\",\"sex\",\"F\",82,7) .\n",
      "potential_implication(\"Mjob\",\"at_home\",\"address\",\"U\",\"Fjob\",\"other\",\"sex\",\"F\",82,5) .\n",
      "potential_implication(\"activities\",\"no\",\"romantic\",\"yes\",\"Fjob\",\"other\",\"sex\",\"F\",82,9) .\n",
      "potential_implication(\"school\",\"MS\",\"Mjob\",\"at_home\",\"Fjob\",\"other\",\"sex\",\"F\",87,6) .\n",
      "potential_implication(\"famsize\",\"GT3\",\"Mjob\",\"at_home\",\"Fjob\",\"other\",\"sex\",\"F\",82,8) .\n",
      "potential_implication(\"famsup\",\"yes\",\"Mjob\",\"at_home\",\"Fjob\",\"other\",\"sex\",\"F\",88,7) .\n",
      "potential_implication(\"activities\",\"no\",\"Mjob\",\"at_home\",\"Fjob\",\"other\",\"sex\",\"F\",85,6) .\n",
      "potential_implication(\"higher\",\"yes\",\"Mjob\",\"at_home\",\"Fjob\",\"other\",\"sex\",\"F\",80,10) .\n",
      "potential_implication(\"internet\",\"yes\",\"Mjob\",\"at_home\",\"Fjob\",\"other\",\"sex\",\"F\",80,6) .\n",
      "potential_implication(\"romantic\",\"no\",\"Mjob\",\"at_home\",\"Fjob\",\"other\",\"sex\",\"F\",82,7) .\n",
      "potential_implication(\"address\",\"U\",\"Mjob\",\"at_home\",\"Fjob\",\"other\",\"sex\",\"F\",82,5) .\n",
      "potential_implication(\"famsup\",\"yes\",\"internet\",\"no\",\"Fjob\",\"other\",\"sex\",\"F\",90,6) .\n",
      "potential_implication(\"paid\",\"no\",\"schoolsup\",\"yes\",\"Fjob\",\"other\",\"sex\",\"F\",80,5) .\n",
      "potential_implication(\"nursery\",\"yes\",\"schoolsup\",\"yes\",\"Fjob\",\"other\",\"sex\",\"F\",80,5) .\n",
      "potential_implication(\"higher\",\"yes\",\"schoolsup\",\"yes\",\"Fjob\",\"other\",\"sex\",\"F\",82,5) .\n",
      "potential_implication(\"absences\",\"4\",\"famsize\",\"GT3\",\"Mjob\",\"other\",\"sex\",\"F\",80,5) .\n",
      "potential_implication(\"romantic\",\"yes\",\"activities\",\"no\",\"Mjob\",\"other\",\"sex\",\"F\",80,7) .\n",
      "potential_implication(\"absences\",\"4\",\"higher\",\"yes\",\"Mjob\",\"other\",\"sex\",\"F\",80,5) .\n",
      "potential_implication(\"schoolsup\",\"yes\",\"higher\",\"yes\",\"Mjob\",\"other\",\"sex\",\"F\",84,5) .\n",
      "potential_implication(\"internet\",\"no\",\"address\",\"U\",\"Mjob\",\"other\",\"sex\",\"F\",84,5) .\n",
      "potential_implication(\"activities\",\"no\",\"romantic\",\"yes\",\"Mjob\",\"other\",\"sex\",\"F\",80,7) .\n",
      "potential_implication(\"famsize\",\"GT3\",\"absences\",\"4\",\"Mjob\",\"other\",\"sex\",\"F\",80,5) .\n",
      "potential_implication(\"higher\",\"yes\",\"absences\",\"4\",\"Mjob\",\"other\",\"sex\",\"F\",80,5) .\n",
      "potential_implication(\"address\",\"U\",\"internet\",\"no\",\"Mjob\",\"other\",\"sex\",\"F\",84,5) .\n",
      "potential_implication(\"higher\",\"yes\",\"schoolsup\",\"yes\",\"Mjob\",\"other\",\"sex\",\"F\",84,5) .\n",
      "potential_implication(\"address\",\"R\",\"school\",\"MS\",\"Mjob\",\"at_home\",\"sex\",\"F\",81,6) .\n",
      "potential_implication(\"famsize\",\"GT3\",\"school\",\"MS\",\"Mjob\",\"at_home\",\"sex\",\"F\",81,7) .\n",
      "potential_implication(\"reason\",\"course\",\"school\",\"MS\",\"Mjob\",\"at_home\",\"sex\",\"F\",80,6) .\n",
      "potential_implication(\"activities\",\"no\",\"school\",\"MS\",\"Mjob\",\"at_home\",\"sex\",\"F\",90,6) .\n",
      "potential_implication(\"absences\",\"0\",\"school\",\"MS\",\"Mjob\",\"at_home\",\"sex\",\"F\",85,5) .\n",
      "potential_implication(\"Fjob\",\"other\",\"school\",\"MS\",\"Mjob\",\"at_home\",\"sex\",\"F\",87,6) .\n",
      "potential_implication(\"internet\",\"no\",\"school\",\"MS\",\"Mjob\",\"at_home\",\"sex\",\"F\",81,5) .\n",
      "potential_implication(\"school\",\"MS\",\"address\",\"R\",\"Mjob\",\"at_home\",\"sex\",\"F\",81,6) .\n",
      "potential_implication(\"school\",\"MS\",\"famsize\",\"GT3\",\"Mjob\",\"at_home\",\"sex\",\"F\",81,7) .\n",
      "potential_implication(\"famsup\",\"yes\",\"famsize\",\"GT3\",\"Mjob\",\"at_home\",\"sex\",\"F\",88,8) .\n",
      "potential_implication(\"activities\",\"no\",\"famsize\",\"GT3\",\"Mjob\",\"at_home\",\"sex\",\"F\",82,8) .\n",
      "potential_implication(\"internet\",\"yes\",\"famsize\",\"GT3\",\"Mjob\",\"at_home\",\"sex\",\"F\",82,8) .\n",
      "potential_implication(\"absences\",\"0\",\"famsize\",\"GT3\",\"Mjob\",\"at_home\",\"sex\",\"F\",85,5) .\n",
      "potential_implication(\"Fjob\",\"other\",\"famsize\",\"GT3\",\"Mjob\",\"at_home\",\"sex\",\"F\",82,8) .\n",
      "potential_implication(\"school\",\"MS\",\"reason\",\"course\",\"Mjob\",\"at_home\",\"sex\",\"F\",80,6) .\n",
      "potential_implication(\"famsup\",\"yes\",\"reason\",\"course\",\"Mjob\",\"at_home\",\"sex\",\"F\",81,6) .\n",
      "potential_implication(\"activities\",\"no\",\"reason\",\"course\",\"Mjob\",\"at_home\",\"sex\",\"F\",81,6) .\n",
      "potential_implication(\"activities\",\"no\",\"schoolsup\",\"no\",\"Mjob\",\"at_home\",\"sex\",\"F\",82,10) .\n",
      "potential_implication(\"absences\",\"0\",\"schoolsup\",\"no\",\"Mjob\",\"at_home\",\"sex\",\"F\",83,7) .\n",
      "potential_implication(\"famsize\",\"GT3\",\"famsup\",\"yes\",\"Mjob\",\"at_home\",\"sex\",\"F\",88,8) .\n",
      "potential_implication(\"reason\",\"course\",\"famsup\",\"yes\",\"Mjob\",\"at_home\",\"sex\",\"F\",81,6) .\n",
      "potential_implication(\"activities\",\"no\",\"famsup\",\"yes\",\"Mjob\",\"at_home\",\"sex\",\"F\",93,6) .\n",
      "potential_implication(\"romantic\",\"no\",\"famsup\",\"yes\",\"Mjob\",\"at_home\",\"sex\",\"F\",81,7) .\n",
      "potential_implication(\"school\",\"GP\",\"famsup\",\"yes\",\"Mjob\",\"at_home\",\"sex\",\"F\",84,5) .\n",
      "potential_implication(\"Fjob\",\"other\",\"famsup\",\"yes\",\"Mjob\",\"at_home\",\"sex\",\"F\",88,7) .\n",
      "potential_implication(\"activities\",\"no\",\"paid\",\"no\",\"Mjob\",\"at_home\",\"sex\",\"F\",83,10) .\n",
      "potential_implication(\"guardian\",\"father\",\"paid\",\"no\",\"Mjob\",\"at_home\",\"sex\",\"F\",80,5) .\n",
      "potential_implication(\"absences\",\"0\",\"paid\",\"no\",\"Mjob\",\"at_home\",\"sex\",\"F\",84,7) .\n",
      "potential_implication(\"school\",\"MS\",\"activities\",\"no\",\"Mjob\",\"at_home\",\"sex\",\"F\",90,6) .\n",
      "potential_implication(\"famsize\",\"GT3\",\"activities\",\"no\",\"Mjob\",\"at_home\",\"sex\",\"F\",82,8) .\n",
      "potential_implication(\"reason\",\"course\",\"activities\",\"no\",\"Mjob\",\"at_home\",\"sex\",\"F\",81,6) .\n",
      "potential_implication(\"schoolsup\",\"no\",\"activities\",\"no\",\"Mjob\",\"at_home\",\"sex\",\"F\",82,10) .\n",
      "potential_implication(\"famsup\",\"yes\",\"activities\",\"no\",\"Mjob\",\"at_home\",\"sex\",\"F\",93,6) .\n",
      "potential_implication(\"paid\",\"no\",\"activities\",\"no\",\"Mjob\",\"at_home\",\"sex\",\"F\",83,10) .\n",
      "potential_implication(\"nursery\",\"yes\",\"activities\",\"no\",\"Mjob\",\"at_home\",\"sex\",\"F\",82,9) .\n",
      "potential_implication(\"higher\",\"yes\",\"activities\",\"no\",\"Mjob\",\"at_home\",\"sex\",\"F\",84,9) .\n",
      "potential_implication(\"internet\",\"yes\",\"activities\",\"no\",\"Mjob\",\"at_home\",\"sex\",\"F\",89,5) .\n",
      "potential_implication(\"romantic\",\"no\",\"activities\",\"no\",\"Mjob\",\"at_home\",\"sex\",\"F\",83,7) .\n",
      "potential_implication(\"address\",\"U\",\"activities\",\"no\",\"Mjob\",\"at_home\",\"sex\",\"F\",87,6) .\n",
      "potential_implication(\"Pstatus\",\"T\",\"activities\",\"no\",\"Mjob\",\"at_home\",\"sex\",\"F\",82,9) .\n",
      "potential_implication(\"Fjob\",\"other\",\"activities\",\"no\",\"Mjob\",\"at_home\",\"sex\",\"F\",85,6) .\n",
      "potential_implication(\"activities\",\"no\",\"nursery\",\"yes\",\"Mjob\",\"at_home\",\"sex\",\"F\",82,9) .\n",
      "potential_implication(\"absences\",\"0\",\"nursery\",\"yes\",\"Mjob\",\"at_home\",\"sex\",\"F\",80,7) .\n",
      "potential_implication(\"activities\",\"no\",\"higher\",\"yes\",\"Mjob\",\"at_home\",\"sex\",\"F\",84,9) .\n",
      "potential_implication(\"absences\",\"0\",\"higher\",\"yes\",\"Mjob\",\"at_home\",\"sex\",\"F\",80,6) .\n",
      "potential_implication(\"Fjob\",\"other\",\"higher\",\"yes\",\"Mjob\",\"at_home\",\"sex\",\"F\",80,10) .\n",
      "potential_implication(\"famsize\",\"GT3\",\"internet\",\"yes\",\"Mjob\",\"at_home\",\"sex\",\"F\",82,8) .\n",
      "potential_implication(\"activities\",\"no\",\"internet\",\"yes\",\"Mjob\",\"at_home\",\"sex\",\"F\",89,5) .\n",
      "potential_implication(\"Fjob\",\"other\",\"internet\",\"yes\",\"Mjob\",\"at_home\",\"sex\",\"F\",80,6) .\n",
      "potential_implication(\"famsup\",\"yes\",\"romantic\",\"no\",\"Mjob\",\"at_home\",\"sex\",\"F\",81,7) .\n",
      "potential_implication(\"activities\",\"no\",\"romantic\",\"no\",\"Mjob\",\"at_home\",\"sex\",\"F\",83,7) .\n",
      "potential_implication(\"Fjob\",\"other\",\"romantic\",\"no\",\"Mjob\",\"at_home\",\"sex\",\"F\",82,7) .\n",
      "potential_implication(\"famsup\",\"yes\",\"school\",\"GP\",\"Mjob\",\"at_home\",\"sex\",\"F\",84,5) .\n",
      "potential_implication(\"address\",\"U\",\"school\",\"GP\",\"Mjob\",\"at_home\",\"sex\",\"F\",81,6) .\n",
      "potential_implication(\"activities\",\"no\",\"address\",\"U\",\"Mjob\",\"at_home\",\"sex\",\"F\",87,6) .\n",
      "potential_implication(\"school\",\"GP\",\"address\",\"U\",\"Mjob\",\"at_home\",\"sex\",\"F\",81,6) .\n",
      "potential_implication(\"Fjob\",\"other\",\"address\",\"U\",\"Mjob\",\"at_home\",\"sex\",\"F\",82,5) .\n",
      "potential_implication(\"activities\",\"no\",\"Pstatus\",\"T\",\"Mjob\",\"at_home\",\"sex\",\"F\",82,9) .\n",
      "potential_implication(\"absences\",\"0\",\"Pstatus\",\"T\",\"Mjob\",\"at_home\",\"sex\",\"F\",80,7) .\n",
      "potential_implication(\"paid\",\"no\",\"guardian\",\"father\",\"Mjob\",\"at_home\",\"sex\",\"F\",80,5) .\n",
      "potential_implication(\"school\",\"MS\",\"absences\",\"0\",\"Mjob\",\"at_home\",\"sex\",\"F\",85,5) .\n",
      "potential_implication(\"famsize\",\"GT3\",\"absences\",\"0\",\"Mjob\",\"at_home\",\"sex\",\"F\",85,5) .\n",
      "potential_implication(\"schoolsup\",\"no\",\"absences\",\"0\",\"Mjob\",\"at_home\",\"sex\",\"F\",83,7) .\n",
      "potential_implication(\"paid\",\"no\",\"absences\",\"0\",\"Mjob\",\"at_home\",\"sex\",\"F\",84,7) .\n",
      "potential_implication(\"nursery\",\"yes\",\"absences\",\"0\",\"Mjob\",\"at_home\",\"sex\",\"F\",80,7) .\n",
      "potential_implication(\"higher\",\"yes\",\"absences\",\"0\",\"Mjob\",\"at_home\",\"sex\",\"F\",80,6) .\n",
      "potential_implication(\"Pstatus\",\"T\",\"absences\",\"0\",\"Mjob\",\"at_home\",\"sex\",\"F\",80,7) .\n",
      "potential_implication(\"school\",\"MS\",\"Fjob\",\"other\",\"Mjob\",\"at_home\",\"sex\",\"F\",87,6) .\n",
      "potential_implication(\"famsize\",\"GT3\",\"Fjob\",\"other\",\"Mjob\",\"at_home\",\"sex\",\"F\",82,8) .\n",
      "potential_implication(\"famsup\",\"yes\",\"Fjob\",\"other\",\"Mjob\",\"at_home\",\"sex\",\"F\",88,7) .\n",
      "potential_implication(\"activities\",\"no\",\"Fjob\",\"other\",\"Mjob\",\"at_home\",\"sex\",\"F\",85,6) .\n",
      "potential_implication(\"higher\",\"yes\",\"Fjob\",\"other\",\"Mjob\",\"at_home\",\"sex\",\"F\",80,10) .\n",
      "potential_implication(\"internet\",\"yes\",\"Fjob\",\"other\",\"Mjob\",\"at_home\",\"sex\",\"F\",80,6) .\n",
      "potential_implication(\"romantic\",\"no\",\"Fjob\",\"other\",\"Mjob\",\"at_home\",\"sex\",\"F\",82,7) .\n",
      "potential_implication(\"address\",\"U\",\"Fjob\",\"other\",\"Mjob\",\"at_home\",\"sex\",\"F\",82,5) .\n",
      "potential_implication(\"school\",\"MS\",\"internet\",\"no\",\"Mjob\",\"at_home\",\"sex\",\"F\",81,5) .\n",
      "potential_implication(\"Mjob\",\"other\",\"famsize\",\"GT3\",\"absences\",\"4\",\"sex\",\"F\",80,5) .\n",
      "potential_implication(\"Mjob\",\"other\",\"higher\",\"yes\",\"absences\",\"4\",\"sex\",\"F\",80,5) .\n",
      "potential_implication(\"famsize\",\"GT3\",\"Mjob\",\"other\",\"absences\",\"4\",\"sex\",\"F\",80,5) .\n",
      "potential_implication(\"higher\",\"yes\",\"Mjob\",\"other\",\"absences\",\"4\",\"sex\",\"F\",80,5) .\n",
      "potential_implication(\"Mjob\",\"at_home\",\"school\",\"MS\",\"internet\",\"no\",\"sex\",\"F\",81,5) .\n",
      "potential_implication(\"activities\",\"no\",\"famsup\",\"yes\",\"internet\",\"no\",\"sex\",\"F\",85,6) .\n",
      "potential_implication(\"Fjob\",\"other\",\"famsup\",\"yes\",\"internet\",\"no\",\"sex\",\"F\",90,6) .\n",
      "potential_implication(\"famsup\",\"yes\",\"activities\",\"no\",\"internet\",\"no\",\"sex\",\"F\",85,6) .\n",
      "potential_implication(\"address\",\"U\",\"activities\",\"no\",\"internet\",\"no\",\"sex\",\"F\",80,6) .\n",
      "potential_implication(\"absences\",\"0\",\"activities\",\"no\",\"internet\",\"no\",\"sex\",\"F\",80,5) .\n",
      "potential_implication(\"activities\",\"no\",\"address\",\"U\",\"internet\",\"no\",\"sex\",\"F\",80,6) .\n",
      "potential_implication(\"Mjob\",\"other\",\"address\",\"U\",\"internet\",\"no\",\"sex\",\"F\",84,5) .\n",
      "potential_implication(\"activities\",\"no\",\"absences\",\"0\",\"internet\",\"no\",\"sex\",\"F\",80,5) .\n",
      "potential_implication(\"famsup\",\"yes\",\"Fjob\",\"other\",\"internet\",\"no\",\"sex\",\"F\",90,6) .\n",
      "potential_implication(\"address\",\"U\",\"Mjob\",\"other\",\"internet\",\"no\",\"sex\",\"F\",84,5) .\n",
      "potential_implication(\"school\",\"MS\",\"Mjob\",\"at_home\",\"internet\",\"no\",\"sex\",\"F\",81,5) .\n",
      "potential_implication(\"romantic\",\"no\",\"famsup\",\"yes\",\"schoolsup\",\"yes\",\"sex\",\"F\",80,5) .\n",
      "potential_implication(\"activities\",\"no\",\"paid\",\"no\",\"schoolsup\",\"yes\",\"sex\",\"F\",82,5) .\n",
      "potential_implication(\"nursery\",\"yes\",\"paid\",\"no\",\"schoolsup\",\"yes\",\"sex\",\"F\",80,8) .\n",
      "potential_implication(\"higher\",\"yes\",\"paid\",\"no\",\"schoolsup\",\"yes\",\"sex\",\"F\",80,9) .\n",
      "potential_implication(\"romantic\",\"no\",\"paid\",\"no\",\"schoolsup\",\"yes\",\"sex\",\"F\",82,7) .\n",
      "potential_implication(\"Fjob\",\"other\",\"paid\",\"no\",\"schoolsup\",\"yes\",\"sex\",\"F\",80,5) .\n",
      "potential_implication(\"paid\",\"no\",\"activities\",\"no\",\"schoolsup\",\"yes\",\"sex\",\"F\",82,5) .\n",
      "potential_implication(\"nursery\",\"yes\",\"activities\",\"no\",\"schoolsup\",\"yes\",\"sex\",\"F\",84,5) .\n",
      "potential_implication(\"higher\",\"yes\",\"activities\",\"no\",\"schoolsup\",\"yes\",\"sex\",\"F\",82,5) .\n",
      "potential_implication(\"Pstatus\",\"T\",\"activities\",\"no\",\"schoolsup\",\"yes\",\"sex\",\"F\",84,5) .\n",
      "potential_implication(\"paid\",\"no\",\"nursery\",\"yes\",\"schoolsup\",\"yes\",\"sex\",\"F\",80,8) .\n",
      "potential_implication(\"activities\",\"no\",\"nursery\",\"yes\",\"schoolsup\",\"yes\",\"sex\",\"F\",84,5) .\n",
      "potential_implication(\"romantic\",\"no\",\"nursery\",\"yes\",\"schoolsup\",\"yes\",\"sex\",\"F\",80,7) .\n",
      "potential_implication(\"Fjob\",\"other\",\"nursery\",\"yes\",\"schoolsup\",\"yes\",\"sex\",\"F\",80,5) .\n",
      "potential_implication(\"paid\",\"no\",\"higher\",\"yes\",\"schoolsup\",\"yes\",\"sex\",\"F\",80,9) .\n",
      "potential_implication(\"activities\",\"no\",\"higher\",\"yes\",\"schoolsup\",\"yes\",\"sex\",\"F\",82,5) .\n",
      "potential_implication(\"romantic\",\"no\",\"higher\",\"yes\",\"schoolsup\",\"yes\",\"sex\",\"F\",81,7) .\n",
      "potential_implication(\"Fjob\",\"other\",\"higher\",\"yes\",\"schoolsup\",\"yes\",\"sex\",\"F\",82,5) .\n",
      "potential_implication(\"Mjob\",\"other\",\"higher\",\"yes\",\"schoolsup\",\"yes\",\"sex\",\"F\",84,5) .\n",
      "potential_implication(\"famsup\",\"yes\",\"romantic\",\"no\",\"schoolsup\",\"yes\",\"sex\",\"F\",80,5) .\n",
      "potential_implication(\"paid\",\"no\",\"romantic\",\"no\",\"schoolsup\",\"yes\",\"sex\",\"F\",82,7) .\n",
      "potential_implication(\"nursery\",\"yes\",\"romantic\",\"no\",\"schoolsup\",\"yes\",\"sex\",\"F\",80,7) .\n",
      "potential_implication(\"higher\",\"yes\",\"romantic\",\"no\",\"schoolsup\",\"yes\",\"sex\",\"F\",81,7) .\n",
      "potential_implication(\"Pstatus\",\"T\",\"romantic\",\"no\",\"schoolsup\",\"yes\",\"sex\",\"F\",82,6) .\n",
      "potential_implication(\"activities\",\"no\",\"Pstatus\",\"T\",\"schoolsup\",\"yes\",\"sex\",\"F\",84,5) .\n",
      "potential_implication(\"romantic\",\"no\",\"Pstatus\",\"T\",\"schoolsup\",\"yes\",\"sex\",\"F\",82,6) .\n",
      "potential_implication(\"paid\",\"no\",\"Fjob\",\"other\",\"schoolsup\",\"yes\",\"sex\",\"F\",80,5) .\n",
      "potential_implication(\"nursery\",\"yes\",\"Fjob\",\"other\",\"schoolsup\",\"yes\",\"sex\",\"F\",80,5) .\n",
      "potential_implication(\"higher\",\"yes\",\"Fjob\",\"other\",\"schoolsup\",\"yes\",\"sex\",\"F\",82,5) .\n",
      "potential_implication(\"higher\",\"yes\",\"Mjob\",\"other\",\"schoolsup\",\"yes\",\"sex\",\"F\",84,5) .\n",
      "\n"
     ]
    }
   ],
   "source": [
    "potential_proxy_string = \"\"\n",
    "\n",
    "with io.StringIO() as buf, redirect_stdout(buf):\n",
    "    process_potential_implications(clingo_output)\n",
    "    potential_proxy_string = buf.getvalue()\n",
    "    \n",
    "print(potential_proxy_string)\n"
   ]
  },
  {
   "cell_type": "markdown",
   "id": "65a6edc6",
   "metadata": {},
   "source": [
    "The minimum implication and incidence probability values can be changed as previously explained. The clingo rules for this method are in the three following files:\n",
    "\n",
    "* `clingo_scripts/multi_proxy_hardcoded_check_1.lp`\n",
    "* `clingo_scripts/multi_proxy_hardcoded_check_2.lp`\n",
    "* `clingo_scripts/multi_proxy_hardcoded_check_3.lp`\n"
   ]
  },
  {
   "cell_type": "markdown",
   "id": "86fbbb36",
   "metadata": {},
   "source": [
    "```\n",
    "check_implication(\n",
    "    potential_proxy_string: str,\n",
    "    datafile: str\n",
    ")\n",
    "```\n"
   ]
  },
  {
   "cell_type": "code",
   "execution_count": 19,
   "id": "e1f0131f",
   "metadata": {},
   "outputs": [
    {
     "name": "stdout",
     "output_type": "stream",
     "text": [
      "cluster size = 1\n",
      "protected(\"sex\") count_items(649)\n",
      "\n",
      "\n",
      "\n",
      "\n",
      "cluster size = 2\n",
      "protected(\"sex\") count_items(649) implication(\"activities\",\"no\",\"Mjob\",\"at_home\",\"sex\",\"F\",80,11) implication(\"Mjob\",\"at_home\",\"activities\",\"no\",\"sex\",\"F\",80,11)\n",
      "\n",
      "\n",
      "\n",
      "\n",
      "cluster size = 3\n",
      "protected(\"sex\") count_items(649) implication(\"Mjob\",\"at_home\",\"famsize\",\"GT3\",\"school\",\"MS\",\"sex\",\"F\",80,7) implication(\"romantic\",\"yes\",\"activities\",\"no\",\"school\",\"MS\",\"sex\",\"F\",82,7) implication(\"Mjob\",\"at_home\",\"activities\",\"no\",\"school\",\"MS\",\"sex\",\"F\",85,6) implication(\"Mjob\",\"at_home\",\"absences\",\"0\",\"school\",\"MS\",\"sex\",\"F\",80,5) implication(\"activities\",\"no\",\"romantic\",\"yes\",\"school\",\"MS\",\"sex\",\"F\",82,7) implication(\"Mjob\",\"at_home\",\"Fjob\",\"other\",\"school\",\"MS\",\"sex\",\"F\",84,6) implication(\"famsize\",\"GT3\",\"Mjob\",\"at_home\",\"school\",\"MS\",\"sex\",\"F\",80,7) implication(\"activities\",\"no\",\"Mjob\",\"at_home\",\"school\",\"MS\",\"sex\",\"F\",85,6) implication(\"absences\",\"0\",\"Mjob\",\"at_home\",\"school\",\"MS\",\"sex\",\"F\",80,5) implication(\"Fjob\",\"other\",\"Mjob\",\"at_home\",\"school\",\"MS\",\"sex\",\"F\",84,6) implication(\"Mjob\",\"at_home\",\"school\",\"MS\",\"famsize\",\"GT3\",\"sex\",\"F\",80,7) implication(\"Mjob\",\"at_home\",\"famsup\",\"yes\",\"famsize\",\"GT3\",\"sex\",\"F\",84,8) implication(\"romantic\",\"yes\",\"activities\",\"no\",\"famsize\",\"GT3\",\"sex\",\"F\",80,12) implication(\"Mjob\",\"at_home\",\"internet\",\"yes\",\"famsize\",\"GT3\",\"sex\",\"F\",82,7) implication(\"Mjob\",\"at_home\",\"absences\",\"0\",\"famsize\",\"GT3\",\"sex\",\"F\",80,5) implication(\"activities\",\"no\",\"romantic\",\"yes\",\"famsize\",\"GT3\",\"sex\",\"F\",80,12) implication(\"Mjob\",\"at_home\",\"Fjob\",\"other\",\"famsize\",\"GT3\",\"sex\",\"F\",81,8) implication(\"school\",\"MS\",\"Mjob\",\"at_home\",\"famsize\",\"GT3\",\"sex\",\"F\",80,7) implication(\"famsup\",\"yes\",\"Mjob\",\"at_home\",\"famsize\",\"GT3\",\"sex\",\"F\",84,8) implication(\"internet\",\"yes\",\"Mjob\",\"at_home\",\"famsize\",\"GT3\",\"sex\",\"F\",82,7) implication(\"absences\",\"0\",\"Mjob\",\"at_home\",\"famsize\",\"GT3\",\"sex\",\"F\",80,5) implication(\"Fjob\",\"other\",\"Mjob\",\"at_home\",\"famsize\",\"GT3\",\"sex\",\"F\",81,8) implication(\"Mjob\",\"at_home\",\"famsup\",\"yes\",\"reason\",\"course\",\"sex\",\"F\",80,6) implication(\"Mjob\",\"at_home\",\"activities\",\"no\",\"reason\",\"course\",\"sex\",\"F\",82,6) implication(\"famsup\",\"yes\",\"Mjob\",\"at_home\",\"reason\",\"course\",\"sex\",\"F\",80,6) implication(\"activities\",\"no\",\"Mjob\",\"at_home\",\"reason\",\"course\",\"sex\",\"F\",82,6) implication(\"Mjob\",\"at_home\",\"activities\",\"no\",\"schoolsup\",\"no\",\"sex\",\"F\",80,10) implication(\"Mjob\",\"at_home\",\"absences\",\"0\",\"schoolsup\",\"no\",\"sex\",\"F\",81,7) implication(\"activities\",\"no\",\"Mjob\",\"at_home\",\"schoolsup\",\"no\",\"sex\",\"F\",80,10) implication(\"absences\",\"0\",\"Mjob\",\"at_home\",\"schoolsup\",\"no\",\"sex\",\"F\",81,7) implication(\"Mjob\",\"at_home\",\"famsize\",\"GT3\",\"famsup\",\"yes\",\"sex\",\"F\",84,8) implication(\"Mjob\",\"at_home\",\"reason\",\"course\",\"famsup\",\"yes\",\"sex\",\"F\",80,6) implication(\"Mjob\",\"at_home\",\"activities\",\"no\",\"famsup\",\"yes\",\"sex\",\"F\",84,7) implication(\"internet\",\"no\",\"activities\",\"no\",\"famsup\",\"yes\",\"sex\",\"F\",80,7) implication(\"Mjob\",\"at_home\",\"school\",\"GP\",\"famsup\",\"yes\",\"sex\",\"F\",83,5) implication(\"Mjob\",\"at_home\",\"Fjob\",\"other\",\"famsup\",\"yes\",\"sex\",\"F\",87,7) implication(\"internet\",\"no\",\"Fjob\",\"other\",\"famsup\",\"yes\",\"sex\",\"F\",88,6) implication(\"famsize\",\"GT3\",\"Mjob\",\"at_home\",\"famsup\",\"yes\",\"sex\",\"F\",84,8) implication(\"reason\",\"course\",\"Mjob\",\"at_home\",\"famsup\",\"yes\",\"sex\",\"F\",80,6) implication(\"activities\",\"no\",\"Mjob\",\"at_home\",\"famsup\",\"yes\",\"sex\",\"F\",84,7) implication(\"school\",\"GP\",\"Mjob\",\"at_home\",\"famsup\",\"yes\",\"sex\",\"F\",83,5) implication(\"Fjob\",\"other\",\"Mjob\",\"at_home\",\"famsup\",\"yes\",\"sex\",\"F\",87,7) implication(\"activities\",\"no\",\"internet\",\"no\",\"famsup\",\"yes\",\"sex\",\"F\",80,7) implication(\"Fjob\",\"other\",\"internet\",\"no\",\"famsup\",\"yes\",\"sex\",\"F\",88,6) implication(\"Mjob\",\"at_home\",\"activities\",\"no\",\"paid\",\"no\",\"sex\",\"F\",80,11) implication(\"Mjob\",\"at_home\",\"absences\",\"0\",\"paid\",\"no\",\"sex\",\"F\",82,7) implication(\"activities\",\"no\",\"Mjob\",\"at_home\",\"paid\",\"no\",\"sex\",\"F\",80,11) implication(\"absences\",\"0\",\"Mjob\",\"at_home\",\"paid\",\"no\",\"sex\",\"F\",82,7) implication(\"romantic\",\"yes\",\"school\",\"MS\",\"activities\",\"no\",\"sex\",\"F\",82,7) implication(\"Mjob\",\"at_home\",\"school\",\"MS\",\"activities\",\"no\",\"sex\",\"F\",85,6) implication(\"romantic\",\"yes\",\"famsize\",\"GT3\",\"activities\",\"no\",\"sex\",\"F\",80,12) implication(\"Mjob\",\"at_home\",\"reason\",\"course\",\"activities\",\"no\",\"sex\",\"F\",82,6) implication(\"Mjob\",\"at_home\",\"schoolsup\",\"no\",\"activities\",\"no\",\"sex\",\"F\",80,10) implication(\"Mjob\",\"at_home\",\"famsup\",\"yes\",\"activities\",\"no\",\"sex\",\"F\",84,7) implication(\"internet\",\"no\",\"famsup\",\"yes\",\"activities\",\"no\",\"sex\",\"F\",80,7) implication(\"Mjob\",\"at_home\",\"paid\",\"no\",\"activities\",\"no\",\"sex\",\"F\",80,11) implication(\"Mjob\",\"at_home\",\"nursery\",\"yes\",\"activities\",\"no\",\"sex\",\"F\",83,9) implication(\"Mjob\",\"at_home\",\"higher\",\"yes\",\"activities\",\"no\",\"sex\",\"F\",80,9) implication(\"Mjob\",\"at_home\",\"internet\",\"yes\",\"activities\",\"no\",\"sex\",\"F\",86,5) implication(\"Mjob\",\"at_home\",\"address\",\"U\",\"activities\",\"no\",\"sex\",\"F\",84,7) implication(\"school\",\"MS\",\"romantic\",\"yes\",\"activities\",\"no\",\"sex\",\"F\",82,7) implication(\"famsize\",\"GT3\",\"romantic\",\"yes\",\"activities\",\"no\",\"sex\",\"F\",80,12) implication(\"Fjob\",\"other\",\"romantic\",\"yes\",\"activities\",\"no\",\"sex\",\"F\",81,9) implication(\"romantic\",\"yes\",\"Fjob\",\"other\",\"activities\",\"no\",\"sex\",\"F\",81,9) implication(\"Mjob\",\"at_home\",\"Fjob\",\"other\",\"activities\",\"no\",\"sex\",\"F\",82,7) implication(\"school\",\"MS\",\"Mjob\",\"at_home\",\"activities\",\"no\",\"sex\",\"F\",85,6) implication(\"reason\",\"course\",\"Mjob\",\"at_home\",\"activities\",\"no\",\"sex\",\"F\",82,6) implication(\"schoolsup\",\"no\",\"Mjob\",\"at_home\",\"activities\",\"no\",\"sex\",\"F\",80,10) implication(\"famsup\",\"yes\",\"Mjob\",\"at_home\",\"activities\",\"no\",\"sex\",\"F\",84,7) implication(\"paid\",\"no\",\"Mjob\",\"at_home\",\"activities\",\"no\",\"sex\",\"F\",80,11) implication(\"nursery\",\"yes\",\"Mjob\",\"at_home\",\"activities\",\"no\",\"sex\",\"F\",83,9) implication(\"higher\",\"yes\",\"Mjob\",\"at_home\",\"activities\",\"no\",\"sex\",\"F\",80,9) implication(\"internet\",\"yes\",\"Mjob\",\"at_home\",\"activities\",\"no\",\"sex\",\"F\",86,5) implication(\"address\",\"U\",\"Mjob\",\"at_home\",\"activities\",\"no\",\"sex\",\"F\",84,7) implication(\"Fjob\",\"other\",\"Mjob\",\"at_home\",\"activities\",\"no\",\"sex\",\"F\",82,7) implication(\"famsup\",\"yes\",\"internet\",\"no\",\"activities\",\"no\",\"sex\",\"F\",80,7) implication(\"Mjob\",\"at_home\",\"activities\",\"no\",\"nursery\",\"yes\",\"sex\",\"F\",83,9) implication(\"activities\",\"no\",\"Mjob\",\"at_home\",\"nursery\",\"yes\",\"sex\",\"F\",83,9) implication(\"Mjob\",\"at_home\",\"activities\",\"no\",\"higher\",\"yes\",\"sex\",\"F\",80,9) implication(\"schoolsup\",\"yes\",\"Fjob\",\"other\",\"higher\",\"yes\",\"sex\",\"F\",80,5) implication(\"activities\",\"no\",\"Mjob\",\"at_home\",\"higher\",\"yes\",\"sex\",\"F\",80,9) implication(\"Fjob\",\"other\",\"schoolsup\",\"yes\",\"higher\",\"yes\",\"sex\",\"F\",80,5) implication(\"Mjob\",\"at_home\",\"famsize\",\"GT3\",\"internet\",\"yes\",\"sex\",\"F\",82,7) implication(\"Mjob\",\"at_home\",\"activities\",\"no\",\"internet\",\"yes\",\"sex\",\"F\",86,5) implication(\"famsize\",\"GT3\",\"Mjob\",\"at_home\",\"internet\",\"yes\",\"sex\",\"F\",82,7) implication(\"activities\",\"no\",\"Mjob\",\"at_home\",\"internet\",\"yes\",\"sex\",\"F\",86,5) implication(\"Mjob\",\"at_home\",\"famsup\",\"yes\",\"school\",\"GP\",\"sex\",\"F\",83,5) implication(\"Mjob\",\"at_home\",\"address\",\"U\",\"school\",\"GP\",\"sex\",\"F\",80,6) implication(\"famsup\",\"yes\",\"Mjob\",\"at_home\",\"school\",\"GP\",\"sex\",\"F\",83,5) implication(\"address\",\"U\",\"Mjob\",\"at_home\",\"school\",\"GP\",\"sex\",\"F\",80,6) implication(\"Mjob\",\"at_home\",\"activities\",\"no\",\"address\",\"U\",\"sex\",\"F\",84,7) implication(\"Mjob\",\"at_home\",\"school\",\"GP\",\"address\",\"U\",\"sex\",\"F\",80,6) implication(\"Mjob\",\"at_home\",\"Fjob\",\"other\",\"address\",\"U\",\"sex\",\"F\",80,5) implication(\"activities\",\"no\",\"Mjob\",\"at_home\",\"address\",\"U\",\"sex\",\"F\",84,7) implication(\"school\",\"GP\",\"Mjob\",\"at_home\",\"address\",\"U\",\"sex\",\"F\",80,6) implication(\"Fjob\",\"other\",\"Mjob\",\"at_home\",\"address\",\"U\",\"sex\",\"F\",80,5) implication(\"reason\",\"reputation\",\"romantic\",\"yes\",\"Pstatus\",\"T\",\"sex\",\"F\",83,5) implication(\"romantic\",\"yes\",\"reason\",\"reputation\",\"Pstatus\",\"T\",\"sex\",\"F\",83,5) implication(\"Mjob\",\"at_home\",\"school\",\"MS\",\"absences\",\"0\",\"sex\",\"F\",80,5) implication(\"Mjob\",\"at_home\",\"famsize\",\"GT3\",\"absences\",\"0\",\"sex\",\"F\",80,5) implication(\"Mjob\",\"at_home\",\"schoolsup\",\"no\",\"absences\",\"0\",\"sex\",\"F\",81,7) implication(\"Mjob\",\"at_home\",\"paid\",\"no\",\"absences\",\"0\",\"sex\",\"F\",82,7) implication(\"school\",\"MS\",\"Mjob\",\"at_home\",\"absences\",\"0\",\"sex\",\"F\",80,5) implication(\"famsize\",\"GT3\",\"Mjob\",\"at_home\",\"absences\",\"0\",\"sex\",\"F\",80,5) implication(\"schoolsup\",\"no\",\"Mjob\",\"at_home\",\"absences\",\"0\",\"sex\",\"F\",81,7) implication(\"paid\",\"no\",\"Mjob\",\"at_home\",\"absences\",\"0\",\"sex\",\"F\",82,7) implication(\"activities\",\"no\",\"school\",\"MS\",\"romantic\",\"yes\",\"sex\",\"F\",82,7) implication(\"activities\",\"no\",\"famsize\",\"GT3\",\"romantic\",\"yes\",\"sex\",\"F\",80,12) implication(\"school\",\"MS\",\"activities\",\"no\",\"romantic\",\"yes\",\"sex\",\"F\",82,7) implication(\"famsize\",\"GT3\",\"activities\",\"no\",\"romantic\",\"yes\",\"sex\",\"F\",80,12) implication(\"Fjob\",\"other\",\"activities\",\"no\",\"romantic\",\"yes\",\"sex\",\"F\",81,9) implication(\"reason\",\"reputation\",\"Pstatus\",\"T\",\"romantic\",\"yes\",\"sex\",\"F\",83,5) implication(\"Pstatus\",\"T\",\"reason\",\"reputation\",\"romantic\",\"yes\",\"sex\",\"F\",83,5) implication(\"activities\",\"no\",\"Fjob\",\"other\",\"romantic\",\"yes\",\"sex\",\"F\",81,9) implication(\"romantic\",\"yes\",\"Pstatus\",\"T\",\"reason\",\"reputation\",\"sex\",\"F\",83,5) implication(\"Pstatus\",\"T\",\"romantic\",\"yes\",\"reason\",\"reputation\",\"sex\",\"F\",83,5) implication(\"Mjob\",\"at_home\",\"school\",\"MS\",\"Fjob\",\"other\",\"sex\",\"F\",84,6) implication(\"Mjob\",\"at_home\",\"famsize\",\"GT3\",\"Fjob\",\"other\",\"sex\",\"F\",81,8) implication(\"Mjob\",\"at_home\",\"famsup\",\"yes\",\"Fjob\",\"other\",\"sex\",\"F\",87,7) implication(\"internet\",\"no\",\"famsup\",\"yes\",\"Fjob\",\"other\",\"sex\",\"F\",88,6) implication(\"romantic\",\"yes\",\"activities\",\"no\",\"Fjob\",\"other\",\"sex\",\"F\",81,9) implication(\"Mjob\",\"at_home\",\"activities\",\"no\",\"Fjob\",\"other\",\"sex\",\"F\",82,7) implication(\"schoolsup\",\"yes\",\"higher\",\"yes\",\"Fjob\",\"other\",\"sex\",\"F\",80,5) implication(\"Mjob\",\"at_home\",\"address\",\"U\",\"Fjob\",\"other\",\"sex\",\"F\",80,5) implication(\"activities\",\"no\",\"romantic\",\"yes\",\"Fjob\",\"other\",\"sex\",\"F\",81,9) implication(\"school\",\"MS\",\"Mjob\",\"at_home\",\"Fjob\",\"other\",\"sex\",\"F\",84,6) implication(\"famsize\",\"GT3\",\"Mjob\",\"at_home\",\"Fjob\",\"other\",\"sex\",\"F\",81,8) implication(\"famsup\",\"yes\",\"Mjob\",\"at_home\",\"Fjob\",\"other\",\"sex\",\"F\",87,7) implication(\"activities\",\"no\",\"Mjob\",\"at_home\",\"Fjob\",\"other\",\"sex\",\"F\",82,7) implication(\"address\",\"U\",\"Mjob\",\"at_home\",\"Fjob\",\"other\",\"sex\",\"F\",80,5) implication(\"famsup\",\"yes\",\"internet\",\"no\",\"Fjob\",\"other\",\"sex\",\"F\",88,6) implication(\"higher\",\"yes\",\"schoolsup\",\"yes\",\"Fjob\",\"other\",\"sex\",\"F\",80,5) implication(\"famsize\",\"GT3\",\"school\",\"MS\",\"Mjob\",\"at_home\",\"sex\",\"F\",80,7) implication(\"activities\",\"no\",\"school\",\"MS\",\"Mjob\",\"at_home\",\"sex\",\"F\",85,6) implication(\"absences\",\"0\",\"school\",\"MS\",\"Mjob\",\"at_home\",\"sex\",\"F\",80,5) implication(\"Fjob\",\"other\",\"school\",\"MS\",\"Mjob\",\"at_home\",\"sex\",\"F\",84,6) implication(\"school\",\"MS\",\"famsize\",\"GT3\",\"Mjob\",\"at_home\",\"sex\",\"F\",80,7) implication(\"famsup\",\"yes\",\"famsize\",\"GT3\",\"Mjob\",\"at_home\",\"sex\",\"F\",84,8) implication(\"internet\",\"yes\",\"famsize\",\"GT3\",\"Mjob\",\"at_home\",\"sex\",\"F\",82,7) implication(\"absences\",\"0\",\"famsize\",\"GT3\",\"Mjob\",\"at_home\",\"sex\",\"F\",80,5) implication(\"Fjob\",\"other\",\"famsize\",\"GT3\",\"Mjob\",\"at_home\",\"sex\",\"F\",81,8) implication(\"famsup\",\"yes\",\"reason\",\"course\",\"Mjob\",\"at_home\",\"sex\",\"F\",80,6) implication(\"activities\",\"no\",\"reason\",\"course\",\"Mjob\",\"at_home\",\"sex\",\"F\",82,6) implication(\"activities\",\"no\",\"schoolsup\",\"no\",\"Mjob\",\"at_home\",\"sex\",\"F\",80,10) implication(\"absences\",\"0\",\"schoolsup\",\"no\",\"Mjob\",\"at_home\",\"sex\",\"F\",81,7) implication(\"famsize\",\"GT3\",\"famsup\",\"yes\",\"Mjob\",\"at_home\",\"sex\",\"F\",84,8) implication(\"reason\",\"course\",\"famsup\",\"yes\",\"Mjob\",\"at_home\",\"sex\",\"F\",80,6) implication(\"activities\",\"no\",\"famsup\",\"yes\",\"Mjob\",\"at_home\",\"sex\",\"F\",84,7) implication(\"school\",\"GP\",\"famsup\",\"yes\",\"Mjob\",\"at_home\",\"sex\",\"F\",83,5) implication(\"Fjob\",\"other\",\"famsup\",\"yes\",\"Mjob\",\"at_home\",\"sex\",\"F\",87,7) implication(\"activities\",\"no\",\"paid\",\"no\",\"Mjob\",\"at_home\",\"sex\",\"F\",80,11) implication(\"absences\",\"0\",\"paid\",\"no\",\"Mjob\",\"at_home\",\"sex\",\"F\",82,7) implication(\"school\",\"MS\",\"activities\",\"no\",\"Mjob\",\"at_home\",\"sex\",\"F\",85,6) implication(\"reason\",\"course\",\"activities\",\"no\",\"Mjob\",\"at_home\",\"sex\",\"F\",82,6) implication(\"schoolsup\",\"no\",\"activities\",\"no\",\"Mjob\",\"at_home\",\"sex\",\"F\",80,10) implication(\"famsup\",\"yes\",\"activities\",\"no\",\"Mjob\",\"at_home\",\"sex\",\"F\",84,7) implication(\"paid\",\"no\",\"activities\",\"no\",\"Mjob\",\"at_home\",\"sex\",\"F\",80,11) implication(\"nursery\",\"yes\",\"activities\",\"no\",\"Mjob\",\"at_home\",\"sex\",\"F\",83,9) implication(\"higher\",\"yes\",\"activities\",\"no\",\"Mjob\",\"at_home\",\"sex\",\"F\",80,9) implication(\"internet\",\"yes\",\"activities\",\"no\",\"Mjob\",\"at_home\",\"sex\",\"F\",86,5) implication(\"address\",\"U\",\"activities\",\"no\",\"Mjob\",\"at_home\",\"sex\",\"F\",84,7) implication(\"Fjob\",\"other\",\"activities\",\"no\",\"Mjob\",\"at_home\",\"sex\",\"F\",82,7) implication(\"activities\",\"no\",\"nursery\",\"yes\",\"Mjob\",\"at_home\",\"sex\",\"F\",83,9) implication(\"activities\",\"no\",\"higher\",\"yes\",\"Mjob\",\"at_home\",\"sex\",\"F\",80,9) implication(\"famsize\",\"GT3\",\"internet\",\"yes\",\"Mjob\",\"at_home\",\"sex\",\"F\",82,7) implication(\"activities\",\"no\",\"internet\",\"yes\",\"Mjob\",\"at_home\",\"sex\",\"F\",86,5) implication(\"famsup\",\"yes\",\"school\",\"GP\",\"Mjob\",\"at_home\",\"sex\",\"F\",83,5) implication(\"address\",\"U\",\"school\",\"GP\",\"Mjob\",\"at_home\",\"sex\",\"F\",80,6) implication(\"activities\",\"no\",\"address\",\"U\",\"Mjob\",\"at_home\",\"sex\",\"F\",84,7) implication(\"school\",\"GP\",\"address\",\"U\",\"Mjob\",\"at_home\",\"sex\",\"F\",80,6) implication(\"Fjob\",\"other\",\"address\",\"U\",\"Mjob\",\"at_home\",\"sex\",\"F\",80,5) implication(\"school\",\"MS\",\"absences\",\"0\",\"Mjob\",\"at_home\",\"sex\",\"F\",80,5) implication(\"famsize\",\"GT3\",\"absences\",\"0\",\"Mjob\",\"at_home\",\"sex\",\"F\",80,5) implication(\"schoolsup\",\"no\",\"absences\",\"0\",\"Mjob\",\"at_home\",\"sex\",\"F\",81,7) implication(\"paid\",\"no\",\"absences\",\"0\",\"Mjob\",\"at_home\",\"sex\",\"F\",82,7) implication(\"school\",\"MS\",\"Fjob\",\"other\",\"Mjob\",\"at_home\",\"sex\",\"F\",84,6) implication(\"famsize\",\"GT3\",\"Fjob\",\"other\",\"Mjob\",\"at_home\",\"sex\",\"F\",81,8) implication(\"famsup\",\"yes\",\"Fjob\",\"other\",\"Mjob\",\"at_home\",\"sex\",\"F\",87,7) implication(\"activities\",\"no\",\"Fjob\",\"other\",\"Mjob\",\"at_home\",\"sex\",\"F\",82,7) implication(\"address\",\"U\",\"Fjob\",\"other\",\"Mjob\",\"at_home\",\"sex\",\"F\",80,5) implication(\"activities\",\"no\",\"famsup\",\"yes\",\"internet\",\"no\",\"sex\",\"F\",80,7) implication(\"Fjob\",\"other\",\"famsup\",\"yes\",\"internet\",\"no\",\"sex\",\"F\",88,6) implication(\"famsup\",\"yes\",\"activities\",\"no\",\"internet\",\"no\",\"sex\",\"F\",80,7) implication(\"famsup\",\"yes\",\"Fjob\",\"other\",\"internet\",\"no\",\"sex\",\"F\",88,6) implication(\"Fjob\",\"other\",\"higher\",\"yes\",\"schoolsup\",\"yes\",\"sex\",\"F\",80,5) implication(\"higher\",\"yes\",\"Fjob\",\"other\",\"schoolsup\",\"yes\",\"sex\",\"F\",80,5)\n",
      "\n",
      "\n",
      "\n",
      "\n"
     ]
    }
   ],
   "source": [
    "check_implication(potential_proxy_string, datafile)"
   ]
  },
  {
   "cell_type": "markdown",
   "id": "3e714445",
   "metadata": {},
   "source": [
    "---"
   ]
  },
  {
   "cell_type": "markdown",
   "id": "e575f6c9",
   "metadata": {},
   "source": [
    "⚠ If the previous cell yields **Notebook errors**, do the following steps instead:"
   ]
  },
  {
   "cell_type": "code",
   "execution_count": 20,
   "id": "16e06d07",
   "metadata": {},
   "outputs": [
    {
     "name": "stdout",
     "output_type": "stream",
     "text": [
      "datafile: clingo_data/data-student-performance-por.lp\n",
      "dataset: student-performance-por\n"
     ]
    }
   ],
   "source": [
    "auxfilename = \"potential_proxies_\" + dataset + \".lp\"\n",
    "f = open(auxfilename,\"w\")\n",
    "f.write(potential_proxy_string)\n",
    "print(\"datafile:\", datafile)\n",
    "print(\"dataset:\", dataset)"
   ]
  },
  {
   "cell_type": "markdown",
   "id": "d4c709aa",
   "metadata": {},
   "source": [
    "Run the following in a command line in the root of the repo:\n",
    "\n",
    "```python3 python_scripts/multi_proxy_undersampled.py potential_proxies_<dataset>.lp <datafile>```\n",
    "\n",
    "For example:\n",
    "\n",
    "```python3 python_scripts/multi_proxy_undersampled.py potential_proxies_student-performance-por.lp clingo_data/data-student-performance-por.lp```"
   ]
  },
  {
   "cell_type": "markdown",
   "id": "538c2274",
   "metadata": {},
   "source": [
    "---"
   ]
  }
 ],
 "metadata": {
  "kernelspec": {
   "display_name": "Python 3 (ipykernel)",
   "language": "python",
   "name": "python3"
  },
  "language_info": {
   "codemirror_mode": {
    "name": "ipython",
    "version": 3
   },
   "file_extension": ".py",
   "mimetype": "text/x-python",
   "name": "python",
   "nbconvert_exporter": "python",
   "pygments_lexer": "ipython3",
   "version": "3.9.13"
  }
 },
 "nbformat": 4,
 "nbformat_minor": 5
}
