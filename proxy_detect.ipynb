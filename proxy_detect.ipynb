{
 "cells": [
  {
   "cell_type": "markdown",
   "id": "aaa94a67",
   "metadata": {},
   "source": [
    "## Imports"
   ]
  },
  {
   "cell_type": "code",
   "execution_count": null,
   "id": "61b1333d",
   "metadata": {},
   "outputs": [],
   "source": [
    "import os\n",
    "import sys\n",
    "\n",
    "import io\n",
    "from contextlib import redirect_stdout\n",
    "\n",
    "sys.path.insert(0, os.getcwd() + '/python_scripts')\n",
    "\n",
    "from transform_data import csv_to_clingo, undersample_csv_to_clingo\n",
    "from single_proxy import get_single_proxies\n",
    "from multi_proxy_choice_rules import get_proxy_clusters_choice_rules\n",
    "from multi_proxy_hardcoded import get_proxy_clusters_hardcoded\n",
    "from multi_proxy_undersampled import process_potential_implications, check_implication\n"
   ]
  },
  {
   "cell_type": "markdown",
   "id": "18d3d55b",
   "metadata": {},
   "source": [
    "## General info\n",
    "\n",
    "* Whenever default values are meantioned, they are as follows:\n",
    "\n",
    "| Attribute | Default Value |\n",
    "|---|---|\n",
    "| Minimum implication probability | 80 |\n",
    "| Maximum incidence probability | 5 |\n",
    "| Minimum proxy cluster size | 1 |\n",
    "| Maximum proxy cluster size | 3 |\n",
    "\n",
    "* All the above mentioned attribute values should be **integers**\n",
    "* There may be issues with running clingo programs on jupyter notebook. For example, a `IOPub data rate exceeded` might occur. In this case, it can be useful to run the required instructions on an external python file or in a command line \n",
    "* Calls to functions from files in the `python_scripts` directory should be done in the root of this repo"
   ]
  },
  {
   "cell_type": "markdown",
   "id": "632728e5",
   "metadata": {},
   "source": [
    "---"
   ]
  },
  {
   "cell_type": "markdown",
   "id": "20d0c756",
   "metadata": {},
   "source": [
    "## .csv data transformation"
   ]
  },
  {
   "cell_type": "markdown",
   "id": "ae1364f8",
   "metadata": {},
   "source": [
    " **⚠ Edit cell below** to use preferred dataset"
   ]
  },
  {
   "cell_type": "code",
   "execution_count": null,
   "id": "fa5251fc",
   "metadata": {},
   "outputs": [],
   "source": [
    "sourcedatafolder = \"example_datasets_no_ordinals/\"\n",
    "outdatafolder = \"clingo_data/\"\n",
    "\n",
    "#dataset = \"student-performance-mat\"\n",
    "#protected_attributes = [\"sex\"]\n",
    "#outcome_attribute = \"G3\"\n",
    "\n",
    "dataset = \"student-performance-por\"\n",
    "protected_attributes = [\"sex\"]\n",
    "outcome_attribute = \"G3\"\n",
    "\n",
    "#dataset = \"adult\"\n",
    "#protected_attributes = [\"gender\", \"race\"]\n",
    "#outcome_attribute = \"income\"\n",
    "\n",
    "#dataset = \"bank-marketing\"\n",
    "#protected_attributes = [\"marital\"]\n",
    "#outcome_attribute = \"deposit\"\n",
    "\n",
    "#dataset = \"compas\"\n",
    "#protected_attributes = [\"race\", \"sex\"]\n",
    "#outcome_attribute = \"is_violent_recid\"\n",
    "\n",
    "#dataset = \"german-credit\"\n",
    "#protected_attributes = [\"age_cat\"]\n",
    "#outcome_attribute = \"class\"\n",
    "\n",
    "#dataset = \"credit-card-clients\"\n",
    "#protected_attributes = [\"SEX\", \"MARRIAGE\"]\n",
    "#outcome_attribute = \"default.payment.next.month\"\n",
    "\n",
    "#dataset = \"diabetes\"\n",
    "#protected_attributes = [\"gender\"]\n",
    "#outcome_attribute = \"readmitted\"\n",
    "\n",
    "#dataset = \"kdd-adult-census-income\"\n",
    "#protected_attributes = [\"sex\", \"race\"]\n",
    "#outcome_attribute = \"income\"\n",
    "\n",
    "#dataset = \"law-school\"\n",
    "#protected_attributes = [\"sex\", \"race\", \"race1\", \"race2\"]\n",
    "#outcome_attribute = \"gpa\"\n",
    "\n",
    "#dataset = \"open-university-learning-analytics\"\n",
    "#protected_attributes = [\"gender\"]\n",
    "#outcome_attribute = \"final_result\""
   ]
  },
  {
   "cell_type": "markdown",
   "id": "74082177",
   "metadata": {},
   "source": [
    "---"
   ]
  },
  {
   "cell_type": "markdown",
   "id": "3ab2d53a",
   "metadata": {},
   "source": [
    "Creating output directory if it does not exist already"
   ]
  },
  {
   "cell_type": "code",
   "execution_count": null,
   "id": "985426c4",
   "metadata": {},
   "outputs": [],
   "source": [
    "!mkdir -p $outdatafolder"
   ]
  },
  {
   "cell_type": "markdown",
   "id": "12732039",
   "metadata": {},
   "source": [
    "Creating data file readable by clingo programs"
   ]
  },
  {
   "cell_type": "code",
   "execution_count": null,
   "id": "8da9d6c9",
   "metadata": {},
   "outputs": [],
   "source": [
    "csv_to_clingo(sourcedatafolder, dataset, outdatafolder, protected_attributes, outcome_attribute)"
   ]
  },
  {
   "cell_type": "markdown",
   "id": "432ddede",
   "metadata": {},
   "source": [
    " **⚠ Resulting file name** should be the following `datafile`:"
   ]
  },
  {
   "cell_type": "code",
   "execution_count": null,
   "id": "5b7ecfdc",
   "metadata": {},
   "outputs": [],
   "source": [
    "datafile = outdatafolder + \"data-\" + dataset + \".lp\""
   ]
  },
  {
   "cell_type": "markdown",
   "id": "24a803e3",
   "metadata": {},
   "source": [
    "---"
   ]
  },
  {
   "cell_type": "markdown",
   "id": "63f90a2b",
   "metadata": {},
   "source": [
    "# Single proxy discovery"
   ]
  },
  {
   "cell_type": "markdown",
   "id": "0ef60c6d",
   "metadata": {},
   "source": [
    "## Alternative 1 - running clingo directly"
   ]
  },
  {
   "cell_type": "code",
   "execution_count": null,
   "id": "884a0d8a",
   "metadata": {},
   "outputs": [],
   "source": [
    "!clingo $datafile clingo_scripts/single_proxy_default.lp"
   ]
  },
  {
   "cell_type": "markdown",
   "id": "835cabae",
   "metadata": {},
   "source": [
    "## Alternative 2 - running clingo through python "
   ]
  },
  {
   "cell_type": "markdown",
   "id": "59fb940b",
   "metadata": {},
   "source": [
    "```\n",
    "get_single_proxies(\n",
    "    datafile: str, \n",
    "    min_implication_probability: optional int, \n",
    "    min_incidence_probability: optional int,\n",
    ")\n",
    "```"
   ]
  },
  {
   "cell_type": "markdown",
   "id": "64f5dac3",
   "metadata": {},
   "source": [
    "### Alternative 2.1 - using default values"
   ]
  },
  {
   "cell_type": "code",
   "execution_count": null,
   "id": "096c1080",
   "metadata": {},
   "outputs": [],
   "source": [
    "get_single_proxies(datafile)"
   ]
  },
  {
   "cell_type": "markdown",
   "id": "09297e69",
   "metadata": {},
   "source": [
    "### Alternative 2.2 - customizing minimum implication and incidence proabilities"
   ]
  },
  {
   "cell_type": "code",
   "execution_count": null,
   "id": "3b4949fc",
   "metadata": {},
   "outputs": [],
   "source": [
    "get_single_proxies(datafile, 85, 1)"
   ]
  },
  {
   "cell_type": "markdown",
   "id": "6ca1e1a0",
   "metadata": {},
   "source": [
    "---"
   ]
  },
  {
   "cell_type": "markdown",
   "id": "1805e090",
   "metadata": {},
   "source": [
    "# Mutliple proxy discovery"
   ]
  },
  {
   "cell_type": "markdown",
   "id": "b5254526",
   "metadata": {},
   "source": [
    "## Choice Rules method"
   ]
  },
  {
   "cell_type": "markdown",
   "id": "5f28df0f",
   "metadata": {},
   "source": [
    "### Alternative 1 - running clingo directly\n",
    "⚠ This method is **unadvised** since it potentially takes a longer runtime.\n",
    "It will use the mentioned default values."
   ]
  },
  {
   "cell_type": "code",
   "execution_count": null,
   "id": "fda89b18",
   "metadata": {
    "scrolled": true
   },
   "outputs": [],
   "source": [
    "!clingo -W none $datafile clingo_scripts/multi_proxy_choice_rules_default.lp 0"
   ]
  },
  {
   "cell_type": "markdown",
   "id": "43a8da5a",
   "metadata": {},
   "source": [
    "### Alternative 2 - running clingo though python"
   ]
  },
  {
   "cell_type": "markdown",
   "id": "f20362a2",
   "metadata": {},
   "source": [
    "```\n",
    "get_proxy_clusters_choice_rules(\n",
    "    datafile: str, \n",
    "    min_implication_probability: optional int, \n",
    "    min_incidence_probability: optional int,\n",
    "    min_cluster_size: optional int,\n",
    "    max_cluster_size: optional int\n",
    ")\n",
    "```"
   ]
  },
  {
   "cell_type": "markdown",
   "id": "a3fd59b3",
   "metadata": {},
   "source": [
    "#### Alternative 2.1 - using default values"
   ]
  },
  {
   "cell_type": "code",
   "execution_count": null,
   "id": "12bd4865",
   "metadata": {
    "scrolled": true
   },
   "outputs": [],
   "source": [
    "get_proxy_clusters_choice_rules(datafile)\n",
    "# Same as\n",
    "# get_proxy_clusters_choice_rules(datafile, 80, 5, 1, 3)"
   ]
  },
  {
   "cell_type": "markdown",
   "id": "2ba26ebb",
   "metadata": {},
   "source": [
    "#### Alternative 2.2 - customizing values"
   ]
  },
  {
   "cell_type": "code",
   "execution_count": null,
   "id": "bac278fa",
   "metadata": {},
   "outputs": [],
   "source": [
    "get_proxy_clusters_choice_rules(datafile, 80, 1, 1, 1)"
   ]
  },
  {
   "cell_type": "markdown",
   "id": "2ab8d11a",
   "metadata": {},
   "source": [
    "## Hardcoded method"
   ]
  },
  {
   "cell_type": "markdown",
   "id": "ff38fb06",
   "metadata": {},
   "source": [
    "This method uses default values.\n",
    "\n",
    "⚠ The `get_proxy_clusters_hardcoded` function should only be called in the root of this repo. \n",
    "\n",
    "The minimum implication and incidence probability values **can** be changed but they require some hardcoding. The clingo rules for this method are in the three following files:\n",
    "* `clingo_scripts/multi_proxy_hardcoded_1.lp`\n",
    "* `clingo_scripts/multi_proxy_hardcoded_2.lp`\n",
    "* `clingo_scripts/multi_proxy_hardcoded_3.lp`\n",
    "\n",
    "To change the minimum **implication** probability, the above mentioned files must update the following code line\n",
    "> `    P >= 80,` >> `    P >= <new-minimum-implication>, `\n",
    "\n",
    "\n",
    "To change the minimum **incidence** probability, the above mentioned files must update the following code line\n",
    "> `    I >= 5,` >> `    I >= <new-minimum-incidence>, `"
   ]
  },
  {
   "cell_type": "markdown",
   "id": "f8ba74cd",
   "metadata": {},
   "source": [
    "```\n",
    "get_proxy_clusters_hardcoded(\n",
    "    datafile: str\n",
    ")\n",
    "```"
   ]
  },
  {
   "cell_type": "code",
   "execution_count": null,
   "id": "32178f4a",
   "metadata": {},
   "outputs": [],
   "source": [
    "get_proxy_clusters_hardcoded(datafile)"
   ]
  },
  {
   "cell_type": "markdown",
   "id": "375cce22",
   "metadata": {},
   "source": [
    "## Undersampled Hardcoded method\n",
    "\n",
    "⚠ This method requires previous data transformation (undersampling) and subsequent verifications."
   ]
  },
  {
   "cell_type": "markdown",
   "id": "e3333b14",
   "metadata": {},
   "source": [
    "### .csv data transformation\n",
    " **⚠ Edit cell bellow** if needed\n"
   ]
  },
  {
   "cell_type": "code",
   "execution_count": null,
   "id": "559e02fe",
   "metadata": {},
   "outputs": [],
   "source": [
    "sourcedatafolder = \"example_datasets_no_ordinals/\"\n",
    "undersampleddatafolder = \"undersampled_clingo_data/\"\n",
    "n_records = 500"
   ]
  },
  {
   "cell_type": "code",
   "execution_count": null,
   "id": "56d6d4be",
   "metadata": {},
   "outputs": [],
   "source": [
    "!mkdir -p $undersampleddatafolder"
   ]
  },
  {
   "cell_type": "code",
   "execution_count": null,
   "id": "f843c874",
   "metadata": {},
   "outputs": [],
   "source": [
    "undersample_csv_to_clingo(sourcedatafolder, dataset, undersampleddatafolder, protected_attributes, outcome_attribute, n_records)"
   ]
  },
  {
   "cell_type": "markdown",
   "id": "0486e3d9",
   "metadata": {},
   "source": [
    " **⚠ Resulting file name** should be the following `undersampleddatafile`:"
   ]
  },
  {
   "cell_type": "code",
   "execution_count": null,
   "id": "ea551096",
   "metadata": {},
   "outputs": [],
   "source": [
    "undersampleddatafile = undersampleddatafolder + \"recs-\" + str(n_records) + \"-data-\" + dataset + \".lp\""
   ]
  },
  {
   "cell_type": "markdown",
   "id": "5a830281",
   "metadata": {},
   "source": [
    "### Hardcoded regular usage\n",
    "But we redirect the clingo output into a string variable "
   ]
  },
  {
   "cell_type": "code",
   "execution_count": null,
   "id": "6f2ca98d",
   "metadata": {
    "scrolled": true
   },
   "outputs": [],
   "source": [
    "clingo_output = \"\"\n",
    "\n",
    "with io.StringIO() as buf, redirect_stdout(buf):\n",
    "    get_proxy_clusters_hardcoded(undersampleddatafile)\n",
    "    clingo_output = buf.getvalue()\n",
    "    \n",
    "print(clingo_output)"
   ]
  },
  {
   "cell_type": "markdown",
   "id": "64f55965",
   "metadata": {},
   "source": [
    "### Verifying proxies against full dataset"
   ]
  },
  {
   "cell_type": "markdown",
   "id": "695ab084",
   "metadata": {},
   "source": [
    "Processing potential proxies from previous step"
   ]
  },
  {
   "cell_type": "code",
   "execution_count": null,
   "id": "5287894a",
   "metadata": {},
   "outputs": [],
   "source": [
    "potential_proxy_string = \"\"\n",
    "\n",
    "with io.StringIO() as buf, redirect_stdout(buf):\n",
    "    process_potential_implications(clingo_output)\n",
    "    potential_proxy_string = buf.getvalue()\n",
    "    \n",
    "print(potential_proxy_string)\n"
   ]
  },
  {
   "cell_type": "markdown",
   "id": "65a6edc6",
   "metadata": {},
   "source": [
    "The minimum implication and incidence probability values can be changed as previously explained. The clingo rules for this method are in the three following files:\n",
    "\n",
    "* `clingo_scripts/multi_proxy_hardcoded_check_1.lp`\n",
    "* `clingo_scripts/multi_proxy_hardcoded_check_2.lp`\n",
    "* `clingo_scripts/multi_proxy_hardcoded_check_3.lp`\n"
   ]
  },
  {
   "cell_type": "markdown",
   "id": "86fbbb36",
   "metadata": {},
   "source": [
    "```\n",
    "check_implication(\n",
    "    potential_proxy_string: str,\n",
    "    datafile: str\n",
    ")\n",
    "```\n"
   ]
  },
  {
   "cell_type": "code",
   "execution_count": null,
   "id": "e1f0131f",
   "metadata": {},
   "outputs": [],
   "source": [
    "check_implication(potential_proxy_string, datafile)"
   ]
  },
  {
   "cell_type": "markdown",
   "id": "3e714445",
   "metadata": {},
   "source": [
    "---"
   ]
  },
  {
   "cell_type": "markdown",
   "id": "e575f6c9",
   "metadata": {},
   "source": [
    "⚠ If the previous cell yields **Notebook errors**, do the following steps instead:"
   ]
  },
  {
   "cell_type": "code",
   "execution_count": null,
   "id": "16e06d07",
   "metadata": {},
   "outputs": [],
   "source": [
    "auxfilename = \"potential_proxies_\" + dataset + \".lp\"\n",
    "f = open(auxfilename,\"w\")\n",
    "f.write(potential_proxy_string)\n",
    "print(\"datafile:\", datafile)\n",
    "print(\"dataset:\", dataset)"
   ]
  },
  {
   "cell_type": "markdown",
   "id": "d4c709aa",
   "metadata": {},
   "source": [
    "Run the following in a command line in the root of the repo:\n",
    "\n",
    "```python3 python_scripts/multi_proxy_undersampled.py potential_proxies_<dataset>.lp <datafile>```\n",
    "\n",
    "For example:\n",
    "\n",
    "```python3 python_scripts/multi_proxy_undersampled.py potential_proxies_student-performance-por.lp clingo_data/data-student-performance-por.lp```"
   ]
  },
  {
   "cell_type": "markdown",
   "id": "538c2274",
   "metadata": {},
   "source": [
    "---"
   ]
  }
 ],
 "metadata": {
  "kernelspec": {
   "display_name": "Python 3 (ipykernel)",
   "language": "python",
   "name": "python3"
  },
  "language_info": {
   "codemirror_mode": {
    "name": "ipython",
    "version": 3
   },
   "file_extension": ".py",
   "mimetype": "text/x-python",
   "name": "python",
   "nbconvert_exporter": "python",
   "pygments_lexer": "ipython3",
   "version": "3.9.13"
  }
 },
 "nbformat": 4,
 "nbformat_minor": 5
}
